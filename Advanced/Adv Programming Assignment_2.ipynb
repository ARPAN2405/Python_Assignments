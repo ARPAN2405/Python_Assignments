{
 "cells": [
  {
   "cell_type": "markdown",
   "metadata": {},
   "source": [
    "## Programming Assignment_2\n",
    "### By: Arpan Dutta"
   ]
  },
  {
   "cell_type": "markdown",
   "metadata": {},
   "source": [
    "### Q1. Write a function that takes a positive integer num and calculates how many dots exist in a pentagonal shape around the center dot on the Nth iteration.\n",
    "\n",
    "In the image below you can see the first iteration is only a single dot. On the second, there are 6 dots. On the third, there are 16 dots, and on the fourth there are 31 dots.\n",
    "\n",
    "\n",
    "\n",
    "\n",
    "\n",
    "\n",
    "\n",
    "\n",
    "Return the number of dots that exist in the whole pentagon on the Nth iteration.\n",
    "\n",
    "Examples\n",
    "\n",
    "pentagonal(1) ➞ 1\n",
    "\n",
    "pentagonal(2) ➞ 6\n",
    "\n",
    "pentagonal(3) ➞ 16\n",
    "\n",
    "pentagonal(8) ➞ 141\n"
   ]
  },
  {
   "cell_type": "code",
   "execution_count": 6,
   "metadata": {
    "scrolled": true
   },
   "outputs": [
    {
     "name": "stdout",
     "output_type": "stream",
     "text": [
      "pentagon(1) ->  1\n",
      "pentagon(2) ->  6\n",
      "pentagon(3) ->  16\n",
      "pentagon(8) ->  141\n"
     ]
    }
   ],
   "source": [
    "#define function\n",
    "def pentagon(iter_num):\n",
    "    temp_sum = 1\n",
    "    for i in range(1, iter_num):\n",
    "        temp_sum += i*5\n",
    "    return temp_sum\n",
    "\n",
    "#testing function\n",
    "print(\"pentagon(1) -> \", pentagon(1))\n",
    "print(\"pentagon(2) -> \", pentagon(2))\n",
    "print(\"pentagon(3) -> \", pentagon(3))\n",
    "print(\"pentagon(8) -> \", pentagon(8))"
   ]
  },
  {
   "cell_type": "markdown",
   "metadata": {},
   "source": [
    "### Q2. Make a function that encrypts a given input with these steps:\n",
    "\n",
    "Input: \"apple\"\n",
    "\n",
    "Step 1: Reverse the input: \"elppa\"\n",
    "\n",
    "Step 2: Replace all vowels using the following chart:\n",
    "\n",
    "a => 0\n",
    "e => 1\n",
    "i => 2\n",
    "o => 2\n",
    "u => 3\n",
    "\n",
    "\"1lpp0\"\n",
    "\n",
    "Step 3: Add \"aca\" to the end of the word: \"1lpp0aca\"\n",
    "\n",
    "Output: \"1lpp0aca\"\n",
    "\n",
    "Examples\n",
    "\n",
    "encrypt(\"banana\") ➞ \"0n0n0baca\"\n",
    "\n",
    "encrypt(\"karaca\") ➞ \"0c0r0kaca\"\n",
    "\n",
    "encrypt(\"burak\") ➞ \"k0r3baca\"\n",
    "\n",
    "encrypt(\"alpaca\") ➞ \"0c0pl0aca\"\n"
   ]
  },
  {
   "cell_type": "code",
   "execution_count": 12,
   "metadata": {
    "scrolled": true
   },
   "outputs": [
    {
     "name": "stdout",
     "output_type": "stream",
     "text": [
      "encrypt(\"banana\") ->  0n0n0baca\n",
      "encrypt(\"karaca\") ->  0c0r0kaca\n",
      "encrypt(\"burak\") ->  k0r3baca\n",
      "encrypt(\"alpaca\") ->  0c0pl0aca\n"
     ]
    }
   ],
   "source": [
    "#define function\n",
    "def encrypt(input_str):\n",
    "    temp_str = \"\"\n",
    "    temp_dict = {\"a\": 0, \"e\": 1, \"i\": 2, \"o\": 2, \"u\":3}\n",
    "    for i in reversed(input_str):\n",
    "        if i not in temp_dict.keys():\n",
    "            temp_str += i\n",
    "        else:\n",
    "            temp_str += str(temp_dict[i])\n",
    "    return temp_str + \"aca\"\n",
    "\n",
    "#testing function\n",
    "print('encrypt(\"banana\") -> ', encrypt(\"banana\"))\n",
    "print('encrypt(\"karaca\") -> ', encrypt(\"karaca\"))\n",
    "print('encrypt(\"burak\") -> ', encrypt(\"burak\"))\n",
    "print('encrypt(\"alpaca\") -> ', encrypt(\"alpaca\"))    "
   ]
  },
  {
   "cell_type": "markdown",
   "metadata": {},
   "source": [
    "### Q3. Given the month and year as numbers, return whether that month contains a Friday 13th.(i.e You can check Python's datetime module)\n",
    "\n",
    "Examples\n",
    "\n",
    "has_friday_13(3, 2020) ➞ True\n",
    "\n",
    "has_friday_13(10, 2017) ➞ True\n",
    "\n",
    "has_friday_13(1, 1985) ➞ False\n"
   ]
  },
  {
   "cell_type": "code",
   "execution_count": 19,
   "metadata": {},
   "outputs": [
    {
     "name": "stdout",
     "output_type": "stream",
     "text": [
      "has_friday_13(3, 2020) ->  True\n",
      "has_friday_13(10, 2017) ->  True\n",
      "has_friday_13(1, 1985) ->  False\n"
     ]
    }
   ],
   "source": [
    "import datetime \n",
    "def has_friday_13(month, year):\n",
    "    if datetime.datetime.strptime('13 '+' '+ str(month)+' '+str(year), '%d %m %Y').weekday()==4:\n",
    "        return True\n",
    "    else:\n",
    "        return False\n",
    "\n",
    "print('has_friday_13(3, 2020) -> ', has_friday_13(3, 2020))\n",
    "print('has_friday_13(10, 2017) -> ', has_friday_13(10, 2017))\n",
    "print('has_friday_13(1, 1985) -> ', has_friday_13(1, 1985))"
   ]
  },
  {
   "cell_type": "markdown",
   "metadata": {},
   "source": [
    "### Q4. Write a regular expression that will help us count how many bad cookies are produced every day. You must use RegEx negative lookbehind.\n",
    "\n",
    "Example\n",
    "\n",
    "lst = [\"bad cookie\", \"good cookie\", \"bad cookie\", \"good cookie\", \"good cookie\"]\n",
    "pattern = \"yourregularexpressionhere\"\n",
    "\n",
    "len(re.findall(pattern, \", \".join(lst))) ➞ 2\n"
   ]
  },
  {
   "cell_type": "code",
   "execution_count": 6,
   "metadata": {
    "scrolled": true
   },
   "outputs": [
    {
     "data": {
      "text/plain": [
       "2"
      ]
     },
     "execution_count": 6,
     "metadata": {},
     "output_type": "execute_result"
    }
   ],
   "source": [
    "import re\n",
    "#define function\n",
    "def count(lst):\n",
    "    pattern = \"bad cookie\"\n",
    "    return len(re.findall(pattern, \",\".join(lst)))\n",
    "\n",
    "#testing function\n",
    "lst = [\"bad cookie\", \"good cookie\", \"bad cookie\", \"good cookie\", \"good cookie\"]\n",
    "count(lst)"
   ]
  },
  {
   "cell_type": "markdown",
   "metadata": {},
   "source": [
    "### Q5. Given a list of words in the singular form, return a set of those words in the plural form if they appear more than once in the list.\n",
    "\n",
    "Examples\n",
    "\n",
    "pluralize([\"cow\", \"pig\", \"cow\", \"cow\"]) ➞ { \"cows\", \"pig\" }\n",
    "\n",
    "pluralize([\"table\", \"table\", \"table\"]) ➞ { \"tables\" }\n",
    "\n",
    "pluralize([\"chair\", \"pencil\", \"arm\"]) ➞ { \"chair\", \"pencil\", \"arm\" }\n"
   ]
  },
  {
   "cell_type": "code",
   "execution_count": 5,
   "metadata": {},
   "outputs": [
    {
     "name": "stdout",
     "output_type": "stream",
     "text": [
      "pluralize([\"cow\", \"pig\", \"cow\", \"cow\"]) ->  ['cows', 'pig']\n",
      "pluralize([\"table\", \"table\", \"table\"]) ->  ['tables']\n",
      "pluralize([\"chair\", \"pencil\", \"arm\"]) ->  ['chair', 'pencil', 'arm']\n"
     ]
    }
   ],
   "source": [
    "#define function\n",
    "def pluralize(lst):\n",
    "    temp_dict = {}\n",
    "    temp_lst = []\n",
    "    for i in lst:\n",
    "        if i not in temp_dict:\n",
    "            temp_dict[i] = 1\n",
    "        else:\n",
    "            temp_dict[i] += 1\n",
    "    \n",
    "    for i, j in temp_dict.items():\n",
    "        if j >= 2:\n",
    "            temp_lst.append(i + \"s\")\n",
    "        else:\n",
    "            temp_lst.append(i)\n",
    "    return temp_lst\n",
    "print('pluralize([\"cow\", \"pig\", \"cow\", \"cow\"]) -> ', pluralize([\"cow\", \"pig\", \"cow\", \"cow\"]))\n",
    "print('pluralize([\"table\", \"table\", \"table\"]) -> ', pluralize([\"table\", \"table\", \"table\"]))\n",
    "print('pluralize([\"chair\", \"pencil\", \"arm\"]) -> ', pluralize([\"chair\", \"pencil\", \"arm\"]))"
   ]
  }
 ],
 "metadata": {
  "kernelspec": {
   "display_name": "Python 3",
   "language": "python",
   "name": "python3"
  },
  "language_info": {
   "codemirror_mode": {
    "name": "ipython",
    "version": 3
   },
   "file_extension": ".py",
   "mimetype": "text/x-python",
   "name": "python",
   "nbconvert_exporter": "python",
   "pygments_lexer": "ipython3",
   "version": "3.8.8"
  }
 },
 "nbformat": 4,
 "nbformat_minor": 4
}
