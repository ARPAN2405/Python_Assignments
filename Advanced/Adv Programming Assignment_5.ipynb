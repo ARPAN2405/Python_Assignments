{
 "cells": [
  {
   "cell_type": "markdown",
   "metadata": {},
   "source": [
    "## Programming Assignment_5 (Advanced)\n",
    "### By: Arpan Dutta"
   ]
  },
  {
   "cell_type": "markdown",
   "metadata": {},
   "source": [
    "### Q1. Create a function that takes a number n (integer greater than zero) as an argument, and returns 2 if n is odd and 8 if n is even.\n",
    "\n",
    "You can only use the following arithmetic operators: addition of numbers +, subtraction of numbers -, multiplication of number *, division of number /, and exponentiation **.\n",
    "\n",
    "You are not allowed to use any other methods in this challenge (i.e. no if statements, comparison operators, etc).\n",
    "\n",
    "Examples\n",
    "\n",
    "f(1) ➞ 2\n",
    "\n",
    "f(2) ➞ 8\n",
    "\n",
    "f(3) ➞ 2\n"
   ]
  },
  {
   "cell_type": "code",
   "execution_count": 27,
   "metadata": {},
   "outputs": [
    {
     "name": "stdout",
     "output_type": "stream",
     "text": [
      "f(1) ->  2\n",
      "f(2) ->  8\n",
      "f(3) ->  2\n"
     ]
    }
   ],
   "source": [
    "def ref_dict(key):\n",
    "    tmp_dict = {0: 8, 1: 2, 2: 8, 3: 2, 4: 8, 5:2, 6: 8, 7: 2, 8: 8, 9: 2}\n",
    "    \n",
    "    return tmp_dict[key]\n",
    "\n",
    "def f(num):\n",
    "    digit = num - (int(num / 10) * 10)\n",
    "    \n",
    "    answer = ref_dict(digit)\n",
    "\n",
    "    return answer\n",
    "\n",
    "#testing function\n",
    "print(\"f(1) -> \", f(1))\n",
    "print(\"f(2) -> \", f(2))\n",
    "print(\"f(3) -> \", f(145))"
   ]
  },
  {
   "cell_type": "markdown",
   "metadata": {},
   "source": [
    "### Q2. Create a function that returns the majority vote in a list. A majority vote is an element that occurs > N/2 times in a list (where N is the length of the list).\n",
    "\n",
    "Examples\n",
    "\n",
    "majority_vote([\"A\", \"A\", \"B\"]) ➞ \"A\"\n",
    "\n",
    "majority_vote([\"A\", \"A\", \"A\", \"B\", \"C\", \"A\"]) ➞ \"A\"\n",
    "\n",
    "majority_vote([\"A\", \"B\", \"B\", \"A\", \"C\", \"C\"]) ➞ None\n"
   ]
  },
  {
   "cell_type": "code",
   "execution_count": 45,
   "metadata": {
    "scrolled": false
   },
   "outputs": [
    {
     "name": "stdout",
     "output_type": "stream",
     "text": [
      "majority_vote([\"A\", \"A\", \"B\"]) ->  A\n",
      "majority_vote([\"A\", \"A\", \"A\", \"B\", \"C\", \"A\"]) ->  A\n",
      "majority_vote([\"A\", \"B\", \"B\", \"A\", \"C\", \"C\"]) ->  None\n"
     ]
    }
   ],
   "source": [
    "#define function\n",
    "def majority_vote(lst):\n",
    "    temp_dict = {}\n",
    "    for i, j in enumerate(lst):\n",
    "        if j not in temp_dict.keys():\n",
    "            temp_dict[j] = 1\n",
    "        else:\n",
    "            temp_dict[j] += 1\n",
    "    \n",
    "    N = len(lst)\n",
    "    \n",
    "    for i, j in temp_dict.items():\n",
    "        if j > (N/2):\n",
    "            return i\n",
    "    return None\n",
    "\n",
    "    \n",
    "print('majority_vote([\"A\", \"A\", \"B\"]) -> ', majority_vote([\"A\", \"A\", \"B\"]))\n",
    "print('majority_vote([\"A\", \"A\", \"A\", \"B\", \"C\", \"A\"]) -> ', majority_vote([\"A\", \"A\", \"A\", \"B\", \"C\", \"A\"]))\n",
    "print('majority_vote([\"A\", \"B\", \"B\", \"A\", \"C\", \"C\"]) -> ', majority_vote([\"A\", \"B\", \"B\", \"A\", \"C\", \"C\"]))"
   ]
  },
  {
   "cell_type": "markdown",
   "metadata": {},
   "source": [
    "### Q3. Create a function that takes a string txt and censors any word from a given list lst. The text removed must be replaced by the given character char.\n",
    "\n",
    "Examples\n",
    "\n",
    "censor_string(\"Today is a Wednesday!\", [\"Today\", \"a\"], \"-\") ➞ \"----- is - Wednesday!\"\n",
    "\n",
    "censor_string(\"The cow jumped over the moon.\", [\"cow\", \"over\"], \"*\"), \"The *** jumped **** the moon.\")\n",
    "\n",
    "censor_string(\"Why did the chicken cross the road?\", [\"Did\", \"chicken\", \"road\"], \"*\") ➞ \"Why *** the ******* cross the ****?\"\n"
   ]
  },
  {
   "cell_type": "code",
   "execution_count": 52,
   "metadata": {
    "scrolled": true
   },
   "outputs": [
    {
     "name": "stdout",
     "output_type": "stream",
     "text": [
      "censor_string(\"Today is a Wednesday!\", [\"Today\", \"a\"], \"-\") ->  ***** is * Wednesday!\n",
      "censor_string(\"The cow jumped over the moon.\", [\"cow\", \"over\"], \"*\") ->  The *** jumped **** the moon.\n",
      "censor_string(\"Why did the chicken cross the road?\", [\"Did\", \"chicken\", \"road\"], \"*\") ->  Why did the ******* cross the road?\n"
     ]
    }
   ],
   "source": [
    "#define function\n",
    "def censor_string(input_str, list_of_old_words, new_char):\n",
    "    temp_list = input_str.split()\n",
    "    new_str = \"\"\n",
    "#     print(temp_str)\n",
    "    for i, j  in enumerate(temp_list):\n",
    "        if j in list_of_old_words:\n",
    "            new_str += \"*\" * len(j)\n",
    "            if len(new_str) != len(input_str):\n",
    "                new_str += \" \"\n",
    "        else:\n",
    "            new_str += j\n",
    "            if len(new_str) != len(input_str):\n",
    "                new_str += \" \"\n",
    "    return new_str\n",
    "    \n",
    "#tesing function    \n",
    "print('censor_string(\"Today is a Wednesday!\", [\"Today\", \"a\"], \"-\") -> ', censor_string(\"Today is a Wednesday!\", [\"Today\", \"a\"], \"-\"))\n",
    "print('censor_string(\"The cow jumped over the moon.\", [\"cow\", \"over\"], \"*\") -> ', censor_string(\"The cow jumped over the moon.\", [\"cow\", \"over\"], \"*\"))\n",
    "print('censor_string(\"Why did the chicken cross the road?\", [\"Did\", \"chicken\", \"road\"], \"*\") -> ', censor_string(\"Why did the chicken cross the road?\", [\"Did\", \"chicken\", \"road\"], \"*\"))"
   ]
  },
  {
   "cell_type": "markdown",
   "metadata": {},
   "source": [
    "### Q4. In mathematics a Polydivisible Number (or magic number) is a number in a given number base with digits abcde... that has the following properties:\n",
    "\n",
    "-  Its first digit a is not 0.\n",
    "- The number formed by its first two digits ab is a multiple of 2.\n",
    "- The number formed by its first three digits abc is a multiple of 3.\n",
    "- The number formed by its first four digits abcd is a multiple of 4.\n",
    "\n",
    "Create a function which takes an integer n and returns True if the given number is a Polydivisible Number and False otherwise.\n",
    "\n",
    "Examples\n",
    "\n",
    "is_polydivisible(1232) ➞ True\n",
    "1     / 1 = 1\n",
    "12    / 2 = 6\n",
    "123   / 3 = 41\n",
    "1232  / 4 = 308\n",
    "\n",
    "is_polydivisible(123220 ) ➞ False\n",
    "1   / 1 = 1\n",
    "12   / 2 = 6\n",
    "123   / 3 = 41\n",
    "1232   / 4 = 308\n",
    "12322   / 5 = 2464.4         # Not a Whole Number\n",
    "123220   /6 = 220536.333...  # Not a Whole Number\n",
    "\n"
   ]
  },
  {
   "cell_type": "code",
   "execution_count": 74,
   "metadata": {},
   "outputs": [
    {
     "name": "stdout",
     "output_type": "stream",
     "text": [
      "is_polydivisible(1232) ->  True\n",
      "is_polydivisible(1232) ->  False\n"
     ]
    }
   ],
   "source": [
    "#define function\n",
    "def is_polydivisible(num):\n",
    "    temp_list = []\n",
    "    temp_num = num\n",
    "    temp_str = \"\"\n",
    "    \n",
    "    #extract digits of input num and store in temp_list\n",
    "    while temp_num > 0:\n",
    "        digit = temp_num % 10\n",
    "        temp_str += str(digit)\n",
    "        temp_num = temp_num // 10\n",
    "    temp_list = list(reversed(temp_str))\n",
    "    \n",
    "    \n",
    "    #generate and store possible combinations of different digits number in string format\n",
    "    list_of_digits = []\n",
    "    digit_word = \"\"\n",
    "    \n",
    "    for i, j in enumerate(temp_list):\n",
    "        digit_word += j\n",
    "        list_of_digits.append(digit_word)\n",
    "    \n",
    "    #convert elemnts to integer from string\n",
    "    list_of_digits = list(map(int, list_of_digits))\n",
    "    \n",
    "    \n",
    "    #update coun by +1 when number is divisble by no of digits\n",
    "    count = 0\n",
    "    for i, j in enumerate(list_of_digits):\n",
    "        if j % (i+1) == 0:\n",
    "            count += 1\n",
    "    \n",
    "    # if all digits_numbers in list divsible by no of digits, count should reach to len of the list\n",
    "    if count == len(list_of_digits):\n",
    "        return True\n",
    "    else:\n",
    "        return False\n",
    "\n",
    "#testing fucntion\n",
    "print('is_polydivisible(1232) -> ', is_polydivisible(1232))\n",
    "print('is_polydivisible(1232) -> ', is_polydivisible(123220))"
   ]
  },
  {
   "cell_type": "markdown",
   "metadata": {},
   "source": [
    "### Q5. Create a function that takes a list of numbers and returns the sum of all prime numbers in the list.\n",
    "\n",
    "Examples\n",
    "\n",
    "sum_primes([1, 2, 3, 4, 5, 6, 7, 8, 9, 10]) ➞ 17\n",
    "\n",
    "sum_primes([2, 3, 4, 11, 20, 50, 71]) ➞ 87\n",
    "\n",
    "sum_primes([]) ➞ None\n"
   ]
  },
  {
   "cell_type": "code",
   "execution_count": 102,
   "metadata": {
    "scrolled": false
   },
   "outputs": [
    {
     "name": "stdout",
     "output_type": "stream",
     "text": [
      "sum_primes([1, 2, 3, 4, 5, 6, 7, 8, 9, 10]) ->  17\n",
      "sum_primes([2, 3, 4, 11, 20, 50, 71]) ->  87\n",
      "sum_primes([]) ->  None\n"
     ]
    }
   ],
   "source": [
    "#define function - is_prime\n",
    "def is_prime(num):\n",
    "    if num == 1:\n",
    "        return False\n",
    "    else:\n",
    "        for i in range(2, num):\n",
    "            if num % i == 0:\n",
    "                return False\n",
    "                break\n",
    "    return True\n",
    "\n",
    "#define function to calculate sum of prime numbers in a given list\n",
    "def sum_primes(lst):\n",
    "    sum_prime = 0\n",
    "    if len(lst) == 0:\n",
    "        return None\n",
    "    else:\n",
    "        for i in lst:\n",
    "            if is_prime(i):\n",
    "                sum_prime += i\n",
    "    return sum_prime\n",
    "\n",
    "#testing function\n",
    "print('sum_primes([1, 2, 3, 4, 5, 6, 7, 8, 9, 10]) -> ', sum_primes([1, 2, 3, 4, 5, 6, 7, 8, 9, 10]))\n",
    "print('sum_primes([2, 3, 4, 11, 20, 50, 71]) -> ', sum_primes([2, 3, 4, 11, 20, 50, 71]))\n",
    "print('sum_primes([]) -> ', sum_primes([]))"
   ]
  }
 ],
 "metadata": {
  "kernelspec": {
   "display_name": "Python 3",
   "language": "python",
   "name": "python3"
  },
  "language_info": {
   "codemirror_mode": {
    "name": "ipython",
    "version": 3
   },
   "file_extension": ".py",
   "mimetype": "text/x-python",
   "name": "python",
   "nbconvert_exporter": "python",
   "pygments_lexer": "ipython3",
   "version": "3.8.8"
  }
 },
 "nbformat": 4,
 "nbformat_minor": 4
}
