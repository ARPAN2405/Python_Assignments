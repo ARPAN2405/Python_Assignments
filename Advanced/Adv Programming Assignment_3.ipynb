{
 "cells": [
  {
   "cell_type": "markdown",
   "metadata": {},
   "source": [
    "## Programming Assignment_3 (Advanced)\n",
    "### By: Arpan Dutta"
   ]
  },
  {
   "cell_type": "markdown",
   "metadata": {},
   "source": [
    "### Q1. Create a function to perform basic arithmetic operations that includes addition, subtraction, multiplication and division on a string number (e.g. \"12 + 24\" or \"23 - 21\" or \"12 // 12\" or \"12 * 21\").\n",
    "\n",
    "Here, we have 1 followed by a space, operator followed by another space and 2. For the challenge, we are going to have only two numbers between 1 valid operator. The return value should be a number.\n",
    "\n",
    "eval() is not allowed. In case of division, whenever the second number equals \"0\" return -1.\n",
    "\n",
    "For example:\n",
    "\n",
    "\"15 // 0\"  ➞ -1\n",
    "\n",
    "Examples\n",
    "\n",
    "arithmetic_operation(\"12 + 12\") ➞ 24 // 12 + 12 = 24\n",
    "\n",
    "arithmetic_operation(\"12 - 12\") ➞ 24 // 12 - 12 = 0\n",
    "\n",
    "arithmetic_operation(\"12 * 12\") ➞ 144 // 12 * 12 = 144\n",
    "\n",
    "arithmetic_operation(\"12 // 0\") ➞ -1 // 12 / 0 = -1\n"
   ]
  },
  {
   "cell_type": "code",
   "execution_count": 7,
   "metadata": {
    "scrolled": true
   },
   "outputs": [
    {
     "name": "stdout",
     "output_type": "stream",
     "text": [
      "['12', '+', '12']\n",
      "arithmetic_operation(\"12 + 12\") ->  24\n",
      "['12', '-', '12']\n",
      "arithmetic_operation(\"12 - 12\") ->  0\n",
      "['12', '*', '12']\n",
      "arithmetic_operation(\"12 * 12\") ->  144\n",
      "['12', '//', '0']\n",
      "arithmetic_operation(\"12 // 0\") ->  -1\n"
     ]
    }
   ],
   "source": [
    "#define function\n",
    "def arithmetic_operation(input_str):\n",
    "    temp_lst = input_str.split(\" \")\n",
    "    print(temp_lst)\n",
    "    \n",
    "    if temp_lst[1] == '+':\n",
    "        return int(temp_lst[0]) + int(temp_lst[2])\n",
    "    elif temp_lst[1] == \"-\":\n",
    "        return int(temp_lst[0]) - int(temp_lst[2])\n",
    "    elif temp_lst[1] == \"*\":\n",
    "        return int(temp_lst[0]) * int(temp_lst[2])\n",
    "    elif temp_lst[1] == \"//\":\n",
    "        if temp_lst[2] == '0':\n",
    "            return -1\n",
    "        else:\n",
    "            return int(temp_lst[0]) // int(temp_lst[2])\n",
    "    return \"please enter only two numbers and one operator\"\n",
    "        \n",
    "print('arithmetic_operation(\"12 + 12\") -> ', arithmetic_operation(\"12 + 12\"))\n",
    "print('arithmetic_operation(\"12 - 12\") -> ', arithmetic_operation(\"12 - 12\"))\n",
    "print('arithmetic_operation(\"12 * 12\") -> ', arithmetic_operation(\"12 * 12\"))\n",
    "print('arithmetic_operation(\"12 // 0\") -> ', arithmetic_operation(\"12 // 0\"))\n"
   ]
  },
  {
   "cell_type": "markdown",
   "metadata": {},
   "source": [
    "### Q2. Write a function that takes the coordinates of three points in the form of a 2d array and returns the perimeter of the triangle. The given points are the vertices of a triangle on a two-dimensional plane.\n",
    "\n",
    "Examples\n",
    "\n",
    "perimeter( [ [15, 7], [5, 22], [11, 1] ] ) ➞ 47.08\n",
    "\n",
    "perimeter( [ [0, 0], [0, 1], [1, 0] ] ) ➞ 3.42\n",
    "\n",
    "perimeter( [ [-10, -10], [10, 10 ], [-10, 10] ] ) ➞ 68.28\n"
   ]
  },
  {
   "cell_type": "code",
   "execution_count": 28,
   "metadata": {
    "scrolled": false
   },
   "outputs": [
    {
     "name": "stdout",
     "output_type": "stream",
     "text": [
      "perimeter( [ [15, 7], [5, 22], [11, 1] ] ) ->  47.08\n",
      "perimeter( [ [0, 0], [0, 1], [1, 0] ] ) ->  3.41\n",
      "perimeter( [ [-10, -10], [10, 10 ], [-10, 10] ] ) ->  68.28\n"
     ]
    }
   ],
   "source": [
    "import math\n",
    "\n",
    "#define function\n",
    "def perimeter(lst_of_cord):\n",
    "    \"\"\" calculate sum of length of sides triangle and return perimeter as sum of all lengths - using distance  formula\"\"\"\n",
    "    peri =  0\n",
    "    \n",
    "    for i, j in enumerate(lst_of_cord):\n",
    "        peri += math.sqrt(((lst_of_cord[i][0] - lst_of_cord[i-1][0])**2) + ((lst_of_cord[i][1] - lst_of_cord[i-1][1])**2))\n",
    "    return round(peri, 2)\n",
    "\n",
    "#testing function\n",
    "print('perimeter( [ [15, 7], [5, 22], [11, 1] ] ) -> ', perimeter( [ [15, 7], [5, 22], [11, 1] ] ))\n",
    "print('perimeter( [ [0, 0], [0, 1], [1, 0] ] ) -> ', perimeter( [ [0, 0], [0, 1], [1, 0] ] ))\n",
    "print('perimeter( [ [-10, -10], [10, 10 ], [-10, 10] ] ) -> ', perimeter( [ [-10, -10], [10, 10 ], [-10, 10] ] ))"
   ]
  },
  {
   "cell_type": "markdown",
   "metadata": {},
   "source": [
    "### Q3. A city skyline can be represented as a 2-D list with 1s representing buildings. In the example below, the height of the tallest building is 4 (second-most right column).\n",
    "\n",
    "[[0, 0, 0, 0, 0, 0],\n",
    "[0, 0, 0, 0, 1, 0],\n",
    "[0, 0, 1, 0, 1, 0],\n",
    "[0, 1, 1, 1, 1, 0],\n",
    "[1, 1, 1, 1, 1, 1]]\n",
    "\n",
    "Create a function that takes a skyline (2-D list of 0's and 1's) and returns the height of the tallest skyscraper.\n",
    "\n",
    "Examples\n",
    "\n",
    "tallest_skyscraper([\n",
    "  [0, 0, 0, 0],\n",
    "  [0, 1, 0, 0],\n",
    "  [0, 1, 1, 0],\n",
    "  [1, 1, 1, 1]\n",
    "]) ➞ 3\n",
    "\n",
    "tallest_skyscraper([\n",
    "  [0, 1, 0, 0],\n",
    "  [0, 1, 0, 0],\n",
    "  [0, 1, 1, 0],\n",
    "  [1, 1, 1, 1]\n",
    "]) ➞ 4\n",
    "\n",
    "tallest_skyscraper([\n",
    "  [0, 0, 0, 0],\n",
    "  [0, 0, 0, 0],\n",
    "  [1, 1, 1, 0],\n",
    "  [1, 1, 1, 1]\n",
    "]) ➞ 2\n"
   ]
  },
  {
   "cell_type": "code",
   "execution_count": 51,
   "metadata": {
    "scrolled": true
   },
   "outputs": [
    {
     "name": "stdout",
     "output_type": "stream",
     "text": [
      "tallest_skyscraper([[0, 0, 0, 0], [0, 1, 0, 0], [0, 1, 1, 0], [1, 1, 1, 1]]) ->  3\n",
      "tallest_skyscraper([ [0, 1, 0, 0], [0, 1, 0, 0], [0, 1, 1, 0], [1, 1, 1, 1] ]) ->  4\n",
      "tallest_skyscraper([ [0, 0, 0, 0], [0, 0, 0, 0], [1, 1, 1, 0], [1, 1, 1, 1] ]) ->  2\n"
     ]
    }
   ],
   "source": [
    "#define function\n",
    "def tallest_skyscraper(two_d_list):\n",
    "    \n",
    "    temp_dict = {k: 0 for k in range(len(two_d_list[0]))} #create dictionary to store key as length of indexes numbers from sub_list\n",
    "    \n",
    "    \n",
    "    for i, j in enumerate(two_d_list):\n",
    "        for k, v in enumerate(j):\n",
    "            if v == 1:\n",
    "                temp_dict[k] += 1  \n",
    "                \n",
    "    tallest_count = max(temp_dict.values()) \n",
    "    \n",
    "    return tallest_count\n",
    "\n",
    "#testing function\n",
    "\n",
    "print('tallest_skyscraper([[0, 0, 0, 0], [0, 1, 0, 0], [0, 1, 1, 0], [1, 1, 1, 1]]) -> ', tallest_skyscraper([[0, 0, 0, 0], [0, 1, 0, 0], [0, 1, 1, 0], [1, 1, 1, 1]]))\n",
    "\n",
    "print('tallest_skyscraper([ [0, 1, 0, 0], [0, 1, 0, 0], [0, 1, 1, 0], [1, 1, 1, 1] ]) -> ', tallest_skyscraper([ [0, 1, 0, 0], [0, 1, 0, 0], [0, 1, 1, 0], [1, 1, 1, 1] ]))\n",
    "\n",
    "print('tallest_skyscraper([ [0, 0, 0, 0], [0, 0, 0, 0], [1, 1, 1, 0], [1, 1, 1, 1] ]) -> ', tallest_skyscraper([ [0, 0, 0, 0], [0, 0, 0, 0], [1, 1, 1, 0], [1, 1, 1, 1] ]))"
   ]
  },
  {
   "cell_type": "markdown",
   "metadata": {},
   "source": [
    "### Q4. A financial institution provides professional services to banks and claims charges from the customers based on the number of man-days provided. Internally, it has set a scheme to motivate and reward staff to meet and exceed targeted billable utilization and revenues by paying a bonus for each day claimed from customers in excess of a threshold target.\n",
    "\n",
    "This quarterly scheme is calculated with a threshold target of 32 days per quarter, and the incentive payment for each billable day in excess of such threshold target is shown as follows:\n",
    "\n",
    "Days\t                             Bonus\n",
    "0 to 32 days\t                   Zero\n",
    "33 to 40 days\t         SGD$325 per billable day\n",
    "41 to 48 days\t         SGD$550 per billable day\n",
    "Greater than 48 days      SGD$600 per billable day\n",
    "\n",
    "Please note that incentive payment is calculated progressively. As an example, if an employee reached total billable days of 45 in a quarter, his/her incentive payment is computed as follows:\n",
    "\n",
    "32*0 + 8*325 + 5*550 = 5350\n",
    "\n",
    "Write a function to read the billable days of an employee and return the bonus he/she has obtained in that quarter.\n",
    "\n",
    "Examples\n",
    "\n",
    "bonus(15) ➞ 0\n",
    "\n",
    "bonus(37) ➞ 1625\n",
    "\n",
    "bonus(50) ➞ 8200\n"
   ]
  },
  {
   "cell_type": "code",
   "execution_count": 60,
   "metadata": {},
   "outputs": [
    {
     "name": "stdout",
     "output_type": "stream",
     "text": [
      "bonus(15) ->  0\n",
      "bonus(37) ->  1625\n",
      "bonus(50) ->  8200\n"
     ]
    }
   ],
   "source": [
    "def bonus(days):\n",
    "    temp_sum = 0\n",
    "    \n",
    "    if days > 48:\n",
    "        temp_sum = ((days - 48) * 600) + (8 * 550) + (8 * 325)\n",
    "    \n",
    "    elif days >= 41 and days <= 48:\n",
    "        temp_sum = ((days - 40) * 550) + (8 * 325)\n",
    "    \n",
    "    elif days >= 33 and days <= 40:\n",
    "        temp_sum = ((days - 32) * 325) + 32 * 0\n",
    "    \n",
    "    else:\n",
    "        temp_sum = 0\n",
    "    \n",
    "    return temp_sum\n",
    "\n",
    "#testing function\n",
    "print(\"bonus(15) -> \", bonus(15))\n",
    "print(\"bonus(37) -> \", bonus(37))\n",
    "print(\"bonus(50) -> \", bonus(50))"
   ]
  },
  {
   "cell_type": "markdown",
   "metadata": {},
   "source": [
    "### Q5. A number is said to be Disarium if the sum of its digits raised to their respective positions is the number itself.\n",
    "\n",
    "Create a function that determines whether a number is a Disarium or not.\n",
    "\n",
    "Examples\n",
    "\n",
    "is_disarium(75) ➞ False\n",
    "7^1 + 5^2 = 7 + 25 = 32\n",
    "\n",
    "is_disarium(135) ➞ True\n",
    "1^1 + 3^2 + 5^3 = 1 + 9 + 125 = 135\n",
    "\n",
    "is_disarium(544) ➞ False\n",
    "\n",
    "is_disarium(518) ➞ True\n",
    "\n",
    "is_disarium(466) ➞ False\n",
    "\n",
    "is_disarium(8) ➞ True\n"
   ]
  },
  {
   "cell_type": "code",
   "execution_count": 79,
   "metadata": {
    "scrolled": false
   },
   "outputs": [
    {
     "name": "stdout",
     "output_type": "stream",
     "text": [
      "is_disarium(75) ->  False\n",
      "is_disarium(135) ->  True\n",
      "is_disarium(544) ->  False\n",
      "is_disarium(518) ->  True\n",
      "is_disarium(466) ->  False\n",
      "is_disarium(8) ->  True\n"
     ]
    }
   ],
   "source": [
    "#define function\n",
    "def is_disarium(num):\n",
    "    \n",
    "    digit_lst = list(map(int, [i for i in str(num)]))\n",
    "    \n",
    "    temp_sum = 0\n",
    "    \n",
    "    for i, j in enumerate(digit_lst):\n",
    "        temp_sum += j**(i+1)\n",
    "    \n",
    "    if temp_sum == num:\n",
    "        return True\n",
    "    else:\n",
    "        return False\n",
    "\n",
    "    \n",
    "print('is_disarium(75) -> ', is_disarium(75))\n",
    "print('is_disarium(135) -> ', is_disarium(135))\n",
    "print('is_disarium(544) -> ', is_disarium(544))\n",
    "print('is_disarium(518) -> ', is_disarium(518))\n",
    "print('is_disarium(466) -> ', is_disarium(466))\n",
    "print('is_disarium(8) -> ', is_disarium(8))"
   ]
  }
 ],
 "metadata": {
  "kernelspec": {
   "display_name": "Python 3",
   "language": "python",
   "name": "python3"
  },
  "language_info": {
   "codemirror_mode": {
    "name": "ipython",
    "version": 3
   },
   "file_extension": ".py",
   "mimetype": "text/x-python",
   "name": "python",
   "nbconvert_exporter": "python",
   "pygments_lexer": "ipython3",
   "version": "3.8.8"
  }
 },
 "nbformat": 4,
 "nbformat_minor": 4
}
