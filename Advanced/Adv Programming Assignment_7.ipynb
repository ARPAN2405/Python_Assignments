{
 "cells": [
  {
   "cell_type": "markdown",
   "metadata": {},
   "source": [
    "## Programming Assignment_7 (Advanced)\n",
    "### By: Arpan Dutta"
   ]
  },
  {
   "cell_type": "markdown",
   "metadata": {},
   "source": [
    "### Q1. Write a function that counts how many concentric layers a rug.\n",
    "\n",
    "Examples\n",
    "\n",
    "count_layers([\n",
    "  \"AAAA\",\n",
    "  \"ABBA\",\n",
    "  \"AAAA\"\n",
    "]) ➞ 2\n",
    "\n",
    "count_layers([\n",
    "  \"AAAAAAAAA\",\n",
    "  \"ABBBBBBBA\",\n",
    "  \"ABBAAABBA\",\n",
    "  \"ABBBBBBBA\",\n",
    "  \"AAAAAAAAA\"\n",
    "]) ➞ 3\n",
    "\n",
    "count_layers([\n",
    "  \"AAAAAAAAAAA\",\n",
    "  \"AABBBBBBBAA\",\n",
    "  \"AABCCCCCBAA\",\n",
    "  \"AABCAAACBAA\",\n",
    "  \"AABCADACBAA\",\n",
    "  \"AABCAAACBAA\",\n",
    "  \"AABCCCCCBAA\",\n",
    "  \"AABBBBBBBAA\",\n",
    "  \"AAAAAAAAAAA\"\n",
    "]) ➞ 5\n"
   ]
  },
  {
   "cell_type": "code",
   "execution_count": 1,
   "metadata": {
    "scrolled": true
   },
   "outputs": [
    {
     "name": "stdout",
     "output_type": "stream",
     "text": [
      "0 a\n",
      "1 b\n",
      "2 c\n",
      "3 d\n",
      "4 e\n",
      "5 f\n"
     ]
    }
   ],
   "source": [
    "#define function\n",
    "def count_layers(string_list):\n",
    "    outer_layer = 0\n",
    "    inner_layer =  0\n",
    "    for ind1, string in enumerate(string_list):\n",
    "        \n",
    "        for idx2, char in enumerate(string):\n",
    "            if string[i] == string[i-1]:\n",
    "                outer_layer = 1\n",
    "                temp_char = string[0]\n",
    "            elif string[i] != string[i-1]:\n",
    "                temp_idx = idx2\n",
    "                \n",
    "        "
   ]
  },
  {
   "cell_type": "markdown",
   "metadata": {},
   "source": [
    "### Q2. There are many different styles of music and many albums exhibit multiple styles. Create a function that takes a list of musical styles from albums and returns how many styles are unique.\n",
    "\n",
    "Examples\n",
    "\n",
    "unique_styles([\n",
    "  \"Dub,Dancehall\",\n",
    "  \"Industrial,Heavy Metal\",\n",
    "  \"Techno,Dubstep\",\n",
    "  \"Synth-pop,Euro-Disco\",\n",
    "  \"Industrial,Techno,Minimal\"\n",
    "]) ➞ 9\n",
    "\n",
    "unique_styles([\n",
    "  \"Soul\",\n",
    "  \"House,Folk\",\n",
    "  \"Trance,Downtempo,Big Beat,House\",\n",
    "  \"Deep House\",\n",
    "  \"Soul\"\n",
    "]) ➞ 7\n"
   ]
  },
  {
   "cell_type": "code",
   "execution_count": 18,
   "metadata": {
    "scrolled": false
   },
   "outputs": [
    {
     "name": "stdout",
     "output_type": "stream",
     "text": [
      "unique_styles([ \"Dub,Dancehall\", \"Industrial,Heavy Metal\", \"Techno,Dubstep\", \"Synth-pop,Euro-Disco\", \"Industrial,Techno,Minimal\" ]) ->  9\n",
      "unique_styles([ \"Soul\", \"House,Folk\", \"Trance,Downtempo,Big Beat,House\", \"Deep House\", \"Soul\" ]) ->  7\n"
     ]
    }
   ],
   "source": [
    "#define function\n",
    "def unique_styles(list_of_albums):\n",
    "    temp_list = []\n",
    "    count = 0\n",
    "    for i, arg in enumerate(list_of_albums):\n",
    "        music_styles = arg.split(\",\")\n",
    "        for i, j in enumerate(music_styles): #if arg.split(\",\") not in temp_list:\n",
    "            if j not in temp_list:\n",
    "                temp_list.append(j)\n",
    "                count += 1\n",
    "    return count\n",
    "print('unique_styles([ \"Dub,Dancehall\", \"Industrial,Heavy Metal\", \"Techno,Dubstep\", \"Synth-pop,Euro-Disco\", \"Industrial,Techno,Minimal\" ]) -> ', unique_styles([ \"Dub,Dancehall\", \"Industrial,Heavy Metal\", \"Techno,Dubstep\", \"Synth-pop,Euro-Disco\", \"Industrial,Techno,Minimal\" ]))\n",
    "print('unique_styles([ \"Soul\", \"House,Folk\", \"Trance,Downtempo,Big Beat,House\", \"Deep House\", \"Soul\" ]) -> ', unique_styles([ \"Soul\", \"House,Folk\", \"Trance,Downtempo,Big Beat,House\", \"Deep House\", \"Soul\" ]))"
   ]
  },
  {
   "cell_type": "markdown",
   "metadata": {},
   "source": [
    "### Q3. Create a function that finds a target number in a list of prime numbers. Implement a binary search algorithm in your function. The target number will be from 2 through 97. If the target is prime then return \"yes\" else return \"no\".\n",
    "\n",
    "Examples\n",
    "\n",
    "primes = [2, 3, 5, 7, 11, 13, 17, 19, 23, 29, 31, 37, 41, 43, 47, 53, 59, 61, 67, 71, 73, 79, 83, 89, 97]\n",
    "\n",
    "\n",
    "is_prime(primes, 3) ➞ \"yes\"\n",
    "\n",
    "is_prime(primes, 4) ➞ \"no\"\n",
    "\n",
    "is_prime(primes, 67) ➞ \"yes\"\n",
    "\n",
    "is_prime(primes, 36) ➞ \"no\"\n"
   ]
  },
  {
   "cell_type": "code",
   "execution_count": 60,
   "metadata": {},
   "outputs": [
    {
     "name": "stdout",
     "output_type": "stream",
     "text": [
      "is_prime(primes, 3 ->  Yes\n",
      "is_prime(primes, 4 ->  No\n",
      "is_prime(primes, 67 ->  Yes\n",
      "is_prime(primes, 36 ->  No\n"
     ]
    }
   ],
   "source": [
    "def binarySearch (arr, l, r, x):\n",
    "  \n",
    "    # Check base case\n",
    "    if r >= l:\n",
    "  \n",
    "        mid = l + (r - l) // 2\n",
    "  \n",
    "        # If element is present at the middle itself\n",
    "        if arr[mid] == x:\n",
    "            return mid\n",
    "          \n",
    "        # If element is smaller than mid, then it \n",
    "        # can only be present in left subarray\n",
    "        elif arr[mid] > x:\n",
    "            return binarySearch(arr, l, mid-1, x)\n",
    "  \n",
    "        # Else the element can only be present \n",
    "        # in right subarray\n",
    "        else:\n",
    "            return binarySearch(arr, mid + 1, r, x)\n",
    "  \n",
    "    else:\n",
    "        # Element is not present in the array\n",
    "        return -1\n",
    "\n",
    "def is_prime(primes, target):\n",
    "    \n",
    "    #call binaryserach fucntion and store result in result variable\n",
    "    result = binarySearch(primes, 0, len(primes)-1, target) \n",
    "    \n",
    "    # prime case\n",
    "    if result != -1:\n",
    "        return \"Yes\"\n",
    "    \n",
    "    #non-prime case\n",
    "    else:\n",
    "        return \"No\"\n",
    "\n",
    "# primes list\n",
    "primes =  [2, 3, 5, 7, 11, 13, 17, 19, 23, 29, 31, 37, 41, 43, 47, 53, 59, 61, 67, 71, 73, 79, 83, 89, 97]\n",
    "\n",
    "# calling funciton\n",
    "\n",
    "print('is_prime(primes, 3 -> ', is_prime(primes, 3))\n",
    "print('is_prime(primes, 4 -> ', is_prime(primes, 4))\n",
    "print('is_prime(primes, 67 -> ', is_prime(primes, 67))\n",
    "print('is_prime(primes, 36 -> ', is_prime(primes, 36))"
   ]
  },
  {
   "cell_type": "markdown",
   "metadata": {},
   "source": [
    "### Q4. Given an integer between 0 and 26, make a variable (self.answer). That variable would be assigned to a string in this format:\n",
    "\n",
    "\"nines:your answer, threes:your answer, ones:your answer\"\n",
    "\n",
    "You need to find out how many ones, threes, and nines it would at least take for the number of each to add up to the given integer when multiplied by one, three or nine (depends).\n",
    "\n",
    "Examples\n",
    "\n",
    "ones_threes_nines(10) ➞ \"nines:1, threes:0, ones:1\"\n",
    "\n",
    "ones_threes_nines(15) ➞ \"nines:1, threes:2, ones:0\"\n",
    "\n",
    "ones_threes_nines(22) ➞ \"nines:2, threes:1, ones:1\"\n"
   ]
  },
  {
   "cell_type": "code",
   "execution_count": 84,
   "metadata": {
    "scrolled": true
   },
   "outputs": [
    {
     "name": "stdout",
     "output_type": "stream",
     "text": [
      "ones_threes_nines(2) ->  nines:0,threes:0,ones:2\n",
      "ones_threes_nines(3) ->  nines:0,threes:1,ones:0\n",
      "ones_threes_nines(7) ->  nines:0,threes:2,ones:1\n",
      "1. num: 9 bal : 0\n",
      "ones_threes_nines(9) ->  nines:1,threes:0,ones:0\n",
      "1. num: 10 bal : 1\n",
      "ones_threes_nines(10) ->  nines:1,threes:0,ones:1\n",
      "1. num: 15 bal : 6\n",
      "ones_threes_nines(15) ->  nines:1,threes:2,ones:0\n",
      "1. num: 22 bal : 4\n",
      "ones_threes_nines(22) ->  nines:2,threes:1,ones:1\n"
     ]
    }
   ],
   "source": [
    "#define fucntion\n",
    "def ones_threes_nines(num):\n",
    "    final_str = \"\"\n",
    "    temp_dict = {9: 0, 3: 0, 1: 0}\n",
    "    \n",
    "    if num >= 9 and num <=26:\n",
    "        temp_dict[9] = num // 9\n",
    "        bal = num - 9 * (num // 9)\n",
    "        print(\"1. num: {} bal : {}\".format(num, bal))\n",
    "        if bal > 3:\n",
    "            temp_dict[3] = bal // 3\n",
    "            final_bal = bal - 3 * (bal // 3)\n",
    "            temp_dict[1] = final_bal\n",
    "        else:\n",
    "            final_bal = bal\n",
    "            temp_dict[1] = final_bal\n",
    "    \n",
    "    elif num >= 3 and num < 9:\n",
    "        temp_dict[3] = num // 3\n",
    "        bal = num - 3 * (num // 3)\n",
    "        temp_dict[1] = bal\n",
    "    \n",
    "    elif num >= 0 and num < 3:\n",
    "        temp_dict[1] = num\n",
    "    \n",
    "    else:\n",
    "        print(\"Please enter number between 0 and 26 (both inclusive)!\")\n",
    "    \n",
    "    nines = \"nines:\" + str(temp_dict[9])\n",
    "    threes = \"threes:\" + str(temp_dict[3])\n",
    "    ones = \"ones:\" + str(temp_dict[1])\n",
    "    \n",
    "    temp_list = []\n",
    "    temp_list.append(nines)\n",
    "    temp_list.append(threes)\n",
    "    temp_list.append(ones)\n",
    "    \n",
    "#     final_str += nines + threes + ones\n",
    "    return \",\".join(temp_list)\n",
    "\n",
    "\n",
    "print('ones_threes_nines(2) -> ', ones_threes_nines(2))\n",
    "print('ones_threes_nines(3) -> ', ones_threes_nines(3))\n",
    "print('ones_threes_nines(7) -> ', ones_threes_nines(7))\n",
    "print('ones_threes_nines(9) -> ', ones_threes_nines(9))\n",
    "print('ones_threes_nines(10) -> ', ones_threes_nines(10))\n",
    "print('ones_threes_nines(15) -> ', ones_threes_nines(15))\n",
    "print('ones_threes_nines(22) -> ', ones_threes_nines(22))"
   ]
  },
  {
   "cell_type": "markdown",
   "metadata": {},
   "source": [
    "### Q5. The Fibonacci sequence is a classic use case for recursive functions since the value of the sequence at a given index is dependent on the sum of the last two values. However, the recursion tree created by solving the Fibonacci sequence recursively can grow quite fast. Therefore it can be important to think about the implications of running a function recursively. Depending on the size of n needed and the capabilities of the system in question you might want to take a different approach.\n",
    "\n",
    "Write a non-recursive function that takes an integer n and returns the Fibonacci sequence's value at index n.\n",
    "\n",
    "Examples\n",
    "\n",
    "fib(6) ➞ 8\n",
    "0 + 1 = 1, 1 + 1 = 2, 1 + 2 = 3, 2 + 3 = 5, 3 + 5 = 8\n",
    "\n",
    "fib(1) ➞ 1\n",
    "\n",
    "fib(2) ➞ 1\n"
   ]
  },
  {
   "cell_type": "code",
   "execution_count": 105,
   "metadata": {
    "scrolled": false
   },
   "outputs": [
    {
     "name": "stdout",
     "output_type": "stream",
     "text": [
      "fib(1) ->  1\n",
      "fib(2) ->  1\n",
      "fib(3) ->  2\n",
      "fib(6) ->  8\n"
     ]
    }
   ],
   "source": [
    "#define function\n",
    "def fib(num):\n",
    "    lst = []\n",
    "    first_term = 0\n",
    "    second_term = 1\n",
    "    \n",
    "    if num == 0:\n",
    "        return first_term\n",
    "    elif num == 1:\n",
    "        return second_term\n",
    "    else:\n",
    "        for i in range(1, num):\n",
    "            third_term = first_term + second_term\n",
    "            first_term = second_term\n",
    "            second_term = third_term\n",
    "            \n",
    "    return third_term\n",
    "\n",
    "#testing function\n",
    "print(\"fib(1) -> \", fib(1))  \n",
    "print(\"fib(2) -> \", fib(2)) \n",
    "print(\"fib(3) -> \", fib(3)) \n",
    "print(\"fib(6) -> \", fib(6)) "
   ]
  }
 ],
 "metadata": {
  "kernelspec": {
   "display_name": "Python 3",
   "language": "python",
   "name": "python3"
  },
  "language_info": {
   "codemirror_mode": {
    "name": "ipython",
    "version": 3
   },
   "file_extension": ".py",
   "mimetype": "text/x-python",
   "name": "python",
   "nbconvert_exporter": "python",
   "pygments_lexer": "ipython3",
   "version": "3.8.8"
  }
 },
 "nbformat": 4,
 "nbformat_minor": 4
}
