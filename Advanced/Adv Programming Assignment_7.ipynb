{
 "cells": [
  {
   "cell_type": "markdown",
   "metadata": {},
   "source": [
    "## Programming Assignment_7 (Advanced)\n",
    "### By: Arpan Dutta"
   ]
  },
  {
   "cell_type": "markdown",
   "metadata": {},
   "source": [
    "### Q1. Write a function that counts how many concentric layers a rug.\n",
    "\n",
    "Examples\n",
    "\n",
    "count_layers([\n",
    "  \"AAAA\",\n",
    "  \"ABBA\",\n",
    "  \"AAAA\"\n",
    "]) ➞ 2\n",
    "\n",
    "count_layers([\n",
    "  \"AAAAAAAAA\",\n",
    "  \"ABBBBBBBA\",\n",
    "  \"ABBAAABBA\",\n",
    "  \"ABBBBBBBA\",\n",
    "  \"AAAAAAAAA\"\n",
    "]) ➞ 3\n",
    "\n",
    "count_layers([\n",
    "  \"AAAAAAAAAAA\",\n",
    "  \"AABBBBBBBAA\",\n",
    "  \"AABCCCCCBAA\",\n",
    "  \"AABCAAACBAA\",\n",
    "  \"AABCADACBAA\",\n",
    "  \"AABCAAACBAA\",\n",
    "  \"AABCCCCCBAA\",\n",
    "  \"AABBBBBBBAA\",\n",
    "  \"AAAAAAAAAAA\"\n",
    "]) ➞ 5\n"
   ]
  },
  {
   "cell_type": "code",
   "execution_count": 1,
   "metadata": {
    "scrolled": true
   },
   "outputs": [
    {
     "name": "stdout",
     "output_type": "stream",
     "text": [
      "0 a\n",
      "1 b\n",
      "2 c\n",
      "3 d\n",
      "4 e\n",
      "5 f\n"
     ]
    }
   ],
   "source": [
    "#define function\n",
    "def count_layers(string_list):\n",
    "    outer_layer = 0\n",
    "    inner_layer =  0\n",
    "    for ind1, string in enumerate(string_list):\n",
    "        \n",
    "        for idx2, char in enumerate(string):\n",
    "            if string[i] == string[i-1]:\n",
    "                outer_layer = 1\n",
    "                temp_char = string[0]\n",
    "            elif string[i] != string[i-1]:\n",
    "                temp_idx = idx2\n",
    "                \n",
    "        "
   ]
  },
  {
   "cell_type": "markdown",
   "metadata": {},
   "source": [
    "### Q2. There are many different styles of music and many albums exhibit multiple styles. Create a function that takes a list of musical styles from albums and returns how many styles are unique.\n",
    "\n",
    "Examples\n",
    "\n",
    "unique_styles([\n",
    "  \"Dub,Dancehall\",\n",
    "  \"Industrial,Heavy Metal\",\n",
    "  \"Techno,Dubstep\",\n",
    "  \"Synth-pop,Euro-Disco\",\n",
    "  \"Industrial,Techno,Minimal\"\n",
    "]) ➞ 9\n",
    "\n",
    "unique_styles([\n",
    "  \"Soul\",\n",
    "  \"House,Folk\",\n",
    "  \"Trance,Downtempo,Big Beat,House\",\n",
    "  \"Deep House\",\n",
    "  \"Soul\"\n",
    "]) ➞ 7\n"
   ]
  },
  {
   "cell_type": "code",
   "execution_count": 18,
   "metadata": {
    "scrolled": false
   },
   "outputs": [
    {
     "name": "stdout",
     "output_type": "stream",
     "text": [
      "unique_styles([ \"Dub,Dancehall\", \"Industrial,Heavy Metal\", \"Techno,Dubstep\", \"Synth-pop,Euro-Disco\", \"Industrial,Techno,Minimal\" ]) ->  9\n",
      "unique_styles([ \"Soul\", \"House,Folk\", \"Trance,Downtempo,Big Beat,House\", \"Deep House\", \"Soul\" ]) ->  7\n"
     ]
    }
   ],
   "source": [
    "#define function\n",
    "def unique_styles(list_of_albums):\n",
    "    temp_list = []\n",
    "    count = 0\n",
    "    for i, arg in enumerate(list_of_albums):\n",
    "        music_styles = arg.split(\",\")\n",
    "        for i, j in enumerate(music_styles): #if arg.split(\",\") not in temp_list:\n",
    "            if j not in temp_list:\n",
    "                temp_list.append(j)\n",
    "                count += 1\n",
    "    return count\n",
    "print('unique_styles([ \"Dub,Dancehall\", \"Industrial,Heavy Metal\", \"Techno,Dubstep\", \"Synth-pop,Euro-Disco\", \"Industrial,Techno,Minimal\" ]) -> ', unique_styles([ \"Dub,Dancehall\", \"Industrial,Heavy Metal\", \"Techno,Dubstep\", \"Synth-pop,Euro-Disco\", \"Industrial,Techno,Minimal\" ]))\n",
    "print('unique_styles([ \"Soul\", \"House,Folk\", \"Trance,Downtempo,Big Beat,House\", \"Deep House\", \"Soul\" ]) -> ', unique_styles([ \"Soul\", \"House,Folk\", \"Trance,Downtempo,Big Beat,House\", \"Deep House\", \"Soul\" ]))"
   ]
  },
  {
   "cell_type": "markdown",
   "metadata": {},
   "source": [
    "### Q3. Create a function that finds a target number in a list of prime numbers. Implement a binary search algorithm in your function. The target number will be from 2 through 97. If the target is prime then return \"yes\" else return \"no\".\n",
    "\n",
    "Examples\n",
    "\n",
    "primes = [2, 3, 5, 7, 11, 13, 17, 19, 23, 29, 31, 37, 41, 43, 47, 53, 59, 61, 67, 71, 73, 79, 83, 89, 97]\n",
    "\n",
    "\n",
    "is_prime(primes, 3) ➞ \"yes\"\n",
    "\n",
    "is_prime(primes, 4) ➞ \"no\"\n",
    "\n",
    "is_prime(primes, 67) ➞ \"yes\"\n",
    "\n",
    "is_prime(primes, 36) ➞ \"no\"\n"
   ]
  },
  {
   "cell_type": "code",
   "execution_count": 60,
   "metadata": {},
   "outputs": [
    {
     "name": "stdout",
     "output_type": "stream",
     "text": [
      "is_prime(primes, 3 ->  Yes\n",
      "is_prime(primes, 4 ->  No\n",
      "is_prime(primes, 67 ->  Yes\n",
      "is_prime(primes, 36 ->  No\n"
     ]
    }
   ],
   "source": [
    "def binarySearch (arr, l, r, x):\n",
    "  \n",
    "    # Check base case\n",
    "    if r >= l:\n",
    "  \n",
    "        mid = l + (r - l) // 2\n",
    "  \n",
    "        # If element is present at the middle itself\n",
    "        if arr[mid] == x:\n",
    "            return mid\n",
    "          \n",
    "        # If element is smaller than mid, then it \n",
    "        # can only be present in left subarray\n",
    "        elif arr[mid] > x:\n",
    "            return binarySearch(arr, l, mid-1, x)\n",
    "  \n",
    "        # Else the element can only be present \n",
    "        # in right subarray\n",
    "        else:\n",
    "            return binarySearch(arr, mid + 1, r, x)\n",
    "  \n",
    "    else:\n",
    "        # Element is not present in the array\n",
    "        return -1\n",
    "\n",
    "def is_prime(primes, target):\n",
    "    \n",
    "    #call binaryserach fucntion and store result in result variable\n",
    "    result = binarySearch(primes, 0, len(primes)-1, target) \n",
    "    \n",
    "    # prime case\n",
    "    if result != -1:\n",
    "        return \"Yes\"\n",
    "    \n",
    "    #non-prime case\n",
    "    else:\n",
    "        return \"No\"\n",
    "\n",
    "# primes list\n",
    "primes =  [2, 3, 5, 7, 11, 13, 17, 19, 23, 29, 31, 37, 41, 43, 47, 53, 59, 61, 67, 71, 73, 79, 83, 89, 97]\n",
    "\n",
    "# calling funciton\n",
    "\n",
    "print('is_prime(primes, 3 -> ', is_prime(primes, 3))\n",
    "print('is_prime(primes, 4 -> ', is_prime(primes, 4))\n",
    "print('is_prime(primes, 67 -> ', is_prime(primes, 67))\n",
    "print('is_prime(primes, 36 -> ', is_prime(primes, 36))"
   ]
  },
  {
   "cell_type": "markdown",
   "metadata": {},
   "source": [
    "### Q4. Create a function that takes in n, a, b and returns the number of positive values raised to the nth power that lie in the range [a, b], inclusive.\n",
    "\n",
    "Examples\n",
    "\n",
    "power_ranger(2, 49, 65) ➞ 2\n",
    "2 squares (n^2) lie between 49 and 65, 49 (7^2) and 64 (8^2)\n",
    "\n",
    "power_ranger(3, 1, 27) ➞ 3\n",
    "3 cubes (n^3) lie between 1 and 27, 1 (1^3), 8 (2^3) and 27 (3^3)\n",
    "\n",
    "power_ranger(10, 1, 5) ➞ 1\n",
    "1 value raised to the 10th power lies between 1 and 5, 1 (1^10)\n",
    "\n",
    "power_ranger(5, 31, 33) ➞ 1\n",
    "\n",
    "power_ranger(4, 250, 1300) ➞ 3\n"
   ]
  },
  {
   "cell_type": "code",
   "execution_count": 66,
   "metadata": {
    "scrolled": false
   },
   "outputs": [
    {
     "name": "stdout",
     "output_type": "stream",
     "text": [
      "power_ranger(2, 49, 65) ->  2\n",
      "power_ranger(3, 1, 27) ->  3\n",
      "power_ranger(10, 1, 5) ->  1\n",
      "power_ranger(5, 31, 33) ->  1\n",
      "power_ranger(4, 250, 1300) ->  3\n"
     ]
    }
   ],
   "source": [
    "#define fucntion\n",
    "def power_ranger(n, a, b):\n",
    "    count = 0\n",
    "    for i in range(b + 1):\n",
    "        if i**n >= a and i**n <= b+1:\n",
    "            count += 1 #increase counter by 1 when i raised to power n lies between a and b (inclusive)\n",
    "    return count\n",
    "\n",
    "#testing fucntion\n",
    "print('power_ranger(2, 49, 65) -> ', power_ranger(2, 49, 65))\n",
    "print('power_ranger(3, 1, 27) -> ', power_ranger(3, 1, 27))\n",
    "print('power_ranger(10, 1, 5) -> ', power_ranger(10, 1, 5))\n",
    "print('power_ranger(5, 31, 33) -> ', power_ranger(5, 31, 33))\n",
    "print('power_ranger(4, 250, 1300) -> ', power_ranger(4, 250, 1300))"
   ]
  },
  {
   "cell_type": "markdown",
   "metadata": {},
   "source": [
    "### Q5. Given a number, return the difference between the maximum and minimum numbers that can be formed when the digits are rearranged.\n",
    "\n",
    "Examples\n",
    "\n",
    "rearranged_difference(972882) ➞ 760833\n",
    "988722 - 227889 = 760833\n",
    "\n",
    "rearranged_difference(3320707) ➞ 7709823\n",
    "7733200 - 23377 = 7709823\n",
    "\n",
    "rearranged_difference(90010) ➞ 90981\n",
    "91000 - 19 = 90981\n"
   ]
  },
  {
   "cell_type": "code",
   "execution_count": 84,
   "metadata": {
    "scrolled": false
   },
   "outputs": [
    {
     "name": "stdout",
     "output_type": "stream",
     "text": [
      "rearranged_difference(972882) ->  760833\n",
      "rearranged_difference(33320707) ->  7709823\n",
      "rearranged_difference(90010) ->  90981\n"
     ]
    }
   ],
   "source": [
    "#deifne function\n",
    "def rearranged_difference(num):\n",
    "    temp_num = num\n",
    "    orig_num_str = \"\"\n",
    "    rev_num_lst = []\n",
    "    rev_num_str = \"\"\n",
    "    while temp_num > 0:\n",
    "        digit = temp_num % 10\n",
    "        rev_num_lst.append(str(digit))\n",
    "        temp_num //= 10\n",
    "    \n",
    "    #organizing number in decreasing order\n",
    "    for i in sorted(rev_num_lst, reverse= True):\n",
    "        orig_num_str += i\n",
    "    \n",
    "    # organizing number in increasing order\n",
    "    for i in sorted(rev_num_lst):\n",
    "        rev_num_str += i\n",
    "      \n",
    "    return int(orig_num_str) - int(rev_num_str)\n",
    "\n",
    "#testing function\n",
    "print('rearranged_difference(972882) -> ', rearranged_difference(972882))\n",
    "print('rearranged_difference(33320707) -> ', rearranged_difference(3320707))\n",
    "print('rearranged_difference(90010) -> ', rearranged_difference(90010))"
   ]
  }
 ],
 "metadata": {
  "kernelspec": {
   "display_name": "Python 3",
   "language": "python",
   "name": "python3"
  },
  "language_info": {
   "codemirror_mode": {
    "name": "ipython",
    "version": 3
   },
   "file_extension": ".py",
   "mimetype": "text/x-python",
   "name": "python",
   "nbconvert_exporter": "python",
   "pygments_lexer": "ipython3",
   "version": "3.8.8"
  }
 },
 "nbformat": 4,
 "nbformat_minor": 4
}
