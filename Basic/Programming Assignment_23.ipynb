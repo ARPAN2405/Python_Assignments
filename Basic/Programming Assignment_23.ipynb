{
 "cells": [
  {
   "cell_type": "markdown",
   "metadata": {},
   "source": [
    "### Programming Assignment_23\n",
    "### By: Arpan Dutta"
   ]
  },
  {
   "cell_type": "markdown",
   "metadata": {},
   "source": [
    "### Q1. Create a function that takes a number as an argument and returns True or False depending on whether the number is symmetrical or not. A number is symmetrical when it is the same as its reverse.\n",
    "Examples\n",
    "is_symmetrical(7227) ➞ True\n",
    "\n",
    "is_symmetrical(12567) ➞ False\n",
    "\n",
    "is_symmetrical(44444444) ➞ True\n",
    "\n",
    "is_symmetrical(9939) ➞ False\n",
    "\n",
    "is_symmetrical(1112111) ➞ True\n"
   ]
  },
  {
   "cell_type": "code",
   "execution_count": 9,
   "metadata": {},
   "outputs": [
    {
     "name": "stdout",
     "output_type": "stream",
     "text": [
      "is_symmetrical(7227) ->  True\n",
      "is_symmetrical(12567) ->  False\n",
      "is_symmetrical(44444444) ->  True\n",
      "is_symmetrical(9939) ->  False\n",
      "is_symmetrical(1112111) ->  True\n"
     ]
    }
   ],
   "source": [
    "#define funnction\n",
    "def is_symmetrical(num):\n",
    "    temp_num = num\n",
    "    digit  = 0\n",
    "    new_num = 0\n",
    "    \n",
    "    while temp_num > 0:\n",
    "        digit = temp_num % 10 #extraacting last digit of number\n",
    "        \n",
    "        temp_num = temp_num // 10 #updating temp_num with remaining number post last digit removal\n",
    "        \n",
    "        new_num = (new_num * 10) + digit #generate reversed num\n",
    "    \n",
    "    if new_num == num: #check equality of reversed num and original num\n",
    "        return True\n",
    "    else:\n",
    "        return False\n",
    "    \n",
    "print(\"is_symmetrical(7227) -> \", is_symmetrical(7227))\n",
    "print(\"is_symmetrical(12567) -> \", is_symmetrical(12567))\n",
    "print(\"is_symmetrical(44444444) -> \", is_symmetrical(44444444))\n",
    "print(\"is_symmetrical(9939) -> \", is_symmetrical(9939)) \n",
    "print(\"is_symmetrical(1112111) -> \", is_symmetrical(1112111))"
   ]
  },
  {
   "cell_type": "markdown",
   "metadata": {},
   "source": [
    "### Q2. Given a string of numbers separated by a comma and space, return the product of the numbers.\n",
    "Examples\n",
    "multiply_nums(\"2, 3\") ➞ 6\n",
    "\n",
    "multiply_nums(\"1, 2, 3, 4\") ➞ 24\n",
    "\n",
    "multiply_nums(\"54, 75, 453, 0\") ➞ 0\n",
    "\n",
    "multiply_nums(\"10, -2\") ➞ -20\n"
   ]
  },
  {
   "cell_type": "code",
   "execution_count": 27,
   "metadata": {
    "scrolled": false
   },
   "outputs": [
    {
     "name": "stdout",
     "output_type": "stream",
     "text": [
      "Enter numbers seperated by ',': 2, 3\n",
      "Multiplication of 2, 3 is: 6\n"
     ]
    }
   ],
   "source": [
    "#define funciton\n",
    "def multiply_nums(string):\n",
    "    input_list = list(map(int, string.split(\",\")))\n",
    "    result = 1\n",
    "    for i in input_list:\n",
    "        result *= i\n",
    "    return result\n",
    "\n",
    "#Get input string of numbers seperated by comma and space\n",
    "input_num = input(\"Enter numbers seperated by ',': \")\n",
    "\n",
    "#calling function to multiply input numbers\n",
    "result = multiply_nums(input_num)\n",
    "print(\"Multiplication of {} is: {}\".format(input_num, result))"
   ]
  },
  {
   "cell_type": "markdown",
   "metadata": {},
   "source": [
    "### Q3.. Question 3\n",
    "Create a function that squares every digit of a number.\n",
    "Examples\n",
    "square_digits(9119) ➞ 811181\n",
    "\n",
    "square_digits(2483) ➞ 416649\n",
    "\n",
    "square_digits(3212) ➞ 9414\n",
    "\n",
    "Notes\n",
    "\n",
    "The function receives an integer and must return an integer.\n"
   ]
  },
  {
   "cell_type": "code",
   "execution_count": 40,
   "metadata": {
    "scrolled": true
   },
   "outputs": [
    {
     "name": "stdout",
     "output_type": "stream",
     "text": [
      "square_digits(9119) ->  811181\n",
      "square_digits(2483) ->  416649\n",
      "square_digits(3212) ->  9414\n"
     ]
    }
   ],
   "source": [
    "#define function\n",
    "def square_digits(num):\n",
    "    new_str = \"\"\n",
    "    temp_num = num\n",
    "    temp_list = []\n",
    "    \n",
    "    while temp_num > 0:\n",
    "        digit = temp_num % 10\n",
    "        temp_list.append(digit)\n",
    "        temp_num = temp_num //10\n",
    "        \n",
    "    for i in reversed(temp_list):\n",
    "        \n",
    "        new_str += str(i ** 2)\n",
    "\n",
    "    new_num = int(new_str)\n",
    "    \n",
    "    return new_num\n",
    "\n",
    "print(\"square_digits(9119) -> \", square_digits(9119))\n",
    "print(\"square_digits(2483) -> \", square_digits(2483))\n",
    "print(\"square_digits(3212) -> \", square_digits(3212))"
   ]
  },
  {
   "cell_type": "markdown",
   "metadata": {},
   "source": [
    "### Q4.Question 4\n",
    "Create a function that sorts a list and removes all duplicate items from it.\n",
    "Examples\n",
    "setify([1, 3, 3, 5, 5]) ➞ [1, 3, 5]\n",
    "\n",
    "setify([4, 4, 4, 4]) ➞ [4]\n",
    "\n",
    "setify([5, 7, 8, 9, 10, 15]) ➞ [5, 7, 8, 9, 10, 15]\n",
    "\n",
    "setify([3, 3, 3, 2, 1]) ➞ [1, 2, 3]\n"
   ]
  },
  {
   "cell_type": "code",
   "execution_count": 51,
   "metadata": {
    "scrolled": true
   },
   "outputs": [
    {
     "name": "stdout",
     "output_type": "stream",
     "text": [
      "setify([1, 3, 5, 3, 5]) ->  [1, 3, 5]\n",
      "setify([4, 4, 4, 4]) ->  [4]\n",
      "setify([5, 7, 8, 9, 10, 15]) ->  [5, 7, 8, 9, 10, 15]\n",
      "setify([3, 3, 3, 2, 1]) ->  [1, 2, 3]\n"
     ]
    }
   ],
   "source": [
    "#define function\n",
    "def setify(lst):\n",
    "    \n",
    "    new_lst = []\n",
    "    \n",
    "    for i in lst:\n",
    "        if i not in new_lst:\n",
    "            new_lst.append(i)\n",
    "    \n",
    "    return sorted(new_lst)\n",
    "            \n",
    "print(\"setify([1, 3, 5, 3, 5]) -> \", setify([1, 3, 5, 3, 5]))\n",
    "print(\"setify([4, 4, 4, 4]) -> \", setify([4, 4, 4, 4]))\n",
    "print(\"setify([5, 7, 8, 9, 10, 15]) -> \", setify([5, 7, 8, 9, 10, 15]))\n",
    "print(\"setify([3, 3, 3, 2, 1]) -> \", setify([3, 3, 3, 2, 1]))"
   ]
  },
  {
   "cell_type": "markdown",
   "metadata": {},
   "source": [
    "### Q5. Create a function that returns the mean of all digits.\n",
    "Examples\n",
    "mean(42) ➞ 3\n",
    "\n",
    "mean(12345) ➞ 3\n",
    "\n",
    "mean(666) ➞ 6\n",
    "Notes\n",
    "•\tThe mean of all digits is the sum of digits / how many digits there are (e.g. mean of digits in 512 is (5+1+2)/3(number of digits) = 8/3=2).\n",
    "•\tThe mean will always be an integer.\n",
    "\n"
   ]
  },
  {
   "cell_type": "code",
   "execution_count": 55,
   "metadata": {},
   "outputs": [
    {
     "name": "stdout",
     "output_type": "stream",
     "text": [
      "mean(42) ->  3\n",
      "mean(12345) ->  3\n",
      "mean(666) ->  6\n"
     ]
    }
   ],
   "source": [
    "#define function\n",
    "def mean(num):\n",
    "    temp_num = num\n",
    "    temp_sum = 0\n",
    "    num_of_digits = 0\n",
    "    while temp_num > 0:\n",
    "        digit = temp_num % 10\n",
    "        temp_sum = temp_sum + digit\n",
    "        num_of_digits = num_of_digits + 1\n",
    "        temp_num = temp_num // 10\n",
    "    \n",
    "    mean_value = temp_sum / num_of_digits\n",
    "    \n",
    "    return int(mean_value)\n",
    "\n",
    "print(\"mean(42) -> \", mean(42))\n",
    "print(\"mean(12345) -> \", mean(12345))\n",
    "print(\"mean(666) -> \", mean(666))\n",
    "        "
   ]
  }
 ],
 "metadata": {
  "celltoolbar": "Raw Cell Format",
  "kernelspec": {
   "display_name": "Python 3",
   "language": "python",
   "name": "python3"
  },
  "language_info": {
   "codemirror_mode": {
    "name": "ipython",
    "version": 3
   },
   "file_extension": ".py",
   "mimetype": "text/x-python",
   "name": "python",
   "nbconvert_exporter": "python",
   "pygments_lexer": "ipython3",
   "version": "3.8.8"
  }
 },
 "nbformat": 4,
 "nbformat_minor": 4
}
