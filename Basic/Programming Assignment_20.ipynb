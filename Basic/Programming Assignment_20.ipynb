{
 "cells": [
  {
   "cell_type": "markdown",
   "metadata": {},
   "source": [
    "### Programming Assignment_20\n",
    "### By: Arpan Dutta"
   ]
  },
  {
   "cell_type": "markdown",
   "metadata": {},
   "source": [
    "### Q1. Create a function that takes a list of strings and integers, and filters out the list so that it returns a list of integers only.\n",
    "Examples\n",
    "filter_list([1, 2, 3, \"a\", \"b\", 4]) ➞ [1, 2, 3, 4]\n",
    "\n",
    "filter_list([\"A\", 0, \"Edabit\", 1729, \"Python\", \"1729\"]) ➞ [0, 1729]\n",
    "\n",
    "filter_list([\"Nothing\", \"here\"]) ➞ []\n"
   ]
  },
  {
   "cell_type": "code",
   "execution_count": 9,
   "metadata": {},
   "outputs": [
    {
     "name": "stdout",
     "output_type": "stream",
     "text": [
      "[1, 2, 3, 4]\n",
      "[0, 1729]\n",
      "[]\n"
     ]
    }
   ],
   "source": [
    "#define function\n",
    "def filter_list(lst):\n",
    "    new_lst =[]\n",
    "    for i in lst:\n",
    "        if type(i) == int:\n",
    "            new_lst.append(i)\n",
    "    return new_lst\n",
    "\n",
    "print(filter_list([1, 2, 3, \"a\", \"b\", 4]))\n",
    "print(filter_list([\"A\", 0, \"Edabit\", 1729, \"Python\", \"1729\"]))\n",
    "print(filter_list([\"Nothing\", \"here\"]))\n",
    "            "
   ]
  },
  {
   "cell_type": "markdown",
   "metadata": {},
   "source": [
    "### Q2. Given a list of numbers, create a function which returns the list but with each element's index in the list added to itself. This means you add 0 to the number at index 0, add 1 to the number at index 1, etc...\n",
    "Examples\n",
    "add_indexes([0, 0, 0, 0, 0]) ➞ [0, 1, 2, 3, 4]\n",
    "\n",
    "add_indexes([1, 2, 3, 4, 5]) ➞ [1, 3, 5, 7, 9]\n",
    "\n",
    "add_indexes([5, 4, 3, 2, 1]) ➞ [5, 5, 5, 5, 5]"
   ]
  },
  {
   "cell_type": "code",
   "execution_count": 12,
   "metadata": {
    "scrolled": true
   },
   "outputs": [
    {
     "name": "stdout",
     "output_type": "stream",
     "text": [
      "[0, 1, 2, 3, 4]\n",
      "[1, 3, 5, 7, 9]\n",
      "[5, 5, 5, 5, 5]\n"
     ]
    }
   ],
   "source": [
    "#define function\n",
    "def add_indexes(lst):\n",
    "    for i, j in enumerate(lst):\n",
    "        lst[i] = lst[i] + i\n",
    "    return lst\n",
    "\n",
    "# test function\n",
    "print(add_indexes([0, 0, 0, 0, 0]))\n",
    "print(add_indexes([1, 2, 3, 4, 5]))\n",
    "print(add_indexes([5, 4, 3, 2, 1]))"
   ]
  },
  {
   "cell_type": "markdown",
   "metadata": {},
   "source": [
    "### Q3.. Create a function that takes the height and radius of a cone as arguments and returns the volume of the cone rounded to the nearest hundredth. See the resources tab for the formula.\n",
    " \n",
    "Examples\n",
    "cone_volume(3, 2) ➞ 12.57\n",
    "\n",
    "cone_volume(15, 6) ➞ 565.49\n",
    "\n",
    "cone_volume(18, 0) ➞ 0\n"
   ]
  },
  {
   "cell_type": "code",
   "execution_count": 20,
   "metadata": {},
   "outputs": [
    {
     "name": "stdout",
     "output_type": "stream",
     "text": [
      "12.57\n",
      "565.49\n",
      "0.0\n"
     ]
    }
   ],
   "source": [
    "#define fucntion\n",
    "import math\n",
    "def cone_volume(height, radius):\n",
    "    return round(((1/3)*math.pi*(radius**2)*height), 2)\n",
    "\n",
    "print(cone_volume(3, 2))\n",
    "print(cone_volume(15, 6))\n",
    "print(cone_volume(18, 0))"
   ]
  },
  {
   "cell_type": "markdown",
   "metadata": {},
   "source": [
    "### Q4. This Triangular Number Sequence is generated from a pattern of dots that form a triangle. The first 5 numbers of the sequence, or dots, are: \n",
    "1, 3, 6, 10, 15\n",
    "This means that the first triangle has just one dot, the second one has three dots, the third one has 6 dots and so on.\n",
    "Write a function that gives the number of dots with its corresponding triangle number of the sequence.\n",
    "Examples\n",
    "triangle(1) ➞ 1\n",
    "\n",
    "triangle(6) ➞ 21\n",
    "\n",
    "triangle(215) ➞ 23220"
   ]
  },
  {
   "cell_type": "code",
   "execution_count": 79,
   "metadata": {
    "scrolled": false
   },
   "outputs": [
    {
     "name": "stdout",
     "output_type": "stream",
     "text": [
      "triangle(1) -> 1\n",
      "triangle(6) -> 21\n",
      "triangle(215) -> 23220\n"
     ]
    }
   ],
   "source": [
    "# function to generate triangluar number sequence list\n",
    "\n",
    "def triangle_sequence_list(num):\n",
    "    \"\"\" This function generates and returns triangular number sequence list (including for 0 number)\"\"\"\n",
    "    add_lst = list(range(1, num+1))\n",
    "    final_list = [0]\n",
    "    \n",
    "    for i, j in enumerate(add_lst):\n",
    "        final_list.append(final_list[i] + add_lst[i])\n",
    "    \n",
    "    return final_list\n",
    "\n",
    "\n",
    "# function to call traingle_sequence_list and return corresponding value\n",
    "\n",
    "def triangle(num):\n",
    "    \"\"\" This fucntion calls triangluar sequence list generator and returns corresponding value to input value\"\"\"\n",
    "    return triangle_sequence_list(num)[num]\n",
    "\n",
    "\n",
    "#test fucntion\n",
    "\n",
    "print(\"triangle(1) ->\", triangle(1))\n",
    "print(\"triangle(6) ->\", triangle(6))\n",
    "print(\"triangle(215) ->\", triangle(215))"
   ]
  },
  {
   "cell_type": "markdown",
   "metadata": {},
   "source": [
    "### Q5. Create a function that takes a list of numbers between 1 and 10 (excluding one number) and returns the missing number.\n",
    "Examples\n",
    "missing_num([1, 2, 3, 4, 6, 7, 8, 9, 10]) ➞ 5\n",
    "\n",
    "missing_num([7, 2, 3, 6, 5, 9, 1, 4, 8]) ➞ 10\n",
    "\n",
    "missing_num([10, 5, 1, 2, 4, 6, 8, 3, 9]) ➞ 7\n"
   ]
  },
  {
   "cell_type": "code",
   "execution_count": 97,
   "metadata": {},
   "outputs": [
    {
     "name": "stdout",
     "output_type": "stream",
     "text": [
      "missing_num([1, 2, 3, 4, 6, 7, 8, 9, 10]) ->  5\n",
      "missing_num([7, 2, 3, 6, 5, 9, 1, 4, 8]) ->  10\n",
      "missing_num([10, 5, 1, 2, 4, 6, 8, 3, 9]) ->  7\n"
     ]
    }
   ],
   "source": [
    "#define function\n",
    "def missing_num(lst):\n",
    "    base_list = list(range(1,11))\n",
    "\n",
    "    for i in base_list:\n",
    "        if i not in lst:\n",
    "            return i\n",
    "            \n",
    "    return \"No missing number\"\n",
    "\n",
    "#test function\n",
    "\n",
    "print(\"missing_num([1, 2, 3, 4, 6, 7, 8, 9, 10]) -> \", missing_num([1, 2, 3, 4, 6, 7, 8, 9, 10]))\n",
    "print(\"missing_num([7, 2, 3, 6, 5, 9, 1, 4, 8]) -> \", missing_num([7, 2, 3, 6, 5, 9, 1, 4, 8]))\n",
    "print(\"missing_num([10, 5, 1, 2, 4, 6, 8, 3, 9]) -> \", missing_num([10, 5, 1, 2, 4, 6, 8, 3, 9]))\n",
    "\n"
   ]
  }
 ],
 "metadata": {
  "kernelspec": {
   "display_name": "Python 3",
   "language": "python",
   "name": "python3"
  },
  "language_info": {
   "codemirror_mode": {
    "name": "ipython",
    "version": 3
   },
   "file_extension": ".py",
   "mimetype": "text/x-python",
   "name": "python",
   "nbconvert_exporter": "python",
   "pygments_lexer": "ipython3",
   "version": "3.8.8"
  }
 },
 "nbformat": 4,
 "nbformat_minor": 4
}
