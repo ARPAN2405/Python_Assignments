{
 "cells": [
  {
   "cell_type": "markdown",
   "metadata": {},
   "source": [
    "## Programming Assignment_9\n",
    "### By: Arpan Dutta"
   ]
  },
  {
   "cell_type": "markdown",
   "metadata": {},
   "source": [
    "### Q1. Write a Python program to check if the given number is a Disarium Number?"
   ]
  },
  {
   "cell_type": "code",
   "execution_count": 25,
   "metadata": {},
   "outputs": [
    {
     "name": "stdout",
     "output_type": "stream",
     "text": [
      "Enter a number: 175\n",
      "It is a Disarium number!\n"
     ]
    }
   ],
   "source": [
    "# Write a Python program to check if the given number is a Disarium Number\n",
    "def is_disarium(num):\n",
    "    temp = num\n",
    "    sum_num = 0\n",
    "    i = len(str(num))\n",
    "    \n",
    "    while temp > 0:\n",
    "        last_digit = temp % 10\n",
    "        sum_num += last_digit ** (i)\n",
    "        temp = temp // 10\n",
    "        i -= 1\n",
    "    if num == sum_num:\n",
    "        return True      \n",
    "    else:\n",
    "        return False\n",
    "\n",
    "num = int(input(\"Enter a number: \"))\n",
    "\n",
    "if is_disarium(num):\n",
    "    print(\"It is a Disarium number!\")\n",
    "else:\n",
    "    print(\"It is NOT a Disarium numner\")        "
   ]
  },
  {
   "cell_type": "markdown",
   "metadata": {},
   "source": [
    "### Q2. Write a Python program to print all disarium numbers between 1 to 100?"
   ]
  },
  {
   "cell_type": "code",
   "execution_count": 30,
   "metadata": {},
   "outputs": [
    {
     "name": "stdout",
     "output_type": "stream",
     "text": [
      "0 1 2 3 4 5 6 7 8 9 89 "
     ]
    }
   ],
   "source": [
    "# Write a Python program to print all disarium numbers between 1 to 100\n",
    "def is_disarium(num):\n",
    "    temp = num\n",
    "    sum_num = 0\n",
    "    i = len(str(num))\n",
    "    \n",
    "    while temp > 0:\n",
    "        last_digit = temp % 10\n",
    "        sum_num += last_digit ** (i)\n",
    "        temp = temp // 10\n",
    "        i -= 1\n",
    "    if num == sum_num:\n",
    "        return True      \n",
    "    else:\n",
    "        return False\n",
    "\n",
    "for i in range(100):\n",
    "    if is_disarium(i):\n",
    "        print(i, end = \" \")"
   ]
  },
  {
   "cell_type": "markdown",
   "metadata": {},
   "source": [
    "### Q3. Write a Python program to check if the given number is Happy Number?"
   ]
  },
  {
   "cell_type": "code",
   "execution_count": 66,
   "metadata": {},
   "outputs": [
    {
     "name": "stdout",
     "output_type": "stream",
     "text": [
      "Enter a number: 19\n",
      "19 is a happy number!\n"
     ]
    }
   ],
   "source": [
    "# Write a Python program to check if the given number is Happy Number\n",
    "def sum_square_digits(num):\n",
    "    temp = num\n",
    "    sum_num = 0\n",
    "    while temp > 0:\n",
    "        digit = temp % 10\n",
    "        sum_num += digit ** 2\n",
    "        temp = temp // 10\n",
    "    return sum_num\n",
    "\n",
    "def is_happy(num):\n",
    "    sum_sq_digits = sum_square_digits(num)\n",
    "\n",
    "    while (sum_sq_digits < 1) or (sum_sq_digits > 9):\n",
    "        sum_sq_digits = sum_square_digits(sum_sq_digits)\n",
    "        \n",
    "    if sum_sq_digits % 10 == 1:\n",
    "        return True\n",
    "    else:\n",
    "        return False\n",
    "        \n",
    "num = int(input(\"Enter a number: \"))\n",
    "if is_happy(num):\n",
    "    print(\"{} is a happy number!\".format(num))\n",
    "else:\n",
    "    print(\"{} is NOT a happy number\".format(num))\n"
   ]
  },
  {
   "cell_type": "markdown",
   "metadata": {},
   "source": [
    "### Q4. Write a Python program to print all happy numbers between 1 and 100?"
   ]
  },
  {
   "cell_type": "code",
   "execution_count": 67,
   "metadata": {},
   "outputs": [
    {
     "name": "stdout",
     "output_type": "stream",
     "text": [
      "1 7 10 13 19 23 28 31 32 44 49 68 70 79 82 86 91 94 97 100 "
     ]
    }
   ],
   "source": [
    "# Write a Python program to print all happy numbers between 1 and 100\n",
    "def sum_square_digits(num):\n",
    "    temp = num\n",
    "    sum_num = 0\n",
    "    while temp > 0:\n",
    "        digit = temp % 10\n",
    "        sum_num += digit ** 2\n",
    "        temp = temp // 10\n",
    "    return sum_num\n",
    "\n",
    "def is_happy(num):\n",
    "    sum_sq_digits = sum_square_digits(num)\n",
    "\n",
    "    while (sum_sq_digits < 1) or (sum_sq_digits > 9):\n",
    "        sum_sq_digits = sum_square_digits(sum_sq_digits)\n",
    "        \n",
    "    if sum_sq_digits % 10 == 1:\n",
    "        return True\n",
    "    else:\n",
    "        return False\n",
    "        \n",
    "#print happy number between 1 and 100\n",
    "for i in range(1,101):\n",
    "    if is_happy(i):\n",
    "        print(i, end = \" \")"
   ]
  },
  {
   "cell_type": "markdown",
   "metadata": {},
   "source": [
    "### Q5. Write a Python program to determine whether the given number is a Harshad Number?"
   ]
  },
  {
   "cell_type": "code",
   "execution_count": 72,
   "metadata": {},
   "outputs": [
    {
     "name": "stdout",
     "output_type": "stream",
     "text": [
      "Enter a number: 20\n",
      "20 is a harshad number!\n"
     ]
    }
   ],
   "source": [
    "# Write a Python program to determine whether the given number is a Harshad Number\n",
    "\n",
    "def sum_digits(num):\n",
    "    temp = num\n",
    "    sum_num = 0\n",
    "    while temp > 0:\n",
    "        digits = temp % 10\n",
    "        sum_num += digits\n",
    "        temp = temp // 10\n",
    "    \n",
    "    return sum_num\n",
    "\n",
    "def is_harshad(num):\n",
    "    return num % sum_digits(num) == 0\n",
    "\n",
    "num = int(input(\"Enter a number: \"))\n",
    "\n",
    "if is_harshad(num):\n",
    "    print(\"{} is a harshad number!\".format(num))\n",
    "else:\n",
    "    print(\"{} is NOT a harshad number!\".format(num))"
   ]
  },
  {
   "cell_type": "markdown",
   "metadata": {},
   "source": [
    "### Q6. Write a Python program to print all pronic numbers between 1 and 100?"
   ]
  },
  {
   "cell_type": "code",
   "execution_count": 94,
   "metadata": {},
   "outputs": [
    {
     "name": "stdout",
     "output_type": "stream",
     "text": [
      "2 6 12 20 30 42 56 72 90 "
     ]
    }
   ],
   "source": [
    "# Write a Python program to print all pronic numbers between 1 and 100\n",
    "\n",
    "def is_pronic(num):\n",
    "    for i in range(1, num):\n",
    "        if i * (i+1) == num: #checking for proninc i.e. if num is equal to multiplication of two consecutive numbers?\n",
    "            return True\n",
    "    else:\n",
    "        return False\n",
    "\n",
    "#printing pronic numbers between 1 and 100\n",
    "for i in range(1, 100):\n",
    "    if is_pronic(i):\n",
    "        print(i, end = \" \")\n",
    "\n"
   ]
  },
  {
   "cell_type": "code",
   "execution_count": null,
   "metadata": {},
   "outputs": [],
   "source": []
  }
 ],
 "metadata": {
  "kernelspec": {
   "display_name": "Python 3",
   "language": "python",
   "name": "python3"
  },
  "language_info": {
   "codemirror_mode": {
    "name": "ipython",
    "version": 3
   },
   "file_extension": ".py",
   "mimetype": "text/x-python",
   "name": "python",
   "nbconvert_exporter": "python",
   "pygments_lexer": "ipython3",
   "version": "3.8.3"
  }
 },
 "nbformat": 4,
 "nbformat_minor": 4
}
