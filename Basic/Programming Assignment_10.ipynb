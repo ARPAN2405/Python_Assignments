{
 "cells": [
  {
   "cell_type": "markdown",
   "metadata": {},
   "source": [
    "## Programming Assignment_10\n",
    "### By: Arpan Dutta"
   ]
  },
  {
   "cell_type": "markdown",
   "metadata": {},
   "source": [
    "### Q1. Write a Python program to find sum of elements in list?"
   ]
  },
  {
   "cell_type": "code",
   "execution_count": 8,
   "metadata": {},
   "outputs": [
    {
     "name": "stdout",
     "output_type": "stream",
     "text": [
      "Sum of all elements in list: [1, 2, 3, 4, 5, 6] is = 21\n"
     ]
    }
   ],
   "source": [
    "# Write a Python program to find sum of elements in list\n",
    "def sum_list(lst):\n",
    "    sum_lst = 0\n",
    "    for element in lst:\n",
    "        sum_lst += element\n",
    "    return sum_lst\n",
    "\n",
    "list_of_no = [1, 2, 3, 4, 5, 6]\n",
    "    \n",
    "print(\"Sum of all elements in list: {} is = {}\".format(list_of_no, sum_list(list_of_no)))"
   ]
  },
  {
   "cell_type": "markdown",
   "metadata": {},
   "source": [
    "### Q2. Write a Python program to Multiply all numbers in the list?"
   ]
  },
  {
   "cell_type": "code",
   "execution_count": 11,
   "metadata": {},
   "outputs": [
    {
     "name": "stdout",
     "output_type": "stream",
     "text": [
      "Multiplication of all elemnts in list: [1, 2, 3, 4, 5, 6] is = 720\n"
     ]
    }
   ],
   "source": [
    "# Write a Python program to Multiply all numbers in the list\n",
    "def mult_list(lst):\n",
    "    mult_lst = 1\n",
    "    for i in lst:\n",
    "        mult_lst *= i\n",
    "    return mult_lst\n",
    "\n",
    "list_of_no = [1, 2, 3, 4, 5, 6]\n",
    "\n",
    "print(\"Multiplication of all elemnts in list: {} is = {}\".format(list_of_no, mult_list(list_of_no)))\n"
   ]
  },
  {
   "cell_type": "markdown",
   "metadata": {},
   "source": [
    "### Q3. Write a Python program to find smallest number in a list?"
   ]
  },
  {
   "cell_type": "code",
   "execution_count": 16,
   "metadata": {},
   "outputs": [
    {
     "name": "stdout",
     "output_type": "stream",
     "text": [
      "Smallest number int the list: [5, 2, 3, 4, 5, 6] is = 2\n"
     ]
    }
   ],
   "source": [
    "# Write a Python program to find smallest number in a list\n",
    "def min_list(lst):\n",
    "    min_no = lst[0]\n",
    "    for i in lst:\n",
    "        if i < min_no:\n",
    "            min_no = i\n",
    "    return min_no\n",
    "\n",
    "list_of_no = [5, 2, 3, 4, 5, 6]\n",
    "\n",
    "print(\"Smallest number int the list: {} is = {}\".format(list_of_no, min_list(list_of_no)))"
   ]
  },
  {
   "cell_type": "markdown",
   "metadata": {},
   "source": [
    "### Q4. Write a Python program to find largest number in a list?"
   ]
  },
  {
   "cell_type": "code",
   "execution_count": 18,
   "metadata": {},
   "outputs": [
    {
     "name": "stdout",
     "output_type": "stream",
     "text": [
      "Largest number in the list: [5, 2, 3, 7, 5, 6] is = 7\n"
     ]
    }
   ],
   "source": [
    "# Write a Python program to find largest number in a list\n",
    "def max_list(lst):\n",
    "    max_no = lst[0]\n",
    "    for i in lst:\n",
    "        if i > max_no:\n",
    "            max_no = i\n",
    "    return max_no\n",
    "list_of_no = [5, 2, 3, 7, 5, 6]\n",
    "\n",
    "print(\"Largest number in the list: {} is = {}\".format(list_of_no, max_list(list_of_no)))"
   ]
  },
  {
   "cell_type": "markdown",
   "metadata": {},
   "source": [
    "### Q5. Write a Python program to find second largest number in a list?"
   ]
  },
  {
   "cell_type": "code",
   "execution_count": 27,
   "metadata": {},
   "outputs": [
    {
     "name": "stdout",
     "output_type": "stream",
     "text": [
      "Second largest element of list: [1, 2, 3, 4, 5, 6] is = 5\n"
     ]
    }
   ],
   "source": [
    "# WWrite a Python program to find second largest number in a list\n",
    "\n",
    "import copy # to make deepcopy of list\n",
    "\n",
    "def max_list(lst):\n",
    "    max_no = lst[0]\n",
    "    for i in lst:\n",
    "        if i > max_no:\n",
    "            max_no = i\n",
    "    return max_no\n",
    "\n",
    "def second_largest_no(lst):\n",
    "    temp_lst = copy.deepcopy(lst)\n",
    "    \n",
    "    max_no = max_list(lst)\n",
    "    \n",
    "    temp_lst.remove(max_no)\n",
    "        \n",
    "    second_largest_no = max_list(temp_lst)\n",
    "    return second_largest_no\n",
    "\n",
    "list_of_no = [1, 2, 3, 4, 5, 6]\n",
    "\n",
    "print(\"Second largest element of list: {} is = {}\".format(list_of_no, second_largest_no(list_of_no)))\n",
    "            \n",
    "        "
   ]
  },
  {
   "cell_type": "markdown",
   "metadata": {},
   "source": [
    "### Q6. Write a Python program to find N largest elements from a list?"
   ]
  },
  {
   "cell_type": "code",
   "execution_count": 37,
   "metadata": {},
   "outputs": [
    {
     "name": "stdout",
     "output_type": "stream",
     "text": [
      "3th/rd largest element of list: [1, 2, 3, 4, 5, 6] is = 4\n"
     ]
    }
   ],
   "source": [
    "# Write a Python program to find N largest elements from a list\n",
    "\n",
    "import copy # to make deepcopy of list\n",
    "\n",
    "def max_list(lst):\n",
    "    max_no = lst[0]\n",
    "    for i in lst:\n",
    "        if i > max_no:\n",
    "            max_no = i\n",
    "    return max_no\n",
    "\n",
    "def n_largest_no(lst, n):\n",
    "    temp_lst = copy.deepcopy(lst)\n",
    "    \n",
    "    for i in range(n-1):\n",
    "        max_no = max_list(temp_lst)\n",
    "        temp_lst.remove(max_no)\n",
    "        \n",
    "    n_largest_no = max_list(temp_lst)\n",
    "    return n_largest_no\n",
    "\n",
    "list_of_no = [1, 2, 3, 4, 5, 6]\n",
    "n_largest = 3\n",
    "\n",
    "print(\"{}th/rd largest element of list: {} is = {}\".format(n_largest, list_of_no, n_largest_no(list_of_no, n_largest)))"
   ]
  },
  {
   "cell_type": "markdown",
   "metadata": {},
   "source": [
    "### Q7. Write a Python program to print even numbers in a list?"
   ]
  },
  {
   "cell_type": "code",
   "execution_count": 39,
   "metadata": {},
   "outputs": [
    {
     "name": "stdout",
     "output_type": "stream",
     "text": [
      "2 4 6 "
     ]
    }
   ],
   "source": [
    "# Write a Python program to print even numbers in a list\n",
    "def even_no_in_list(lst):\n",
    "    for i in lst:\n",
    "        if i % 2 == 0:\n",
    "            print(i, end = \" \")\n",
    "\n",
    "list_of_no = [1, 2, 3, 4, 5, 6]\n",
    "even_no_in_list(list_of_no)"
   ]
  },
  {
   "cell_type": "markdown",
   "metadata": {},
   "source": [
    "### Q8. Write a Python program to print odd numbers in a List?"
   ]
  },
  {
   "cell_type": "code",
   "execution_count": 40,
   "metadata": {},
   "outputs": [
    {
     "name": "stdout",
     "output_type": "stream",
     "text": [
      "1 3 5 "
     ]
    }
   ],
   "source": [
    "# Write a Python program to print odd numbers in a List\n",
    "def odd_no_in_list(lst):\n",
    "    for i in lst:\n",
    "        if i % 2 != 0:\n",
    "            print(i, end = \" \")\n",
    "\n",
    "list_of_no = [1, 2, 3, 4, 5, 6]\n",
    "odd_no_in_list(list_of_no)"
   ]
  },
  {
   "cell_type": "markdown",
   "metadata": {},
   "source": [
    "### Q9. Write a Python program to Remove empty List from List?"
   ]
  },
  {
   "cell_type": "code",
   "execution_count": 61,
   "metadata": {},
   "outputs": [
    {
     "name": "stdout",
     "output_type": "stream",
     "text": [
      "After removing empty elements list is = [1, 2, 3, 4, 5, 6] \n"
     ]
    }
   ],
   "source": [
    "# Write a Python program to Remove empty List from List\n",
    "def remove_empty_list(lst):\n",
    "    for i, j in enumerate(lst):\n",
    "        if type(j) == list:\n",
    "            if len(lst[i]) == 0:\n",
    "                lst.pop(i)\n",
    "    return lst\n",
    "\n",
    "list_of_no = [1, 2, 3, [], 4, 5, [], 6, []]\n",
    "remove_empty_list(list_of_no)\n",
    "print(\"After removing empty elements list is = {} \".format(list_of_no, remove_empty_list(list_of_no)))"
   ]
  },
  {
   "cell_type": "markdown",
   "metadata": {},
   "source": [
    "### Q10. Write a Python program to Cloning or Copying a list?"
   ]
  },
  {
   "cell_type": "code",
   "execution_count": 66,
   "metadata": {},
   "outputs": [
    {
     "name": "stdout",
     "output_type": "stream",
     "text": [
      "New list is: [1, 2, 3, 4, 5, 6]\n"
     ]
    }
   ],
   "source": [
    "# Write a Python program to Cloning or Copying a list\n",
    "def copy_list(lst):\n",
    "    new_list = []\n",
    "    for i in lst:\n",
    "        new_list.append(i)\n",
    "    return new_list\n",
    "\n",
    "old_list = [1, 2, 3, 4, 5, 6]\n",
    "\n",
    "new_list = copy_list(old_list)\n",
    "\n",
    "print(\"New list is: {}\".format(new_list))\n",
    "        "
   ]
  },
  {
   "cell_type": "markdown",
   "metadata": {},
   "source": [
    "### Q11. Write a Python program to Count occurrences of an element in a list?"
   ]
  },
  {
   "cell_type": "code",
   "execution_count": 68,
   "metadata": {},
   "outputs": [
    {
     "name": "stdout",
     "output_type": "stream",
     "text": [
      "No of times 2 appeared in the list: [1, 2, 3, 2, 4, 5, 2, 6] = 3 \n"
     ]
    }
   ],
   "source": [
    "# Write a Python program to Count occurrences of an element in a list\n",
    "def count_list(lst, n):\n",
    "    count_n = 0\n",
    "    for i in lst:\n",
    "        if i == n:\n",
    "            count_n += 1\n",
    "    return count_n\n",
    "\n",
    "list_of_no = [1, 2, 3, 2, 4, 5, 2, 6]\n",
    "n = 2\n",
    "count_n = count_list(list_of_no, n)\n",
    "print(\"No of times {} appeared in the list: {} = {} \".format(n, list_of_no, count_n))  "
   ]
  }
 ],
 "metadata": {
  "kernelspec": {
   "display_name": "Python 3",
   "language": "python",
   "name": "python3"
  },
  "language_info": {
   "codemirror_mode": {
    "name": "ipython",
    "version": 3
   },
   "file_extension": ".py",
   "mimetype": "text/x-python",
   "name": "python",
   "nbconvert_exporter": "python",
   "pygments_lexer": "ipython3",
   "version": "3.8.3"
  }
 },
 "nbformat": 4,
 "nbformat_minor": 4
}
