{
 "cells": [
  {
   "cell_type": "markdown",
   "metadata": {},
   "source": [
    "### Programming Assignment_19\n",
    "### By: Arpan Dutta"
   ]
  },
  {
   "cell_type": "markdown",
   "metadata": {},
   "source": [
    "### Q1. Create a function that takes a string and returns a string in which each character is repeated once.\n",
    "Examples\n",
    "double_char(\"String\") ➞ \"SSttrriinngg\"\n",
    "\n",
    "double_char(\"Hello World!\") ➞ \"HHeelllloo  WWoorrlldd!!\"\n",
    "\n",
    "double_char(\"1234!_ \") ➞ \"11223344!!__  \"\n"
   ]
  },
  {
   "cell_type": "code",
   "execution_count": 3,
   "metadata": {},
   "outputs": [
    {
     "name": "stdout",
     "output_type": "stream",
     "text": [
      "SSttrriinngg\n",
      "HHeelllloo  WWoorrlldd!!\n",
      "11223344!!__  \n"
     ]
    }
   ],
   "source": [
    "def double_char(string):\n",
    "    new_str = \"\"\n",
    "    for i,j in enumerate(string):\n",
    "        new_str += j + j\n",
    "    return new_str\n",
    "\n",
    "print(double_char(\"String\"))\n",
    "print(double_char(\"Hello World!\"))\n",
    "print(double_char(\"1234!_ \"))"
   ]
  },
  {
   "cell_type": "markdown",
   "metadata": {},
   "source": [
    "### Q2. Create a function that reverses a boolean value and returns the string \"boolean expected\" if another variable type is given.\n",
    "Examples\n",
    "reverse(True) ➞ False\n",
    "\n",
    "reverse(False) ➞ True\n",
    "\n",
    "reverse(0) ➞ \"boolean expected\"\n",
    "\n",
    "reverse(None) ➞ \"boolean expected\"\n"
   ]
  },
  {
   "cell_type": "code",
   "execution_count": 5,
   "metadata": {
    "scrolled": true
   },
   "outputs": [
    {
     "name": "stdout",
     "output_type": "stream",
     "text": [
      "False\n",
      "True\n",
      "boolean expected\n",
      "boolean expected\n"
     ]
    }
   ],
   "source": [
    "def reverse(value):\n",
    "    if type(value) != bool:\n",
    "        return \"boolean expected\"\n",
    "    elif value == True:\n",
    "        return False\n",
    "    else:\n",
    "        return True\n",
    "\n",
    "print(reverse(True))\n",
    "print(reverse(False))\n",
    "print(reverse(0))\n",
    "print(reverse(None))\n"
   ]
  },
  {
   "cell_type": "markdown",
   "metadata": {},
   "source": [
    "### Q3.. Create a function that returns the thickness (in meters) of a piece of paper after folding it n number of times. The paper starts off with a thickness of 0.5mm.\n",
    "Examples\n",
    "num_layers(1) ➞ \"0.001m\"\n",
    "Paper folded once is 1mm (equal to 0.001m)\n",
    "\n",
    "num_layers(4) ➞ \"0.008m\"\n",
    "Paper folded 4 times is 8mm (equal to 0.008m)\n",
    "\n",
    "num_layers(21) ➞ \"1048.576m\"\n",
    "Paper folded 21 times is 1048576mm (equal to 1048.576m)\n"
   ]
  },
  {
   "cell_type": "code",
   "execution_count": 17,
   "metadata": {},
   "outputs": [
    {
     "name": "stdout",
     "output_type": "stream",
     "text": [
      "After num_layers(1) thickness ->  0.001\n",
      "After num_layers(4) thickness ->  0.008\n",
      "After num_layers(21) thickness ->  1048.576\n"
     ]
    }
   ],
   "source": [
    "# define function\n",
    "def num_layers(layers):\n",
    "    area = 0.5\n",
    "    for i in range(layers):\n",
    "        area = area *2\n",
    "    return area / 1000\n",
    "\n",
    "# test fucntion\n",
    "print(\"After num_layers(1) thickness -> \", num_layers(1))\n",
    "print(\"After num_layers(4) thickness -> \", num_layers(4))\n",
    "print(\"After num_layers(21) thickness -> \",num_layers(21))"
   ]
  },
  {
   "cell_type": "markdown",
   "metadata": {},
   "source": [
    "### Q4. Create a function that takes a single string as argument and returns an ordered list containing the indices of all capital letters in the string.\n",
    "Examples\n",
    "index_of_caps(\"eDaBiT\") ➞ [1, 3, 5]\n",
    "\n",
    "index_of_caps(\"eQuINoX\") ➞ [1, 3, 4, 6]\n",
    "\n",
    "index_of_caps(\"determine\") ➞ []\n",
    "\n",
    "index_of_caps(\"STRIKE\") ➞ [0, 1, 2, 3, 4, 5]\n",
    "\n",
    "index_of_caps(\"sUn\") ➞ [1]\n",
    "\n"
   ]
  },
  {
   "cell_type": "code",
   "execution_count": 31,
   "metadata": {},
   "outputs": [
    {
     "name": "stdout",
     "output_type": "stream",
     "text": [
      "index_of_caps(\"eDaBiT\"):  [1, 3, 5]\n",
      "index_of_caps(\"eQuINoX\"):  [1, 3, 4, 6]\n",
      "index_of_caps(\"determine\"):  []\n",
      "index_of_caps(\"STRIKE\"):  [0, 1, 2, 3, 4, 5]\n",
      "index_of_caps(\"sUn\"):  [1]\n"
     ]
    }
   ],
   "source": [
    "#define function\n",
    "def index_of_caps(string):\n",
    "    index_lst = []\n",
    "    for i, j in enumerate(string):\n",
    "        if j.isupper():\n",
    "            index_lst.append(i)\n",
    "    return index_lst\n",
    "\n",
    "#test function\n",
    "print('index_of_caps(\"eDaBiT\"): ', index_of_caps(\"eDaBiT\"))\n",
    "print('index_of_caps(\"eQuINoX\"): ', index_of_caps(\"eQuINoX\"))\n",
    "print('index_of_caps(\"determine\"): ', index_of_caps(\"determine\"))\n",
    "print('index_of_caps(\"STRIKE\"): ', index_of_caps(\"STRIKE\"))\n",
    "print('index_of_caps(\"sUn\"): ', index_of_caps(\"sUn\"))"
   ]
  },
  {
   "cell_type": "markdown",
   "metadata": {},
   "source": [
    "### Q5. Using list comprehensions, create a function that finds all even numbers from 1 to the given number.\n",
    "Examples\n",
    "find_even_nums(8) ➞ [2, 4, 6, 8]\n",
    "\n",
    "find_even_nums(4) ➞ [2, 4]\n",
    "\n",
    "find_even_nums(2) ➞ [2]\n"
   ]
  },
  {
   "cell_type": "code",
   "execution_count": 28,
   "metadata": {},
   "outputs": [
    {
     "name": "stdout",
     "output_type": "stream",
     "text": [
      "find_even_nums(8):  [0, 2, 4, 6]\n",
      "find_even_nums(4):  [0, 2]\n",
      "find_even_nums(2):  [0]\n"
     ]
    }
   ],
   "source": [
    "#define function - using list comprehension\n",
    "def find_even_nums(num):\n",
    "    return [i for i in range(num) if i%2 == 0] # list comprehnsion\n",
    "\n",
    "print(\"find_even_nums(8): \", find_even_nums(8))\n",
    "print(\"find_even_nums(4): \", find_even_nums(4))\n",
    "print(\"find_even_nums(2): \", find_even_nums(2))"
   ]
  },
  {
   "cell_type": "code",
   "execution_count": null,
   "metadata": {},
   "outputs": [],
   "source": []
  }
 ],
 "metadata": {
  "kernelspec": {
   "display_name": "Python 3",
   "language": "python",
   "name": "python3"
  },
  "language_info": {
   "codemirror_mode": {
    "name": "ipython",
    "version": 3
   },
   "file_extension": ".py",
   "mimetype": "text/x-python",
   "name": "python",
   "nbconvert_exporter": "python",
   "pygments_lexer": "ipython3",
   "version": "3.8.8"
  }
 },
 "nbformat": 4,
 "nbformat_minor": 4
}
