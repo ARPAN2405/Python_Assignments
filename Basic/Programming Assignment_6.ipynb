{
 "cells": [
  {
   "cell_type": "markdown",
   "metadata": {},
   "source": [
    "## Programming Assignment_6\n",
    "### By: Arpan Dutta"
   ]
  },
  {
   "cell_type": "markdown",
   "metadata": {},
   "source": [
    "### Q1. Write a Python Program to Display Fibonacci Sequence Using Recursion?"
   ]
  },
  {
   "cell_type": "code",
   "execution_count": 11,
   "metadata": {},
   "outputs": [
    {
     "name": "stdout",
     "output_type": "stream",
     "text": [
      "Enter how many terms of Fibonacci sequence to be printed? 7\n",
      "0 1 1 2 3 5 8 "
     ]
    }
   ],
   "source": [
    "# Write a Python Program to Display Fibonacci Sequence Using Recursion\n",
    "def fib_rec(num):\n",
    "    if num <= 1:\n",
    "        return num\n",
    "    else:\n",
    "        return (fib_rec(num - 1) + fib_rec(num - 2))\n",
    "\n",
    "n_terms = int(input(\"Enter how many terms of Fibonacci sequence to be printed? \"))\n",
    "if n_terms < 0:\n",
    "    print(\"Please enter a positive number!\")\n",
    "\n",
    "else:\n",
    "    for i in range(n_terms):\n",
    "        print(fib_rec(i), end = \" \")"
   ]
  },
  {
   "cell_type": "markdown",
   "metadata": {},
   "source": [
    "### Q2. Write a Python Program to Find Factorial of Number Using Recursion?"
   ]
  },
  {
   "cell_type": "code",
   "execution_count": 25,
   "metadata": {},
   "outputs": [
    {
     "name": "stdout",
     "output_type": "stream",
     "text": [
      "Enter a number whose factorial is to be printed: 5\n",
      "Factorial of 5 is = 120 \n"
     ]
    }
   ],
   "source": [
    "# Write a Python Program to Find HCF\n",
    "def fact_rec(num):\n",
    "    if num == 0 or num == 1:\n",
    "        return 1\n",
    "         \n",
    "    return (num * fact_rec(num - 1))\n",
    "\n",
    "num = int(input(\"Enter a number whose factorial is to be printed: \"))\n",
    "if num < 0:\n",
    "    print(\"Factorial does NOT exist for Negative number! \")\n",
    "else:\n",
    "    print(\"Factorial of {} is = {} \".format(num, fact_rec(num)))"
   ]
  },
  {
   "cell_type": "markdown",
   "metadata": {},
   "source": [
    "### Q3. Write a Python Program to calculate your Body Mass Index?"
   ]
  },
  {
   "cell_type": "code",
   "execution_count": 27,
   "metadata": {},
   "outputs": [
    {
     "name": "stdout",
     "output_type": "stream",
     "text": [
      "Enter height in cms: 173\n",
      "Enter weight in Kgs: 72\n",
      "Body Mass Index = 24.0569347455645\n"
     ]
    }
   ],
   "source": [
    "# Write a Python Program to calculate your Body Mass Index\n",
    "\n",
    "height = float(input(\"Enter height in cms: \"))\n",
    "weight = float(input(\"Enter weight in Kgs: \"))\n",
    "\n",
    "bmi = weight / ((height/100)**2)\n",
    "\n",
    "print(\"Body Mass Index = {}\".format(bmi))"
   ]
  },
  {
   "cell_type": "markdown",
   "metadata": {},
   "source": [
    "### Q4. Write a Python Program to calculate the natural logarithm of any number?"
   ]
  },
  {
   "cell_type": "code",
   "execution_count": 32,
   "metadata": {},
   "outputs": [
    {
     "name": "stdout",
     "output_type": "stream",
     "text": [
      "Enter a number whose log is to be printed: 10\n",
      "log10 is = 2.302585092994046 \n"
     ]
    }
   ],
   "source": [
    "# Write a Python Program to calculate the natural logarithm of any number\n",
    "import math\n",
    "num = int(input(\"Enter a number whose log is to be printed: \"))\n",
    "\n",
    "if num < 0:\n",
    "    print(\"Natural log of Negative number is Undefined! \")\n",
    "else:\n",
    "    result = math.log(num)\n",
    "    print(\"log{} is = {} \".format(num, math.log(num)))"
   ]
  },
  {
   "cell_type": "markdown",
   "metadata": {},
   "source": [
    "### Q5. Write a Python Program for cube sum of first n natural numbers?\n",
    "cube sum = $1^3$ + $2^3$ + $3^3$ + ..... + $n^3$"
   ]
  },
  {
   "cell_type": "code",
   "execution_count": 35,
   "metadata": {},
   "outputs": [
    {
     "name": "stdout",
     "output_type": "stream",
     "text": [
      "Enter for how many first natural numbers, sum is to be calculated? 3\n",
      "cube sum of 3 natural numbers is = 36\n"
     ]
    }
   ],
   "source": [
    "# Write a Python Program for cube sum of first n natural numbers\n",
    "# \n",
    "def cube_sum_n(n):\n",
    "    sum_n = 0\n",
    "    for i in range(n+1):\n",
    "        sum_n += i**3\n",
    "    return sum_n\n",
    "\n",
    "num = int(input(\"Enter for how many first natural numbers, sum is to be calculated? \"))\n",
    "if num < 0:\n",
    "    print(\"It is a negative number!\")\n",
    "else:\n",
    "    print(\"cube sum of {} natural numbers is = {}\".format(num, cube_sum_n(num)))"
   ]
  },
  {
   "cell_type": "code",
   "execution_count": null,
   "metadata": {},
   "outputs": [],
   "source": []
  }
 ],
 "metadata": {
  "kernelspec": {
   "display_name": "Python 3",
   "language": "python",
   "name": "python3"
  },
  "language_info": {
   "codemirror_mode": {
    "name": "ipython",
    "version": 3
   },
   "file_extension": ".py",
   "mimetype": "text/x-python",
   "name": "python",
   "nbconvert_exporter": "python",
   "pygments_lexer": "ipython3",
   "version": "3.8.3"
  }
 },
 "nbformat": 4,
 "nbformat_minor": 4
}
