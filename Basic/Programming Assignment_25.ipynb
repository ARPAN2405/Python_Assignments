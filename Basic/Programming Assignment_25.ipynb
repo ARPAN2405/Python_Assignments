{
 "cells": [
  {
   "cell_type": "markdown",
   "metadata": {},
   "source": [
    "### Programming Assignment_25\n",
    "### By: Arpan Dutta"
   ]
  },
  {
   "cell_type": "markdown",
   "metadata": {},
   "source": [
    "### Q1. Create a function that takes three integer arguments (a, b, c) and returns the amount of integers which are of equal value.\n",
    "Examples\n",
    "equal(3, 4, 3) ➞ 2\n",
    "\n",
    "equal(1, 1, 1) ➞ 3\n",
    "\n",
    "equal(3, 4, 1) ➞ 0 \n",
    "\n",
    "Notes\n",
    "\n",
    "Your function must return 0, 2 or 3.\n"
   ]
  },
  {
   "cell_type": "code",
   "execution_count": 7,
   "metadata": {
    "scrolled": true
   },
   "outputs": [
    {
     "name": "stdout",
     "output_type": "stream",
     "text": [
      "equal(3, 4, 3) ->  2\n",
      "equal(1, 1, 1) ->  3\n",
      "equal(3, 4, 1) ->  0\n"
     ]
    }
   ],
   "source": [
    "#define function\n",
    "def equal(a, b, c):\n",
    "    count = 0\n",
    "    if a == b:\n",
    "        count = 2\n",
    "        if a == c:\n",
    "            count = 3\n",
    "    elif a == c:\n",
    "        count = 2\n",
    "    elif b == c:\n",
    "        count = 2\n",
    "    \n",
    "    return count\n",
    "\n",
    "print(\"equal(3, 4, 3) -> \", equal(3, 4, 3))\n",
    "print(\"equal(1, 1, 1) -> \", equal(1, 1, 1))\n",
    "print(\"equal(3, 4, 1) -> \", equal(3, 4, 1))"
   ]
  },
  {
   "cell_type": "markdown",
   "metadata": {},
   "source": [
    "### Q2. Write a function that converts a dictionary into a list of keys-values tuples.\n",
    "Examples\n",
    "dict_to_list({\n",
    "  \"D\": 1,\n",
    "  \"B\": 2,\n",
    "  \"C\": 3\n",
    "}) ➞ [(\"B\", 2), (\"C\", 3), (\"D\", 1)]\n",
    "\n",
    "dict_to_list({\n",
    "  \"likes\": 2,\n",
    "  \"dislikes\": 3,\n",
    "  \"followers\": 10\n",
    "}) ➞ [(\"dislikes\", 3), (\"followers\", 10), (\"likes\", 2)]\n",
    "\n",
    "Notes\n",
    "\n",
    "Return the elements in the list in alphabetical order.\n"
   ]
  },
  {
   "cell_type": "code",
   "execution_count": 13,
   "metadata": {
    "scrolled": false
   },
   "outputs": [
    {
     "name": "stdout",
     "output_type": "stream",
     "text": [
      "dict_to_list({ \"D\": 1, \"B\": 2, \"C\": 3 }) ->  [('B', 2), ('C', 3), ('D', 1)]\n",
      "dict_to_list({ \"likes\": 2, \"dislikes\": 3, \"followers\": 10 }) ->  [('dislikes', 3), ('followers', 10), ('likes', 2)]\n"
     ]
    }
   ],
   "source": [
    "#define function\n",
    "def dict_to_list(input_dict):\n",
    "    input_dict = {k: v for k, v in sorted(input_dict.items(), key = lambda item: item[0])}\n",
    "    temp_list = []\n",
    "    for key, value in input_dict.items():\n",
    "        temp_list.append((key, value))\n",
    "    \n",
    "    return temp_list\n",
    "print('dict_to_list({ \"D\": 1, \"B\": 2, \"C\": 3 }) -> ', dict_to_list({ \"D\": 1, \"B\": 2, \"C\": 3 }))\n",
    "print('dict_to_list({ \"likes\": 2, \"dislikes\": 3, \"followers\": 10 }) -> ', dict_to_list({ \"likes\": 2, \"dislikes\": 3, \"followers\": 10 }))"
   ]
  },
  {
   "cell_type": "markdown",
   "metadata": {},
   "source": [
    "### Q3.. Write a function that creates a dictionary with each (key, value) pair being the (lower case, upper case) versions of a letter, respectively.\n",
    "Examples\n",
    "mapping([\"p\", \"s\"]) ➞ { \"p\": \"P\", \"s\": \"S\" }\n",
    "\n",
    "mapping([\"a\", \"b\", \"c\"]) ➞ { \"a\": \"A\", \"b\": \"B\", \"c\": \"C\" }\n",
    "\n",
    "mapping([\"a\", \"v\", \"y\", \"z\"]) ➞ { \"a\": \"A\", \"v\": \"V\", \"y\": \"Y\", \"z\": \"Z\" }\n",
    "Notes\n",
    "All of the letters in the input list will always be lowercase.\n"
   ]
  },
  {
   "cell_type": "markdown",
   "metadata": {},
   "source": [
    "### Q4.Write a function, that replaces all vowels in a string with a specified vowel.\n",
    "Examples\n",
    "vow_replace(\"apples and bananas\", \"u\") ➞ \"upplus und bununus\"\n",
    "\n",
    "vow_replace(\"cheese casserole\", \"o\") ➞ \"chooso cossorolo\"\n",
    "\n",
    "vow_replace(\"stuffed jalapeno poppers\", \"e\") ➞ \"steffed jelepene peppers\"\n",
    "Notes\n",
    "All words will be lowercase. Y is not considered a vowel.\n"
   ]
  },
  {
   "cell_type": "code",
   "execution_count": 25,
   "metadata": {
    "scrolled": true
   },
   "outputs": [
    {
     "name": "stdout",
     "output_type": "stream",
     "text": [
      "vow_replace(\"apples and bananas\", \"u\") ->  upplus und bununus\n",
      "vow_replace(\"cheese casserole\", \"o\") ->  chooso cossorolo\n",
      "vow_replace(\"stuffed jalapeno poppers\", \"e\") ->  steffed jelepene peppers\n"
     ]
    }
   ],
   "source": [
    "#define function\n",
    "def vow_replace(input_str, char):\n",
    "    new_str = \"\"\n",
    "    test_str = \"aeiouAEIOU\"\n",
    "    for i in input_str:\n",
    "        if i in test_str:\n",
    "            new_str += char\n",
    "        else:\n",
    "            new_str += i\n",
    "    return new_str\n",
    "\n",
    "#test function\n",
    "print('vow_replace(\"apples and bananas\", \"u\") -> ', vow_replace(\"apples and bananas\", \"u\"))\n",
    "print('vow_replace(\"cheese casserole\", \"o\") -> ', vow_replace(\"cheese casserole\", \"o\"))\n",
    "print('vow_replace(\"stuffed jalapeno poppers\", \"e\") -> ', vow_replace(\"stuffed jalapeno poppers\", \"e\"))\n"
   ]
  },
  {
   "cell_type": "markdown",
   "metadata": {},
   "source": [
    "### Q5. Create a function that takes a string as input and capitalizes a letter if its ASCII code is even and returns its lower case version if its ASCII code is odd.\n",
    "Examples\n",
    "ascii_capitalize(\"to be or not to be!\") ➞ \"To Be oR NoT To Be!\"\n",
    "\n",
    "ascii_capitalize(\"THE LITTLE MERMAID\") ➞ \"THe LiTTLe meRmaiD\"\n",
    "\n",
    "ascii_capitalize(\"Oh what a beautiful morning.\") ➞ \"oH wHaT a BeauTiFuL moRNiNg.\"\n",
    "\n",
    "\n"
   ]
  },
  {
   "cell_type": "code",
   "execution_count": 27,
   "metadata": {},
   "outputs": [
    {
     "name": "stdout",
     "output_type": "stream",
     "text": [
      "ascii_capitalize(\"to be or not to be!\") ->  To Be oR NoT To Be!\n",
      "ascii_capitalize(\"THE LITTLE MERMAID\") ->  THe LiTTLe meRmaiD\n",
      "ascii_capitalize(\"Oh what a beautiful morning.\") ->  oH wHaT a BeauTiFuL moRNiNg.\n"
     ]
    }
   ],
   "source": [
    "#define function\n",
    "def ascii_capitalize(input_str):\n",
    "    new_str = \"\"\n",
    "    for i in input_str:\n",
    "        if ord(i) % 2 == 0:\n",
    "            new_str += i.upper()\n",
    "        else:\n",
    "            new_str += i.lower()\n",
    "    return new_str\n",
    "\n",
    "print('ascii_capitalize(\"to be or not to be!\") -> ', ascii_capitalize(\"to be or not to be!\"))\n",
    "print('ascii_capitalize(\"THE LITTLE MERMAID\") -> ', ascii_capitalize(\"THE LITTLE MERMAID\"))\n",
    "print('ascii_capitalize(\"Oh what a beautiful morning.\") -> ', ascii_capitalize(\"Oh what a beautiful morning.\"))\n"
   ]
  }
 ],
 "metadata": {
  "celltoolbar": "Raw Cell Format",
  "kernelspec": {
   "display_name": "Python 3",
   "language": "python",
   "name": "python3"
  },
  "language_info": {
   "codemirror_mode": {
    "name": "ipython",
    "version": 3
   },
   "file_extension": ".py",
   "mimetype": "text/x-python",
   "name": "python",
   "nbconvert_exporter": "python",
   "pygments_lexer": "ipython3",
   "version": "3.8.8"
  }
 },
 "nbformat": 4,
 "nbformat_minor": 4
}
