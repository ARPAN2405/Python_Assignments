{
 "cells": [
  {
   "cell_type": "markdown",
   "metadata": {},
   "source": [
    "## Programming Assignment_5\n",
    "### By: Arpan Dutta"
   ]
  },
  {
   "cell_type": "markdown",
   "metadata": {},
   "source": [
    "### Q1. Write a Python Program to Find LCM?"
   ]
  },
  {
   "cell_type": "code",
   "execution_count": 4,
   "metadata": {},
   "outputs": [
    {
     "data": {
      "text/plain": [
       "20"
      ]
     },
     "execution_count": 4,
     "metadata": {},
     "output_type": "execute_result"
    }
   ],
   "source": [
    "# Write a Python Program to Find LCM\n",
    "def calculate_lcm(x,y):\n",
    "    if x > y:\n",
    "        largest = x\n",
    "    else:\n",
    "        largest = y\n",
    "    \n",
    "    while True:\n",
    "        if largest % x == 0 and largest % y == 0:\n",
    "            lcm = largest\n",
    "            break\n",
    "        largest += 1\n",
    "    \n",
    "    return largest\n",
    "\n",
    "calculate_lcm(4,5)\n"
   ]
  },
  {
   "cell_type": "markdown",
   "metadata": {},
   "source": [
    "### Q2. Write a Python Program to Find HCF?"
   ]
  },
  {
   "cell_type": "code",
   "execution_count": 11,
   "metadata": {},
   "outputs": [
    {
     "data": {
      "text/plain": [
       "4"
      ]
     },
     "execution_count": 11,
     "metadata": {},
     "output_type": "execute_result"
    }
   ],
   "source": [
    "# Write a Python Program to Find HCF\n",
    "def calculate_hcf(x, y):\n",
    "    if x < y:\n",
    "        smaller = x\n",
    "    else:\n",
    "        smaller = y\n",
    "        \n",
    "    for i in range(1, smaller + 1):\n",
    "        if x % i == 0 and y % i == 0:\n",
    "            hcf = i\n",
    "    return hcf\n",
    "\n",
    "calculate_hcf(4, 20)\n"
   ]
  },
  {
   "cell_type": "markdown",
   "metadata": {},
   "source": [
    "### Q3. Write a Python Program to Convert Decimal to Binary, Octal and Hexadecimal?"
   ]
  },
  {
   "cell_type": "code",
   "execution_count": 12,
   "metadata": {},
   "outputs": [
    {
     "name": "stdout",
     "output_type": "stream",
     "text": [
      "Enter a decimal number which is to be converted to Binary, Octal and Hexadecimal system: 10\n",
      "Binary representation of 10 is 0b1010 \n",
      "Octal representation of 10 is 0o12 \n",
      "Hexadecimal representaion of 10 is 0xa \n"
     ]
    }
   ],
   "source": [
    "# Write a Python Program to Convert Decimal to Binary, Octal and Hexadecimal\n",
    "\n",
    "num = int(input(\"Enter a decimal number which is to be converted to Binary, Octal and Hexadecimal system: \"))\n",
    "\n",
    "print(\"Binary representation of {} is {} \". format(num, bin(num)))\n",
    "print(\"Octal representation of {} is {} \".format(num, oct(num)))\n",
    "print(\"Hexadecimal representaion of {} is {} \".format(num, hex(num)))"
   ]
  },
  {
   "cell_type": "markdown",
   "metadata": {},
   "source": [
    "### Q4. Write a Python Program To Find ASCII value of a character?"
   ]
  },
  {
   "cell_type": "code",
   "execution_count": 17,
   "metadata": {},
   "outputs": [
    {
     "name": "stdout",
     "output_type": "stream",
     "text": [
      "Enter a chracter whose ASCII value is to be printed: abc\n",
      "ASCII value of a is 97 \n"
     ]
    }
   ],
   "source": [
    "# Write a Python Program To Find ASCII value of a character\n",
    "char = input(\"Enter a chracter whose ASCII value is to be printed: \")[0]\n",
    "\n",
    "print(\"ASCII value of {} is {} \".format(char, ord(char)))"
   ]
  },
  {
   "cell_type": "markdown",
   "metadata": {},
   "source": [
    "### Q5. Write a Python Program to Make a Simple Calculator with 4 basic mathematical operations?"
   ]
  },
  {
   "cell_type": "code",
   "execution_count": 18,
   "metadata": {},
   "outputs": [
    {
     "name": "stdout",
     "output_type": "stream",
     "text": [
      "Enter first number: 4\n",
      "Enter second number: 5\n",
      "4 + 5  = 9 \n",
      "4 - 5 = -1 \n",
      "4 x 5 = 20 \n",
      "4 / 5 = 0.8 \n"
     ]
    }
   ],
   "source": [
    "# Write a Python Program to Make a Simple Calculator with 4 basic mathematical operations\n",
    "\n",
    "# define function\n",
    "def calc(x, y):\n",
    "    sum1  = x + y\n",
    "    diff1 = x - y\n",
    "    mult1 = x * y\n",
    "    div1 = x / y\n",
    "    return sum1, diff1, mult1, div1\n",
    "\n",
    "# Take inputs\n",
    "num1 = int(input(\"Enter first number: \"))\n",
    "num2 = int(input(\"Enter second number: \"))\n",
    "\n",
    "# call function to calculate and store result\n",
    "result = calc(num1, num2)\n",
    "\n",
    "# Print results\n",
    "print(\"{} + {}  = {} \".format(num1, num2, result[0]))\n",
    "print(\"{} - {} = {} \".format(num1, num2, result[1]))\n",
    "print(\"{} x {} = {} \".format(num1, num2, result[2]))\n",
    "print(\"{} / {} = {} \".format(num1, num2, result[3]))"
   ]
  }
 ],
 "metadata": {
  "kernelspec": {
   "display_name": "Python 3",
   "language": "python",
   "name": "python3"
  },
  "language_info": {
   "codemirror_mode": {
    "name": "ipython",
    "version": 3
   },
   "file_extension": ".py",
   "mimetype": "text/x-python",
   "name": "python",
   "nbconvert_exporter": "python",
   "pygments_lexer": "ipython3",
   "version": "3.8.3"
  }
 },
 "nbformat": 4,
 "nbformat_minor": 4
}
