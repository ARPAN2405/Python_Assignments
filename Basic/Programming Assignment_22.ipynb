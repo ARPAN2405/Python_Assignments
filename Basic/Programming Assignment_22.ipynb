{
 "cells": [
  {
   "cell_type": "markdown",
   "metadata": {},
   "source": [
    "### Programming Assignment_22\n",
    "### By: Arpan Dutta"
   ]
  },
  {
   "cell_type": "markdown",
   "metadata": {},
   "source": [
    "### Q1. Create a function that takes three parameters where:\n",
    "•\tx is the start of the range (inclusive).\n",
    "•\ty is the end of the range (inclusive).\n",
    "•\tn is the divisor to be checked against.\n",
    "Return an ordered list with numbers in the range that are divisible by the third parameter n. Return an empty list if there are no numbers that are divisible by n.\n",
    "Examples\n",
    "list_operation(1, 10, 3) ➞ [3, 6, 9]\n",
    "\n",
    "list_operation(7, 9, 2) ➞ [8]\n",
    "\n",
    "list_operation(15, 20, 7) ➞ []\n",
    "\n",
    "\n"
   ]
  },
  {
   "cell_type": "code",
   "execution_count": 4,
   "metadata": {},
   "outputs": [
    {
     "name": "stdout",
     "output_type": "stream",
     "text": [
      "list_operation(1, 10, 3) ->  [3, 6, 9]\n",
      "list_operation(7, 9, 2) -> [8]\n",
      "list_operation(15, 20, 7) ->  []\n"
     ]
    }
   ],
   "source": [
    "#def function\n",
    "def list_operation(start, end, num):\n",
    "    final_list = []\n",
    "    for i in range(start, end + 1):\n",
    "        if i % num == 0:\n",
    "            final_list.append(i)\n",
    "    return final_list\n",
    "\n",
    "#test function\n",
    "\n",
    "result = list_operation(1, 10, 3)\n",
    "print('list_operation(1, 10, 3) -> ', result)\n",
    "\n",
    "result = list_operation(7, 9, 2)\n",
    "print('list_operation(7, 9, 2) ->', result)\n",
    "\n",
    "result = list_operation(15, 20, 7)\n",
    "print('list_operation(15, 20, 7) -> ', result)"
   ]
  },
  {
   "cell_type": "markdown",
   "metadata": {},
   "source": [
    "### Q2. Create a function that takes in two lists and returns True if the second list follows the first list by one element, and False otherwise. In other words, determine if the second list is the first list shifted to the right by 1.\n",
    "Examples\n",
    "simon_says([1, 2], [5, 1]) ➞ True\n",
    "\n",
    "simon_says([1, 2], [5, 5]) ➞ False\n",
    "\n",
    "simon_says([1, 2, 3, 4, 5], [0, 1, 2, 3, 4]) ➞ True\n",
    "\n",
    "simon_says([1, 2, 3, 4, 5], [5, 5, 1, 2, 3]) ➞ False\n",
    "Notes\n",
    "•\tBoth input lists will be of the same length, and will have a minimum length of 2.\n",
    "•\tThe values of the 0-indexed element in the second list and the n-1th indexed element in the first list do not matter.\n"
   ]
  },
  {
   "cell_type": "code",
   "execution_count": 39,
   "metadata": {
    "scrolled": true
   },
   "outputs": [
    {
     "name": "stdout",
     "output_type": "stream",
     "text": [
      "test1: simon_says([1,2,3], [1,2]) ->  Please enter both lists of same length only and each list of minimum length = 2 !\n",
      "test2: simon_says([1, 2], [5, 1]) ->  True\n",
      "test3: simon_says([1, 2], [5, 5]) ->  False\n",
      "test4: simon_says([1, 2, 3, 4, 5], [0, 1, 2, 3, 4]) ->  True\n",
      "test5: simon_says([1, 2, 3, 4, 5], [5, 5, 1, 2, 3]) ->  False\n"
     ]
    }
   ],
   "source": [
    "#define fucntion\n",
    "def simon_says(lst1, lst2):\n",
    "    #check if same length of two input lists\n",
    "    if len(lst1) != len(lst2) or len(lst1) < 2 or len(lst2) < 2 :\n",
    "        return \"Please enter both lists of same length only and each list of minimum length = 2 !\"\n",
    "    else:\n",
    "        count = 0\n",
    "        for i, j in enumerate(lst2):\n",
    "            if i >= 1:                \n",
    "                if lst2[i] == lst1[i-1]:\n",
    "                    count += 1\n",
    "        if count == len(lst2) - 1:\n",
    "            return True\n",
    "        else:\n",
    "            return False\n",
    "            \n",
    "#test fucntion\n",
    "print(\"test1: simon_says([1,2,3], [1,2]) -> \", simon_says([1,2,3], [1,2]))\n",
    "print(\"test2: simon_says([1, 2], [5, 1]) -> \", simon_says([1, 2], [5, 1]))\n",
    "print(\"test3: simon_says([1, 2], [5, 5]) -> \", simon_says([1, 2], [5, 5]))\n",
    "print(\"test4: simon_says([1, 2, 3, 4, 5], [0, 1, 2, 3, 4]) -> \", simon_says([1, 2, 3, 4, 5], [0, 1, 2, 3, 4]))\n",
    "print(\"test5: simon_says([1, 2, 3, 4, 5], [5, 5, 1, 2, 3]) -> \", simon_says([1, 2, 3, 4, 5], [5, 5, 1, 2, 3]))"
   ]
  },
  {
   "cell_type": "markdown",
   "metadata": {},
   "source": [
    "### Q3.. A group of friends have decided to start a secret society. The name will be the first letter of each of their names, sorted in alphabetical order.\n",
    "Create a function that takes in a list of names and returns the name of the secret society.\n",
    "Examples\n",
    "society_name([\"Adam\", \"Sarah\", \"Malcolm\"]) ➞ \"AMS\"\n",
    "\n",
    "society_name([\"Harry\", \"Newt\", \"Luna\", \"Cho\"]) ➞ \"CHLN\"\n",
    "\n",
    "society_name([\"Phoebe\", \"Chandler\", \"Rachel\", \"Ross\", \"Monica\", \"Joey\"])\n",
    "\n"
   ]
  },
  {
   "cell_type": "code",
   "execution_count": 46,
   "metadata": {},
   "outputs": [
    {
     "name": "stdout",
     "output_type": "stream",
     "text": [
      "society_name([\"Adam\", \"Sarah\", \"Malcolm\"]) ->  AMS\n",
      "society_name([\"Harry\", \"Newt\", \"Luna\", \"Cho\"]) -> CHLN\n",
      "society_name([\"Phoebe\", \"Chandler\", \"Rachel\", \"Ross\", \"Monica\", \"Joey\"]) ->  CJMPRR\n"
     ]
    }
   ],
   "source": [
    "#define function\n",
    "def society_name(lst):\n",
    "    name = \"\"\n",
    "    for i in sorted(lst):\n",
    "        name += i[0]\n",
    "    return name\n",
    "\n",
    "#test function\n",
    "print('society_name([\"Adam\", \"Sarah\", \"Malcolm\"]) -> ', society_name([\"Adam\", \"Sarah\", \"Malcolm\"]))\n",
    "print('society_name([\"Harry\", \"Newt\", \"Luna\", \"Cho\"]) ->', society_name([\"Harry\", \"Newt\", \"Luna\", \"Cho\"]))\n",
    "print('society_name([\"Phoebe\", \"Chandler\", \"Rachel\", \"Ross\", \"Monica\", \"Joey\"]) -> ', society_name([\"Phoebe\", \"Chandler\", \"Rachel\", \"Ross\", \"Monica\", \"Joey\"]))"
   ]
  },
  {
   "cell_type": "markdown",
   "metadata": {},
   "source": [
    "### Q4. An isogram is a word that has no duplicate letters. Create a function that takes a string and returns either True or False depending on whether or not it's an \"isogram\".\n",
    "Examples\n",
    "is_isogram(\"Algorism\") ➞ True\n",
    "\n",
    "is_isogram(\"PasSword\") ➞ False\n",
    "Not case sensitive.\n",
    "\n",
    "is_isogram(\"Consecutive\") ➞ False\n",
    "Notes\n",
    "•\tIgnore letter case (should not be case sensitive).\n",
    "•\tAll test cases contain valid one word strings.\n"
   ]
  },
  {
   "cell_type": "code",
   "execution_count": 73,
   "metadata": {
    "scrolled": false
   },
   "outputs": [
    {
     "name": "stdout",
     "output_type": "stream",
     "text": [
      "is_isogram(\"Algorism\") ->  True\n",
      "is_isogram(\"PasSword\") ->  False\n",
      "is_isogram(\"Consecutive\") ->  False\n"
     ]
    }
   ],
   "source": [
    "#define function\n",
    "def is_isogram(inp_str):\n",
    "    temp_str = inp_str\n",
    "    temp_dict = {}\n",
    "    for i in inp_str:\n",
    "        if i.lower() not in temp_dict.keys():\n",
    "            temp_dict[i.lower()] = 1\n",
    "        else:\n",
    "            temp_dict[i.lower()] += 1\n",
    "    \n",
    "    for i in temp_dict.values():\n",
    "        if i >= 2:\n",
    "            return False\n",
    "    return True\n",
    "\n",
    "#test fucntion\n",
    "print('is_isogram(\"Algorism\") -> ', is_isogram(\"Algorism\"))\n",
    "print('is_isogram(\"PasSword\") -> ', is_isogram(\"PasSword\"))  \n",
    "print('is_isogram(\"Consecutive\") -> ', is_isogram(\"Consecutive\"))"
   ]
  },
  {
   "cell_type": "markdown",
   "metadata": {},
   "source": [
    "### Q5. Create a function that takes a string and returns True or False, depending on whether the characters are in order or not.\n",
    "Examples\n",
    "is_in_order(\"abc\") ➞ True\n",
    "\n",
    "is_in_order(\"edabit\") ➞ False\n",
    "\n",
    "is_in_order(\"123\") ➞ True\n",
    "\n",
    "is_in_order(\"xyzz\") ➞ True\n",
    "\n",
    "Notes\n",
    "\n",
    "You don't have to handle empty strings.\n",
    "\n"
   ]
  },
  {
   "cell_type": "code",
   "execution_count": 93,
   "metadata": {},
   "outputs": [
    {
     "name": "stdout",
     "output_type": "stream",
     "text": [
      "is_in_order(\"abc\") ->  True\n",
      "is_in_order(\"edabit\") ->  False\n",
      "is_in_order(\"123\") ->  True\n",
      "is_in_order(\"xyzz\") ->  True\n"
     ]
    }
   ],
   "source": [
    "#define fucntion\n",
    "def is_in_order(inp_str):\n",
    "    temp_str = inp_str[:]\n",
    "    count = 0\n",
    "    \n",
    "    #check ASCII value using ord() fucntion and to convert back to chracter we can use chr() fucntion\n",
    "    for i in range(1, len(inp_str)):\n",
    "        if ord(inp_str[i]) >= ord(temp_str[i-1]): # = used to take care of same chracter repetition checking\n",
    "            count += 1\n",
    "    \n",
    "    if count == len(inp_str) -1:\n",
    "        return True\n",
    "    else:\n",
    "        return False\n",
    "        \n",
    "print('is_in_order(\"abc\") -> ', is_in_order(\"abc\"))\n",
    "print('is_in_order(\"edabit\") -> ', is_in_order(\"edabit\"))\n",
    "print('is_in_order(\"123\") -> ', is_in_order(\"123\"))\n",
    "print('is_in_order(\"xyzz\") -> ', is_in_order(\"xyzz\"))"
   ]
  },
  {
   "cell_type": "code",
   "execution_count": null,
   "metadata": {},
   "outputs": [],
   "source": []
  }
 ],
 "metadata": {
  "celltoolbar": "Raw Cell Format",
  "kernelspec": {
   "display_name": "Python 3",
   "language": "python",
   "name": "python3"
  },
  "language_info": {
   "codemirror_mode": {
    "name": "ipython",
    "version": 3
   },
   "file_extension": ".py",
   "mimetype": "text/x-python",
   "name": "python",
   "nbconvert_exporter": "python",
   "pygments_lexer": "ipython3",
   "version": "3.8.8"
  }
 },
 "nbformat": 4,
 "nbformat_minor": 4
}
