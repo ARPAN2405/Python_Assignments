{
 "cells": [
  {
   "cell_type": "markdown",
   "metadata": {},
   "source": [
    "## Programming Assignment_12\n",
    "### By: Arpan Dutta"
   ]
  },
  {
   "cell_type": "markdown",
   "metadata": {},
   "source": [
    "### Q1. Write a Python program to Extract Unique values dictionary values?"
   ]
  },
  {
   "cell_type": "code",
   "execution_count": 1,
   "metadata": {},
   "outputs": [
    {
     "data": {
      "text/plain": [
       "['Arpan', 'Ricky', 'Sanju', 'Aditya']"
      ]
     },
     "execution_count": 1,
     "metadata": {},
     "output_type": "execute_result"
    }
   ],
   "source": [
    "# Write a Python program to Extract Unique values dictionary values\n",
    "def unique_value_dict(test_dict):\n",
    "    temp_list = []\n",
    "    for key, value in test_dict.items():\n",
    "        if value not in temp_list:\n",
    "            temp_list.append(value)\n",
    "    return temp_list\n",
    "\n",
    "test_dict = {1: \"Arpan\", 2:\"Ricky\", 3: \"Sanju\", 4: \"Arpan\", 5: \"Aditya\", 6: \"Sanju\"}\n",
    "unique_value_dict(test_dict)\n"
   ]
  },
  {
   "cell_type": "markdown",
   "metadata": {},
   "source": [
    "### Q2. Write a Python program to find the sum of all items in a dictionary?"
   ]
  },
  {
   "cell_type": "code",
   "execution_count": 3,
   "metadata": {},
   "outputs": [
    {
     "data": {
      "text/plain": [
       "456"
      ]
     },
     "execution_count": 3,
     "metadata": {},
     "output_type": "execute_result"
    }
   ],
   "source": [
    "# Write a Python program to find the sum of all items in a dictionary\n",
    "def sum_values_dict(test_dict):\n",
    "    sum_val = 0\n",
    "    for val in test_dict.values():\n",
    "        sum_val += val\n",
    "    return sum_val\n",
    "\n",
    "test_dict = {\"Physics\": 90, \"Chemistry\": 91, \"Math\": 95, \"Hindi\": 90, \"English\": 90}\n",
    "sum_values_dict(test_dict)"
   ]
  },
  {
   "cell_type": "markdown",
   "metadata": {},
   "source": [
    "### Q3. Write a Python program to Merging two Dictionaries?"
   ]
  },
  {
   "cell_type": "code",
   "execution_count": 7,
   "metadata": {},
   "outputs": [
    {
     "name": "stdout",
     "output_type": "stream",
     "text": [
      "{1: 'Arpan', 2: 'Ricky', 3: 'Sanju', 4: 'Sanju', 5: 'Aditya'}\n"
     ]
    }
   ],
   "source": [
    "# Write a Python program to Merging two Dictionaries\n",
    "def merge_dict(test_dict1, test_dict2):\n",
    "    for key, val in test_dict2.items():\n",
    "        test_dict1[key] = val\n",
    "    \n",
    "    return test_dict1\n",
    "\n",
    "test_dict1 = {1: \"Arpan\", 2:\"Ricky\", 3: \"Sanju\"}\n",
    "test_dict2 = {4: \"Sanju\", 5:\"Aditya\"}\n",
    "\n",
    "print(merge_dict(test_dict1, test_dict2))"
   ]
  },
  {
   "cell_type": "markdown",
   "metadata": {},
   "source": [
    "### Q3. ALTERNATE SOLUTION: Write a Python program to Merging two Dictionaries?"
   ]
  },
  {
   "cell_type": "code",
   "execution_count": 11,
   "metadata": {},
   "outputs": [
    {
     "name": "stdout",
     "output_type": "stream",
     "text": [
      "{1: 'Arpan', 2: 'Ricky', 3: 'Sanju', 4: 'Sanju', 5: 'Aditya'}\n"
     ]
    }
   ],
   "source": [
    "# ALTERNATE SOLUTION: Write a Python program to Merging two Dictionaries\n",
    "test_dict1 = {1: \"Arpan\", 2:\"Ricky\", 3: \"Sanju\"}\n",
    "test_dict2 = {4: \"Sanju\", 5:\"Aditya\"}\n",
    "\n",
    "test_dict1.update(test_dict2) # This fucntion returns None and actually, updates the original test_dict1\n",
    "print(test_dict1) #printing test_dict1 to see the updated test_dict`"
   ]
  },
  {
   "cell_type": "markdown",
   "metadata": {},
   "source": [
    "### Q4. Write a Python program to convert key-values list to flat dictionary?"
   ]
  },
  {
   "cell_type": "code",
   "execution_count": 17,
   "metadata": {},
   "outputs": [
    {
     "name": "stdout",
     "output_type": "stream",
     "text": [
      "key list = [1, 2, 3, 4, 5], value list = ['Physics', 'Chemistry', 'Maths', 'Hindi', 'English']\n",
      "flat dictionary = {1: 'Physics', 2: 'Chemistry', 3: 'Maths', 4: 'Hindi', 5: 'English'}\n"
     ]
    }
   ],
   "source": [
    "# Write a Python program to convert key-values list to flat dictionary\n",
    "def make_dict(key_list, val_list):\n",
    "    final_dict = {}\n",
    "    if len(key_list) !=  len(val_list):\n",
    "        print(\"Length of key list and value list are Not equal!\")\n",
    "    else:\n",
    "        for i in range(len(key_list)):\n",
    "            final_dict[key_list[i]] = val_list[i]\n",
    "    return final_dict\n",
    "\n",
    "key_list = [1, 2, 3, 4, 5]\n",
    "val_list = [\"Physics\", \"Chemistry\", \"Maths\", \"Hindi\", \"English\"]\n",
    "\n",
    "print(\"key list = {}, value list = {}\".format(key_list, val_list))\n",
    "print(\"flat dictionary = {}\".format(make_dict(key_list, val_list)))              "
   ]
  },
  {
   "cell_type": "markdown",
   "metadata": {},
   "source": [
    "### Q4. ALTERNATE SOLUTION: Write a Python program to convert key-values list to flat dictionary?"
   ]
  },
  {
   "cell_type": "code",
   "execution_count": 22,
   "metadata": {},
   "outputs": [
    {
     "name": "stdout",
     "output_type": "stream",
     "text": [
      "key list = [1, 2, 3, 4, 5], value list = ['Physics', 'Chemistry', 'Maths', 'Hindi', 'English']\n",
      "flat dictionary = {1: 'Physics', 2: 'Chemistry', 3: 'Maths', 4: 'Hindi', 5: 'English'}\n"
     ]
    }
   ],
   "source": [
    "# Write a Python program to convert key-values list to flat dictionary\n",
    "key_list = [1, 2, 3, 4, 5]\n",
    "val_list = [\"Physics\", \"Chemistry\", \"Maths\", \"Hindi\", \"English\"]\n",
    "\n",
    "print(\"key list = {}, value list = {}\".format(key_list, val_list))\n",
    "print(\"flat dictionary = {}\".format(dict(zip(key_list, val_list))))"
   ]
  },
  {
   "cell_type": "markdown",
   "metadata": {},
   "source": [
    "### Q5. Write a Python program to insertion at the beginning in OrderedDict?"
   ]
  },
  {
   "cell_type": "code",
   "execution_count": 30,
   "metadata": {},
   "outputs": [
    {
     "name": "stdout",
     "output_type": "stream",
     "text": [
      "OrderedDict([('Maths', 90), ('Physics', 80), ('Chemistry', 85)])\n"
     ]
    }
   ],
   "source": [
    "# Write a Python program to insertion at the beginning in OrderedDict\n",
    "from collections import OrderedDict\n",
    "\n",
    "ordered_test_dict = OrderedDict([(\"Physics\", 80), (\"Chemistry\", 85)])\n",
    "\n",
    "ordered_test_dict.update({\"Maths\": 90})\n",
    "ordered_test_dict.move_to_end(\"Maths\", last = False)\n",
    "print(ordered_test_dict)"
   ]
  },
  {
   "cell_type": "markdown",
   "metadata": {},
   "source": [
    "### Q6. Write a Python program to check order of character in string using OrderedDict()? *"
   ]
  },
  {
   "cell_type": "code",
   "execution_count": 58,
   "metadata": {},
   "outputs": [
    {
     "data": {
      "text/plain": [
       "False"
      ]
     },
     "execution_count": 58,
     "metadata": {},
     "output_type": "execute_result"
    }
   ],
   "source": [
    "# Write a Python program to check order of character in string using OrderedDict()\n",
    "from collections import OrderedDict\n",
    "def check_order(test_str, pattern):\n",
    "    temp_dict = OrderedDict.fromkeys(test_str)\n",
    "    pattern_length = 0\n",
    "    for key, value in temp_dict.items():\n",
    "\n",
    "        if key == pattern[pattern_length]:\n",
    "            pattern_length += 1\n",
    "\n",
    "        if pattern_length == len(pattern):\n",
    "            print(\"here complete checked and pattern length becomes = \", pattern_length)\n",
    "            return True\n",
    "\n",
    "    return False\n",
    "\n",
    "test_str = \"one of best scientists\"\n",
    "pattern = \"ets\"\n",
    "check_order(test_str, pattern)"
   ]
  },
  {
   "cell_type": "markdown",
   "metadata": {},
   "source": [
    "### Q6. ALTERNATE SOLUTION: Write a Python program to check order of character in string using OrderedDict()? *"
   ]
  },
  {
   "cell_type": "code",
   "execution_count": 59,
   "metadata": {},
   "outputs": [
    {
     "name": "stdout",
     "output_type": "stream",
     "text": [
      "False\n"
     ]
    }
   ],
   "source": [
    "# Write a Python program to check order of character in string using OrderedDict()\n",
    "def check_order_alt(string, pattern):\n",
    "    l = len(pattern)\n",
    "  \n",
    "    if len(string) < l:\n",
    "        return False\n",
    "  \n",
    "    for i in range(l - 1):\n",
    "        x = pattern[i]\n",
    "        y = pattern[i + 1]\n",
    "  \n",
    "        last = string.rindex(x)\n",
    "  \n",
    "        first = string.index(y)\n",
    "  \n",
    "        if last == -1 or first == -1 or last > first:\n",
    "            return False\n",
    "  \n",
    "\n",
    "    return True\n",
    "\n",
    "test_str = \"one of best scientists\"\n",
    "pattern = \"ets\"\n",
    "print(check_order_alt(test_str, pattern))"
   ]
  },
  {
   "cell_type": "markdown",
   "metadata": {},
   "source": [
    "### Q7. Write a Python program to sort Python Dictionaries by Key or Value?"
   ]
  },
  {
   "cell_type": "code",
   "execution_count": 125,
   "metadata": {},
   "outputs": [
    {
     "name": "stdout",
     "output_type": "stream",
     "text": [
      "Sample input dictionary is: {1: 'Arpan', 5: 'Ricky', 2: 'Sanju', 6: 'Aniket', 4: 'Aditya', 3: 'Shiva'}\n",
      "Enter a number 'either 0 or 1': \n",
      "For key based sorting of the dictionary = 0 \n",
      "and For value based sorting of the dictionary = 1\n",
      "1\n",
      "Dictionary sorted based on value is: {4: 'Aditya', 6: 'Aniket', 1: 'Arpan', 5: 'Ricky', 2: 'Sanju', 3: 'Shiva'}\n"
     ]
    }
   ],
   "source": [
    "# Write a Python program to sort Python Dictionaries by Key or Value\n",
    "def sort_dict(test_dict, keyorvalue):\n",
    "    return {k: v for k,v in sorted(test_dict.items(), key = lambda item:item[int(keyorvalue)])}\n",
    "\n",
    "test_dict = {1: \"Arpan\", 5:\"Ricky\", 2: \"Sanju\", 6: \"Aniket\", 4: \"Aditya\", 3: \"Shiva\"}\n",
    "\n",
    "print(\"Sample input dictionary is: {}\".format(test_dict))\n",
    "\n",
    "keyorvalue = bool(int(input(\"Enter a number 'either 0 or 1': \\nFor key based sorting of the dictionary = 0 \\nand For value based sorting of the dictionary = 1\\n\")))\n",
    "\n",
    "if keyorvalue == 0:\n",
    "    print(\"Dictionary sorted based on key is: {}\".format(sort_dict(test_dict, keyorvalue)))\n",
    "elif keyorvalue == 1:\n",
    "    print(\"Dictionary sorted based on value is: {}\".format(sort_dict(test_dict, keyorvalue)))\n"
   ]
  }
 ],
 "metadata": {
  "kernelspec": {
   "display_name": "Python 3",
   "language": "python",
   "name": "python3"
  },
  "language_info": {
   "codemirror_mode": {
    "name": "ipython",
    "version": 3
   },
   "file_extension": ".py",
   "mimetype": "text/x-python",
   "name": "python",
   "nbconvert_exporter": "python",
   "pygments_lexer": "ipython3",
   "version": "3.8.3"
  }
 },
 "nbformat": 4,
 "nbformat_minor": 4
}
