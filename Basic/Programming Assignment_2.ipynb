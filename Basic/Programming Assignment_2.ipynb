{
 "cells": [
  {
   "cell_type": "markdown",
   "metadata": {},
   "source": [
    "## Programming Assignment_2\n",
    "### By: Arpan Dutta"
   ]
  },
  {
   "cell_type": "markdown",
   "metadata": {},
   "source": [
    "### Q1"
   ]
  },
  {
   "cell_type": "code",
   "execution_count": 6,
   "metadata": {},
   "outputs": [
    {
     "name": "stdout",
     "output_type": "stream",
     "text": [
      "Distance in KM is = 10 KM\n",
      "Equivalent distance in miles is = 6.21371 miles\n"
     ]
    }
   ],
   "source": [
    "# km to miles\n",
    "km_dist = 10\n",
    "print(\"Distance in KM is = {} KM\".format(km_dist))\n",
    "mile_dist = km_dist * 0.621371\n",
    "print(\"Equivalent distance in miles is = {} miles\".format(mile_dist))"
   ]
  },
  {
   "cell_type": "markdown",
   "metadata": {},
   "source": [
    "### Q2"
   ]
  },
  {
   "cell_type": "code",
   "execution_count": 8,
   "metadata": {},
   "outputs": [
    {
     "name": "stdout",
     "output_type": "stream",
     "text": [
      "Temperature in celcius is = 25.0\n",
      "Equivalent temperature in fahrenheit is = 77.0\n"
     ]
    }
   ],
   "source": [
    "# Convert temperature in Celcius to Fahrenheit\n",
    "temp_cel = 25.0\n",
    "temp_far = (temp_cel * 9/5) + 32\n",
    "\n",
    "print(\"Temperature in celcius is = {}\".format(temp_cel))\n",
    "print(\"Equivalent temperature in fahrenheit is = {}\".format(temp_far))"
   ]
  },
  {
   "cell_type": "markdown",
   "metadata": {},
   "source": [
    "### Q3"
   ]
  },
  {
   "cell_type": "code",
   "execution_count": 9,
   "metadata": {},
   "outputs": [
    {
     "name": "stdout",
     "output_type": "stream",
     "text": [
      "     March 2021\n",
      "Mo Tu We Th Fr Sa Su\n",
      " 1  2  3  4  5  6  7\n",
      " 8  9 10 11 12 13 14\n",
      "15 16 17 18 19 20 21\n",
      "22 23 24 25 26 27 28\n",
      "29 30 31\n",
      "\n"
     ]
    }
   ],
   "source": [
    "# To display calendar of a given month and a given year\n",
    "import calendar\n",
    "yyyy = 2021 # year\n",
    "mm = 3 # month\n",
    "\n",
    "print(calendar.month(yyyy, mm))"
   ]
  },
  {
   "cell_type": "markdown",
   "metadata": {},
   "source": [
    "### Q4"
   ]
  },
  {
   "cell_type": "code",
   "execution_count": 14,
   "metadata": {},
   "outputs": [
    {
     "name": "stdout",
     "output_type": "stream",
     "text": [
      "Solution_1 = (-1-1.4142135623730951j) and Solution_2 = (-1+1.4142135623730951j) for the quadratic equation 2x2+4x+6 = 0\n"
     ]
    }
   ],
   "source": [
    "# Solve the quadratic equation of the form : ax2 + bx + c = 0\n",
    "import cmath\n",
    "a = 2\n",
    "b = 4\n",
    "c = 6\n",
    "\n",
    "disc = (b**2) - (4 * a * c) # discriminant calculate\n",
    "\n",
    "\n",
    "# finding the two solutions\n",
    "sol_1 = (-b - cmath.sqrt(disc))/(2*a)\n",
    "sol_2 = (-b + cmath.sqrt(disc))/(2*a)\n",
    "\n",
    "print(\"Solution_1 = {} and Solution_2 = {} for the quadratic equation {}x2+{}x+{} = 0\".format(sol_1, sol_2, a, b, c))\n",
    "\n",
    "# print (\"Discriminant = {}\".format(disc))\n",
    "\n",
    "# if disc < 0:\n",
    "#     print(\"Discriminant is negative and it will have complex solutions\")\n",
    "# elif d = 0:\n",
    "#     print(\"The solutions are equal i.e. Solution_1 = Solution_2 = {}\".format(-b/(2*a)))\n",
    "# else:\n",
    "#     print(\"The solutions unique i.e. Solution_1 = {} and Solution_2 = {}\".format((-b-(disc**0.5)/(2*a)), (-b+(disc**0.5)/(2*a)) ))\n"
   ]
  },
  {
   "cell_type": "markdown",
   "metadata": {},
   "source": [
    "### Q5"
   ]
  },
  {
   "cell_type": "code",
   "execution_count": 16,
   "metadata": {},
   "outputs": [
    {
     "name": "stdout",
     "output_type": "stream",
     "text": [
      "Before swapping, a = 2 and b = 4\n",
      "After swapping, a = 4 and b = 2\n"
     ]
    }
   ],
   "source": [
    "# Swap two variables without temp variable\n",
    "a = 2\n",
    "b = 4\n",
    "print(\"Before swapping, a = {} and b = {}\".format(a,b))\n",
    "a, b = b, a\n",
    "print(\"After swapping, a = {} and b = {}\".format(a, b))"
   ]
  }
 ],
 "metadata": {
  "kernelspec": {
   "display_name": "Python 3",
   "language": "python",
   "name": "python3"
  },
  "language_info": {
   "codemirror_mode": {
    "name": "ipython",
    "version": 3
   },
   "file_extension": ".py",
   "mimetype": "text/x-python",
   "name": "python",
   "nbconvert_exporter": "python",
   "pygments_lexer": "ipython3",
   "version": "3.8.3"
  }
 },
 "nbformat": 4,
 "nbformat_minor": 4
}
