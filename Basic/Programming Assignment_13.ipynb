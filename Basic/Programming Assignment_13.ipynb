{
 "cells": [
  {
   "cell_type": "markdown",
   "metadata": {},
   "source": [
    "## Programming Assignment_13\n",
    "### By: Arpan Dutta"
   ]
  },
  {
   "cell_type": "markdown",
   "metadata": {},
   "source": [
    "### Question 1:\n",
    "\n",
    "Write a program that calculates and prints the value according to the given formula:\n",
    "\n",
    "Q = Square root of [(2 * C * D)/H]\n",
    "\n",
    "Following are the fixed values of C and H:\n",
    "\n",
    "C is 50. H is 30.\n",
    "\n",
    "D is the variable whose values should be input to your program in a comma-separated sequence.\n",
    "\n",
    "Example\n",
    "\n",
    "Let us assume the following comma separated input sequence is given to the program:\n",
    "\n",
    "100,150,180\n",
    "\n",
    "The output of the program should be:\n",
    "\n",
    "18,22,24\n"
   ]
  },
  {
   "cell_type": "code",
   "execution_count": 47,
   "metadata": {},
   "outputs": [
    {
     "name": "stdout",
     "output_type": "stream",
     "text": [
      "Enter value of d, seperated by comma if multiple values: 100,150,180\n",
      "18,22,24\n"
     ]
    }
   ],
   "source": [
    "import math\n",
    "def calc(d):\n",
    "    return int(math.sqrt(2 * c * d / h))\n",
    "\n",
    "c = 50\n",
    "h = 30\n",
    "d = list(map(int, input(\"Enter value of d, seperated by comma if multiple values: \").split(\",\")))\n",
    "\n",
    "result_list = []\n",
    "for i in d:\n",
    "    result_list.append(str(calc(i)))\n",
    "    \n",
    "print(\",\".join(result_list))\n"
   ]
  },
  {
   "cell_type": "markdown",
   "metadata": {},
   "source": [
    "### Question 2:\n",
    "Write a program which takes 2 digits, X,Y as input and generates a 2-dimensional array. The element value in the i-th row and j-th column of the array should be i*j.\n",
    "\n",
    "Note: i=0,1.., X-1; j=0,1,¡¬Y-1.\n",
    "\n",
    "Example\n",
    "\n",
    "Suppose the following inputs are given to the program:\n",
    "\n",
    "3,5\n",
    "\n",
    "Then, the output of the program should be:\n",
    "\n",
    "[[0, 0, 0, 0, 0], [0, 1, 2, 3, 4], [0, 2, 4, 6, 8]] \n"
   ]
  },
  {
   "cell_type": "code",
   "execution_count": 59,
   "metadata": {},
   "outputs": [
    {
     "name": "stdout",
     "output_type": "stream",
     "text": [
      "Enter number of rows and columns for array creation, seperated by comma ',' : 3,5\n"
     ]
    },
    {
     "data": {
      "text/plain": [
       "[[0, 0, 0, 0, 0], [0, 1, 2, 3, 4], [0, 2, 4, 6, 8]]"
      ]
     },
     "execution_count": 59,
     "metadata": {},
     "output_type": "execute_result"
    }
   ],
   "source": [
    "def arr_create(rows, cols):\n",
    "    arr = []\n",
    "    for i in range(rows):\n",
    "        sub_arr = []\n",
    "        for j in range(cols):\n",
    "            sub_arr.append(i*j)\n",
    "        arr.append(sub_arr)\n",
    "    return arr\n",
    "        \n",
    "rows, cols = map(int, input(\"Enter number of rows and columns for array creation, seperated by comma ',' : \").split(\",\"))\n",
    "# cols = 5\n",
    "\n",
    "arr_create(rows,  cols)\n",
    "        "
   ]
  },
  {
   "cell_type": "markdown",
   "metadata": {},
   "source": [
    "### Question 3: \n",
    "Write a program that accepts a comma separated sequence of words as input and prints the words in a comma-separated sequence after sorting them alphabetically.\n",
    "\n",
    "Suppose the following input is supplied to the program:\n",
    "\n",
    "without,hello,bag,world\n",
    "\n",
    "Then, the output should be:\n",
    "\n",
    "bag,hello,without,world\n"
   ]
  },
  {
   "cell_type": "code",
   "execution_count": 66,
   "metadata": {},
   "outputs": [
    {
     "name": "stdout",
     "output_type": "stream",
     "text": [
      "Enter comma seperated sequence of wordswithout,hello,bag,world\n",
      "Sorted sequence of words is: \n",
      "bag,hello,without,world\n"
     ]
    }
   ],
   "source": [
    "lst = input(\"Enter comma seperated sequence of words\").split(\",\")\n",
    "lst.sort()\n",
    "\n",
    "print(\"Sorted sequence of words is: \")\n",
    "print(\",\".join(lst))"
   ]
  },
  {
   "cell_type": "markdown",
   "metadata": {},
   "source": [
    "### Question 4:\n",
    "Write a program that accepts a sequence of whitespace separated words as input and prints the words after removing all duplicate words and sorting them alphanumerically.\n",
    "\n",
    "Suppose the following input is supplied to the program:\n",
    "\n",
    "hello world and practice makes perfect and hello world again\n",
    "\n",
    "Then, the output should be:\n",
    "\n",
    "again and hello makes perfect practice world\n"
   ]
  },
  {
   "cell_type": "code",
   "execution_count": 73,
   "metadata": {},
   "outputs": [
    {
     "name": "stdout",
     "output_type": "stream",
     "text": [
      "Enter sequence of whitespace seperated words: hello world and practice makes perfect and hello world again\n",
      "again and hello makes perfect practice world\n"
     ]
    }
   ],
   "source": [
    "lst = input(\"Enter sequence of whitespace seperated words: \").split(\" \")\n",
    "\n",
    "def remove_duplicate(lst):\n",
    "    \"\"\" It removes duplicated words from the list and returns non-duplicated words list\"\"\"\n",
    "    non_duplicate_lst = []\n",
    "    for i in lst:\n",
    "        if i not in non_duplicate_lst:\n",
    "            non_duplicate_lst.append(i)\n",
    "    return non_duplicate_lst\n",
    "\n",
    "result = sorted(remove_duplicate(lst))\n",
    "print(\" \".join(result))\n",
    "    "
   ]
  },
  {
   "cell_type": "markdown",
   "metadata": {},
   "source": [
    "### Question 5. \n",
    "Write a program that accepts a sentence and calculate the number of letters and digits.\n",
    "\n",
    "Suppose the following input is supplied to the program:\n",
    "\n",
    "hello world! 123\n",
    "\n",
    "Then, the output should be:\n",
    "\n",
    "LETTERS 10\n",
    "\n",
    "DIGITS 3\n"
   ]
  },
  {
   "cell_type": "code",
   "execution_count": 93,
   "metadata": {},
   "outputs": [
    {
     "name": "stdout",
     "output_type": "stream",
     "text": [
      "Enter a string: hello world! 123\n",
      "LETTERS  10 \n",
      "\n",
      "DIGITS 3\n"
     ]
    }
   ],
   "source": [
    "lst = input(\"Enter a string: \")\n",
    "\n",
    "def count_l_and_d(lst):\n",
    "    \"\"\"Count number of letters and digits and returns as tuple\"\"\"\n",
    "    count_l = 0\n",
    "    count_d = 0\n",
    "\n",
    "    for i in lst:\n",
    "        if i.isdigit():\n",
    "            count_d += 1\n",
    "        elif i.isalpha():\n",
    "            count_l += 1\n",
    "    return count_l, count_d\n",
    "\n",
    "l, d = count_l_and_d(lst)\n",
    "\n",
    "print(\"LETTERS \", l, \"\\n\")\n",
    "print(\"DIGITS\", d)"
   ]
  },
  {
   "cell_type": "markdown",
   "metadata": {},
   "source": [
    "### Question 6. \n",
    "A website requires the users to input username and password to register. Write a program to check the validity of password input by users.\n",
    "\n",
    "Following are the criteria for checking the password:\n",
    "\n",
    "1. At least 1 letter between [a-z]\n",
    "\n",
    "2. At least 1 number between [0-9]\n",
    "\n",
    "1. At least 1 letter between [A-Z]\n",
    "\n",
    "3. At least 1 character from [$#@]\n",
    "\n",
    "4. Minimum length of transaction password: 6\n",
    "\n",
    "5. Maximum length of transaction password: 12\n",
    "\n",
    "Your program should accept a sequence of comma separated passwords and will check them according to the above criteria. Passwords that match the criteria are to be printed, each separated by a comma.\n",
    "\n",
    "Example\n",
    "\n",
    "If the following passwords are given as input to the program:\n",
    "\n",
    "ABd1234@1,a F1#,2w3E*,2We3345\n",
    "\n",
    "Then, the output of the program should be:\n",
    "\n",
    "ABd1234@1\n"
   ]
  },
  {
   "cell_type": "code",
   "execution_count": 106,
   "metadata": {},
   "outputs": [
    {
     "name": "stdout",
     "output_type": "stream",
     "text": [
      "Enter passwords whose validity is to be checked: ABd1234@1,a F1#,2w3E*,2We3345\n",
      "ABd1234@1\n"
     ]
    }
   ],
   "source": [
    "import re\n",
    "def is_pwd_valid(p):\n",
    "    \"\"\" Checks the validity of passed password as argument and returns True if it is a valid password otherwise it return False\"\"\"\n",
    "    x = True\n",
    "    result = False\n",
    "    while x:\n",
    "        if len(p) < 6 or len(p) > 12:\n",
    "            break\n",
    "        elif not re.search(\"[A-Z]\", p):\n",
    "            break\n",
    "        elif not re.search(\"[a-z]\", p):\n",
    "            break\n",
    "        elif not re.search(\"[0-9]\", p):\n",
    "            break\n",
    "        elif not re.search(\"[$#@]\", p):\n",
    "            break\n",
    "        else:\n",
    "            result = True\n",
    "            x = False\n",
    "    return result\n",
    "\n",
    "passwords = input(\"Enter passwords whose validity is to be checked: \").split(\",\")\n",
    "\n",
    "for i in passwords:\n",
    "    if is_pwd_valid(i):\n",
    "        print(i)"
   ]
  },
  {
   "cell_type": "code",
   "execution_count": null,
   "metadata": {},
   "outputs": [],
   "source": []
  }
 ],
 "metadata": {
  "kernelspec": {
   "display_name": "Python 3",
   "language": "python",
   "name": "python3"
  },
  "language_info": {
   "codemirror_mode": {
    "name": "ipython",
    "version": 3
   },
   "file_extension": ".py",
   "mimetype": "text/x-python",
   "name": "python",
   "nbconvert_exporter": "python",
   "pygments_lexer": "ipython3",
   "version": "3.8.8"
  }
 },
 "nbformat": 4,
 "nbformat_minor": 4
}
