{
 "cells": [
  {
   "cell_type": "markdown",
   "metadata": {},
   "source": [
    "### Programming Assignment_24\n",
    "### By: Arpan Dutta"
   ]
  },
  {
   "cell_type": "markdown",
   "metadata": {},
   "source": [
    "### Q1. Create a function that takes an integer and returns a list from 1 to the given number, where:\n",
    "1.\tIf the number can be divided evenly by 4, amplify it by 10 (i.e. return 10 times the number).\n",
    "2.\tIf the number cannot be divided evenly by 4, simply return the number.\n",
    "Examples\n",
    "amplify(4) ➞ [1, 2, 3, 40]\n",
    "\n",
    "amplify(3) ➞ [1, 2, 3]\n",
    "\n",
    "amplify(25) ➞ [1, 2, 3, 40, 5, 6, 7, 80, 9, 10, 11, 120, 13, 14, 15, 160, 17, 18, 19, 200, 21, 22, 23, 240, 25]\n",
    "\n",
    "Notes\n",
    "\n",
    "•\tThe given integer will always be equal to or greater than 1.\n",
    "\n",
    "•\tInclude the number (see example above).\n",
    "\n",
    "•\tTo perform this problem with its intended purpose, try doing it with list comprehensions. If that's too difficult, just solve the challenge any way you can.\n"
   ]
  },
  {
   "cell_type": "code",
   "execution_count": 16,
   "metadata": {
    "scrolled": true
   },
   "outputs": [
    {
     "name": "stdout",
     "output_type": "stream",
     "text": [
      "amplify(0) -> Number grater than or equal to 1 is required for this function\n",
      "amplify(4) ->  [1, 2, 3, 40]\n",
      "amplify(25) ->  [1, 2, 3, 40, 5, 6, 7, 80, 9, 10, 11, 120, 13, 14, 15, 160, 17, 18, 19, 200, 21, 22, 23, 240, 25]\n"
     ]
    }
   ],
   "source": [
    "#define function\n",
    "def amplify(num):\n",
    "    if num >=1:\n",
    "        return [x if x % 4 != 0 else x*10 for x in range(1, num + 1)]\n",
    "    else:\n",
    "        return \"Number grater than or equal to 1 is required for this function\"\n",
    "\n",
    "print(\"amplify(0) ->\", amplify(0))\n",
    "\n",
    "print(\"amplify(4) -> \", amplify(4))\n",
    "\n",
    "print(\"amplify(25) -> \", amplify(25))"
   ]
  },
  {
   "cell_type": "markdown",
   "metadata": {},
   "source": [
    "### Q2. Create a function that takes a list of numbers and return the number that's unique.\n",
    "Examples\n",
    "unique([3, 3, 3, 7, 3, 3]) ➞ 7\n",
    "\n",
    "unique([0, 0, 0.77, 0, 0]) ➞ 0.77\n",
    "\n",
    "unique([0, 1, 1, 1, 1, 1, 1, 1]) ➞ 0\n",
    "Notes\n",
    "Test cases will always have exactly one unique number while all others are the same.\n"
   ]
  },
  {
   "cell_type": "code",
   "execution_count": 23,
   "metadata": {
    "scrolled": false
   },
   "outputs": [
    {
     "name": "stdout",
     "output_type": "stream",
     "text": [
      "unique([3, 3, 3, 7, 3, 3] ->  7\n",
      "unique([0, 0, 0.77, 0, 0]) ->  0.77\n",
      "unique([0, 1, 1, 1, 1, 1, 1, 1]) ->  0\n"
     ]
    }
   ],
   "source": [
    "#define function\n",
    "def unique(lst):\n",
    "    temp_dict = {}\n",
    "    for i in lst:\n",
    "        if i not in temp_dict:\n",
    "            temp_dict[i] = 1\n",
    "        else:\n",
    "            temp_dict[i] += 1\n",
    "    \n",
    "    for i, j in temp_dict.items():\n",
    "        if j == 1:\n",
    "            return i\n",
    "    return \"No unique value\" \n",
    "        \n",
    "print(\"unique([3, 3, 3, 7, 3, 3] -> \", unique([3, 3, 3, 7, 3, 3]))\n",
    "print(\"unique([0, 0, 0.77, 0, 0]) -> \", unique([0, 0, 0.77, 0, 0]))\n",
    "print(\"unique([0, 1, 1, 1, 1, 1, 1, 1]) -> \", unique([0, 1, 1, 1, 1, 1, 1, 1]))"
   ]
  },
  {
   "cell_type": "markdown",
   "metadata": {},
   "source": [
    "### Q3.. Your task is to create a Circle constructor that creates a circle with a radius provided by an argument. The circles constructed must have two getters getArea() (PIr^2) and getPerimeter() (2PI*r) which give both respective areas and perimeter (circumference).\n",
    "For help with this class, I have provided you with a Rectangle constructor which you can use as a base example.\n",
    "Examples\n",
    "circy = Circle(11)\n",
    "circy.getArea()\n",
    "\n",
    "Should return 380.132711084365\n",
    "\n",
    "circy = Circle(4.44)\n",
    "circy.getPerimeter()\n",
    "\n",
    "Should return 27.897342763877365\n",
    "Notes\n",
    "Round results up to the nearest integer.\n"
   ]
  },
  {
   "cell_type": "code",
   "execution_count": 34,
   "metadata": {
    "scrolled": true
   },
   "outputs": [
    {
     "name": "stdout",
     "output_type": "stream",
     "text": [
      "380.1327110843649\n",
      "27.897342763877365\n"
     ]
    }
   ],
   "source": [
    "import math\n",
    "class Circle:\n",
    "    def __init__(self, radius):\n",
    "        self.r = radius\n",
    "    \n",
    "    def getArea(self):\n",
    "        return math.pi * self.r * self.r\n",
    "    \n",
    "    def getPerimeter(self):\n",
    "        return 2 * math.pi * self.r\n",
    "\n",
    "#test class and fucntions\n",
    "circy = Circle(11)\n",
    "print(circy.getArea())\n",
    "\n",
    "circy = Circle(4.44)\n",
    "print(circy.getPerimeter())"
   ]
  },
  {
   "cell_type": "markdown",
   "metadata": {},
   "source": [
    "### Q4.Create a function that takes a list of strings and return a list, sorted from shortest to longest.\n",
    "Examples\n",
    "sort_by_length([\"Google\", \"Apple\", \"Microsoft\"])\n",
    "➞ [\"Apple\", \"Google\", \"Microsoft\"]\n",
    "\n",
    "sort_by_length([\"Leonardo\", \"Michelangelo\", \"Raphael\", \"Donatello\"])\n",
    "➞ [\"Raphael\", \"Leonardo\", \"Donatello\", \"Michelangelo\"]\n",
    "\n",
    "sort_by_length([\"Turing\", \"Einstein\", \"Jung\"])\n",
    "➞ [\"Jung\", \"Turing\", \"Einstein\"]\n",
    "Notes\n",
    "All test cases contain lists with strings of different lengths, so you won't have to deal with multiple strings of the same length.\n"
   ]
  },
  {
   "cell_type": "code",
   "execution_count": 56,
   "metadata": {
    "scrolled": true
   },
   "outputs": [
    {
     "name": "stdout",
     "output_type": "stream",
     "text": [
      "sort_by_length([\"Google\", \"Apple\", \"Microsoft\"] ->  ['Apple', 'Google', 'Microsoft']\n",
      "sort_by_length([\"Leonardo\", \"Michelangelo\", \"Raphael\", \"Donatello\"]) ->  ['Raphael', 'Leonardo', 'Donatello', 'Michelangelo']\n",
      "sort_by_length([\"Turing\", \"Einstein\", \"Jung\"]) ->  ['Jung', 'Turing', 'Einstein']\n"
     ]
    }
   ],
   "source": [
    "#define function\n",
    "def sort_by_length(lst):\n",
    "    new_dict = {}\n",
    "    \n",
    "    for i in lst:\n",
    "        if i not in new_dict.keys():\n",
    "            new_dict[i] = len(i)\n",
    "    \n",
    "    new_dict = {k: v for k, v in sorted(new_dict.items(), key = lambda item: item[1])}\n",
    "    \n",
    "    return list(new_dict.keys())\n",
    "\n",
    "\n",
    "#test fucntion\n",
    "print('sort_by_length([\"Google\", \"Apple\", \"Microsoft\"] -> ', sort_by_length([\"Google\", \"Apple\", \"Microsoft\"]))\n",
    "\n",
    "print('sort_by_length([\"Leonardo\", \"Michelangelo\", \"Raphael\", \"Donatello\"]) -> ', sort_by_length([\"Leonardo\", \"Michelangelo\", \"Raphael\", \"Donatello\"]))\n",
    "\n",
    "print('sort_by_length([\"Turing\", \"Einstein\", \"Jung\"]) -> ', sort_by_length([\"Turing\", \"Einstein\", \"Jung\"]))"
   ]
  },
  {
   "cell_type": "markdown",
   "metadata": {},
   "source": [
    "### Q5. Create a function that validates whether three given integers form a Pythagorean triplet. The sum of the squares of the two smallest integers must equal the square of the largest number to be validated.\n",
    "\n",
    "\n",
    "Examples\n",
    "is_triplet(3, 4, 5) ➞ True\n",
    "3² + 4² = 25\n",
    "5² = 25\n",
    "\n",
    "is_triplet(13, 5, 12) ➞ True\n",
    "5² + 12² = 169\n",
    "13² = 169\n",
    "\n",
    "is_triplet(1, 2, 3) ➞ False\n",
    "1² + 2² = 5\n",
    "3² = 9\n",
    "Notes\n",
    "Numbers may not be given in a sorted order.\n",
    "\n",
    "\n"
   ]
  },
  {
   "cell_type": "code",
   "execution_count": 60,
   "metadata": {},
   "outputs": [
    {
     "name": "stdout",
     "output_type": "stream",
     "text": [
      "is_triplet(3, 4, 5) ->  True\n",
      "is_triplet(13, 5, 12) ->  True\n",
      "is_triplet(1, 2, 3) ->   False\n"
     ]
    }
   ],
   "source": [
    "#define fucntion\n",
    "def is_triplet(num1, num2, num3):\n",
    "    if num1**2 == (num2**2 + num3**2) or num2**2 == (num1**2 + num3**2) or num3**2 == (num1**2 + num2**2):\n",
    "        return True\n",
    "    else:\n",
    "        return False\n",
    "\n",
    "print(\"is_triplet(3, 4, 5) -> \", is_triplet(3, 4, 5))    \n",
    "            \n",
    "print(\"is_triplet(13, 5, 12) -> \", is_triplet(13, 5, 12))  \n",
    "\n",
    "print(\"is_triplet(1, 2, 3) ->  \", is_triplet(1, 2, 3))"
   ]
  }
 ],
 "metadata": {
  "celltoolbar": "Raw Cell Format",
  "kernelspec": {
   "display_name": "Python 3",
   "language": "python",
   "name": "python3"
  },
  "language_info": {
   "codemirror_mode": {
    "name": "ipython",
    "version": 3
   },
   "file_extension": ".py",
   "mimetype": "text/x-python",
   "name": "python",
   "nbconvert_exporter": "python",
   "pygments_lexer": "ipython3",
   "version": "3.8.8"
  }
 },
 "nbformat": 4,
 "nbformat_minor": 4
}
