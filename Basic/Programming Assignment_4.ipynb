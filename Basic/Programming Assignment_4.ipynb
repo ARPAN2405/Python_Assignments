{
 "cells": [
  {
   "cell_type": "markdown",
   "metadata": {},
   "source": [
    "## Programming Assignment_4\n",
    "### By: Arpan Dutta"
   ]
  },
  {
   "cell_type": "markdown",
   "metadata": {},
   "source": [
    "### Q1 Find the Factorial of a Number?"
   ]
  },
  {
   "cell_type": "code",
   "execution_count": 40,
   "metadata": {},
   "outputs": [
    {
     "name": "stdout",
     "output_type": "stream",
     "text": [
      "Enter an integer whose factorial is to be calculated 5\n",
      " Factorial of 5 is = 120\n"
     ]
    }
   ],
   "source": [
    "# Find the Factorial of a Number\n",
    "def fact(num):\n",
    "    if num == 0 or num == 1:\n",
    "        return 1\n",
    "    return num * fact(num - 1)\n",
    "\n",
    "num = int(input(\"Enter an integer whose factorial is to be calculated \"))\n",
    "print(\" Factorial of {} is = {}\".format(num, fact(num)))"
   ]
  },
  {
   "cell_type": "markdown",
   "metadata": {},
   "source": [
    "### Q2 Program to Display the multiplication Table?"
   ]
  },
  {
   "cell_type": "code",
   "execution_count": 42,
   "metadata": {},
   "outputs": [
    {
     "name": "stdout",
     "output_type": "stream",
     "text": [
      "Enter a number whose table is to be displayed 2\n",
      "Table of 2 is: \n",
      "2 X 1 = 2\n",
      "2 X 2 = 4\n",
      "2 X 3 = 6\n",
      "2 X 4 = 8\n",
      "2 X 5 = 10\n",
      "2 X 6 = 12\n",
      "2 X 7 = 14\n",
      "2 X 8 = 16\n",
      "2 X 9 = 18\n",
      "2 X 10 = 20\n"
     ]
    }
   ],
   "source": [
    "# Program to Display the multiplication Table\n",
    "num = int(input(\"Enter a number whose table is to be displayed \"))\n",
    "\n",
    "print(\"Table of {} is: \".format(num))\n",
    "for i in range(1,11):\n",
    "    print(\"{} X {} = {}\".format(num, i, num * i))\n"
   ]
  },
  {
   "cell_type": "markdown",
   "metadata": {},
   "source": [
    "### Q3 Program to Print the Fibonacci sequence?"
   ]
  },
  {
   "cell_type": "code",
   "execution_count": 49,
   "metadata": {},
   "outputs": [
    {
     "name": "stdout",
     "output_type": "stream",
     "text": [
      "Upto which number Fibonacci sequence to be printed? 9\n",
      "Fibonacci Sequence: \n",
      "0 1 1 2 3 5 8 "
     ]
    }
   ],
   "source": [
    "# Program to Print the Fibonacci sequence\n",
    "\n",
    "num = int(input(\"Upto which number Fibonacci sequence to be printed? \"))\n",
    "\n",
    "def fibonacci_n(num):\n",
    "    num1 = 0\n",
    "    num2 = 1\n",
    "    print(\"Fibonacci Sequence: \")\n",
    "    print(num1, num2, end = \" \")\n",
    "    \n",
    "    num3 = num1 + num2\n",
    "    \n",
    "    while num3 < num:\n",
    "        print(num3, end = \" \")\n",
    "        num1 = num2\n",
    "        num2 = num3\n",
    "        num3 = num1 + num2\n",
    "\n",
    "fibonacci_n(num)"
   ]
  },
  {
   "cell_type": "markdown",
   "metadata": {},
   "source": [
    "### Q4 Program to Check Armstrong Number?"
   ]
  },
  {
   "cell_type": "code",
   "execution_count": 60,
   "metadata": {},
   "outputs": [
    {
     "name": "stdout",
     "output_type": "stream",
     "text": [
      "Enter a number which is to be check for Armstrong number 407\n",
      "407 is an Armstrong Number!\n"
     ]
    }
   ],
   "source": [
    "# Program to Check Armstrong Number\n",
    "def is_armstrong(num):\n",
    "    temp = num\n",
    "    sum_num = 0\n",
    "    while temp > 0:\n",
    "        last_digit = temp % 10\n",
    "        sum_num += last_digit ** 3\n",
    "        temp = temp // 10\n",
    "    if num == sum_num:\n",
    "        return True      \n",
    "    else:\n",
    "        return False\n",
    "\n",
    "num = int(input(\"Enter a number which is to be check for Armstrong number \"))\n",
    "if is_armstrong(num):\n",
    "    print(\"{} is an Armstrong Number!\".format(num))\n",
    "else:\n",
    "    print(\"{} is NOT an Armstrong Number!\".format(num))"
   ]
  },
  {
   "cell_type": "markdown",
   "metadata": {},
   "source": [
    "### Q5 Program to Find Armstrong Number in an Interval?"
   ]
  },
  {
   "cell_type": "code",
   "execution_count": 58,
   "metadata": {},
   "outputs": [
    {
     "name": "stdout",
     "output_type": "stream",
     "text": [
      "Enter lower limit of interval, which is to be check for Armstrong number 2\n",
      "Enter higher limit of interval, which is to be check for Armstrong number 1000\n",
      "Armstrong numbers between 2 and 1000 are: \n",
      "153\n",
      "370\n",
      "371\n",
      "407\n"
     ]
    }
   ],
   "source": [
    "# Program to Find Armstrong Number in an Interval\n",
    "\n",
    "def is_armstrong(num):\n",
    "    temp = num\n",
    "    sum_num = 0\n",
    "    while temp > 0:\n",
    "        last_digit = temp % 10\n",
    "        sum_num += last_digit ** 3\n",
    "        temp = temp // 10\n",
    "    if num == sum_num:\n",
    "        return True\n",
    "    else:\n",
    "        return False\n",
    "\n",
    "num_lower = int(input(\"Enter lower limit of interval, which is to be check for Armstrong number \"))\n",
    "num_higher = int(input(\"Enter higher limit of interval, which is to be check for Armstrong number \"))\n",
    "\n",
    "print(\"Armstrong numbers between {} and {} are: \".format(num_lower, num_higher))\n",
    "for i in range(num_lower, num_higher + 1):\n",
    "    if is_armstrong(i):\n",
    "        print(i)"
   ]
  },
  {
   "cell_type": "markdown",
   "metadata": {},
   "source": [
    "### Q6 Program to Find the Sum of Natural Numbers?"
   ]
  },
  {
   "cell_type": "code",
   "execution_count": 62,
   "metadata": {},
   "outputs": [
    {
     "name": "stdout",
     "output_type": "stream",
     "text": [
      "Enter for how many natural numbers, sum is to be calculated? 5\n"
     ]
    },
    {
     "data": {
      "text/plain": [
       "15.0"
      ]
     },
     "execution_count": 62,
     "metadata": {},
     "output_type": "execute_result"
    }
   ],
   "source": [
    "# sum of n natural numbers\n",
    "# Below code is BETTER THAN alternate solution in next cell, as far as time complexity is concerned\n",
    "def sum_natural(num):\n",
    "    return num*(num+1)*(1/2)\n",
    "\n",
    "num = int(input(\"Enter for how many natural numbers, sum is to be calculated? \"))\n",
    "sum_natural(num)"
   ]
  },
  {
   "cell_type": "code",
   "execution_count": 63,
   "metadata": {},
   "outputs": [
    {
     "name": "stdout",
     "output_type": "stream",
     "text": [
      "Enter for how many natural numbers, sum is to be calculated? 5\n"
     ]
    },
    {
     "data": {
      "text/plain": [
       "15"
      ]
     },
     "execution_count": 63,
     "metadata": {},
     "output_type": "execute_result"
    }
   ],
   "source": [
    "# Alternate way to calculate sum of n natural numbers\n",
    "def sum_natural_alt(num):\n",
    "    sum = 0\n",
    "    for i in range(1, num+1):\n",
    "        sum += i\n",
    "    return sum\n",
    "num = int(input(\"Enter for how many natural numbers, sum is to be calculated? \"))\n",
    "sum_natural_alt(num)"
   ]
  }
 ],
 "metadata": {
  "kernelspec": {
   "display_name": "Python 3",
   "language": "python",
   "name": "python3"
  },
  "language_info": {
   "codemirror_mode": {
    "name": "ipython",
    "version": 3
   },
   "file_extension": ".py",
   "mimetype": "text/x-python",
   "name": "python",
   "nbconvert_exporter": "python",
   "pygments_lexer": "ipython3",
   "version": "3.8.3"
  }
 },
 "nbformat": 4,
 "nbformat_minor": 4
}
