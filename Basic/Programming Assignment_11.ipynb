{
 "cells": [
  {
   "cell_type": "markdown",
   "metadata": {},
   "source": [
    "## Programming Assignment_11\n",
    "### By: Arpan Dutta"
   ]
  },
  {
   "cell_type": "markdown",
   "metadata": {},
   "source": [
    "### Q1. Write a Python program to find words which are greater than given length k?"
   ]
  },
  {
   "cell_type": "code",
   "execution_count": 8,
   "metadata": {},
   "outputs": [
    {
     "name": "stdout",
     "output_type": "stream",
     "text": [
      "Sum of all elements in list: [1, 2, 3, 4, 5, 6] is = 21\n"
     ]
    }
   ],
   "source": [
    "# Write a Python program to find words which are greater than given length k\n"
   ]
  },
  {
   "cell_type": "markdown",
   "metadata": {},
   "source": [
    "### Q2. Write a Python program for removing i-th character from a string?"
   ]
  },
  {
   "cell_type": "code",
   "execution_count": 10,
   "metadata": {},
   "outputs": [
    {
     "name": "stdout",
     "output_type": "stream",
     "text": [
      "After removing 1st/th/rd chracter from 'Hi, this is a test string', string becomes = H, this is a test string\n"
     ]
    }
   ],
   "source": [
    "# Write a Python program for removing i-th character from a string\n",
    "# import copy\n",
    "def remove_str(orig_str, i):\n",
    "    before_str = orig_str[:i]\n",
    "    after_str = orig_str[i+1:]\n",
    "    return before_str + after_str\n",
    "\n",
    "orig_str = \"Hi, this is a test string\"\n",
    "idx = 1\n",
    "new_str = remove_str(orig_str, idx)\n",
    "print(\"After removing {}st/th/rd chracter from '{}', string becomes = {}\".format(idx, orig_str, new_str))\n",
    "        "
   ]
  },
  {
   "cell_type": "markdown",
   "metadata": {},
   "source": [
    "### Q3. Write a Python program to split and join a string?"
   ]
  },
  {
   "cell_type": "code",
   "execution_count": 27,
   "metadata": {},
   "outputs": [
    {
     "name": "stdout",
     "output_type": "stream",
     "text": [
      "After splitting the string and storing in list, we get list:  ['This', 'is', 'a', 'test', 'string']\n",
      "After joining '-' in the string, we get new string as: This-is-a-test-string\n"
     ]
    }
   ],
   "source": [
    "# Write a Python program to split and join a string\n",
    "#split\n",
    "test_str = \"This is a test string\"\n",
    "str_split = test_str.split(\" \")\n",
    "print(\"After splitting the string and storing in list, we get list: \", str_split)\n",
    "\n",
    "#join\n",
    "new_str = \"-\".join(str_split)\n",
    "print(\"After joining '-' in the string, we get new string as:\", new_str)"
   ]
  },
  {
   "cell_type": "markdown",
   "metadata": {},
   "source": [
    "### Q4. Write a Python to check if a given string is binary string or not?"
   ]
  },
  {
   "cell_type": "code",
   "execution_count": 47,
   "metadata": {},
   "outputs": [
    {
     "name": "stdout",
     "output_type": "stream",
     "text": [
      "Yes, 01011101 is a binary string!\n"
     ]
    }
   ],
   "source": [
    "# Write a Python to check if a given string is binary string or not\n",
    "def is_str_binary(str):\n",
    "    temp_set = set(str) # converted to set to remove duplicates\n",
    "    temp_bin = {'0', '1'} # In binary we have only 0 and 1\n",
    "    \n",
    "    if temp_set.difference(temp_bin) == set():\n",
    "        return True\n",
    "    return False\n",
    "\n",
    "\n",
    "test_str = '01011101'\n",
    "if is_str_binary(test_str):\n",
    "    print(\"Yes, {} is a binary string!\".format(test_str))\n",
    "else:\n",
    "    print(\"NO, {} is NOT a binary string!\")"
   ]
  },
  {
   "cell_type": "markdown",
   "metadata": {},
   "source": [
    "### Q5. Write a Python program to find uncommon words from two Strings?"
   ]
  },
  {
   "cell_type": "code",
   "execution_count": 67,
   "metadata": {},
   "outputs": [
    {
     "name": "stdout",
     "output_type": "stream",
     "text": [
      "Test string 1: This is a test string 1 for comparing with other string \n",
      "Test string 2: This is a test string 2 \n",
      "\n",
      "Uncommon word from above two test strings are: {'2', 'for', 'other', 'with', '1', 'comparing'}\n"
     ]
    }
   ],
   "source": [
    "# Write a Python program to find uncommon words from two Strings\n",
    "\n",
    "def uncommon_word(test_str1, test_str2):\n",
    "    test_str_list1 = test_str1.split()\n",
    "    test_str_list2 = test_str2.split()\n",
    "        \n",
    "    test_list_set1 = set(test_str_list1)\n",
    "    test_list_set2 = set(test_str_list2)\n",
    "    \n",
    "    return test_list_set1.symmetric_difference(test_list_set2)\n",
    "\n",
    "test_str1 = \"This is a test string 1 for comparing with other string\"\n",
    "test_str2 = \"This is a test string 2\"\n",
    "\n",
    "\n",
    "print(\"Test string 1: {} \\nTest string 2: {} \\n\".format(test_str1, test_str2))\n",
    "print(\"Uncommon word from above two test strings are: {}\".format(uncommon_word(test_str1, test_str2)))\n"
   ]
  },
  {
   "cell_type": "markdown",
   "metadata": {},
   "source": [
    "### Q6. Write a Python to find all duplicate characters in string?"
   ]
  },
  {
   "cell_type": "code",
   "execution_count": 79,
   "metadata": {},
   "outputs": [
    {
     "name": "stdout",
     "output_type": "stream",
     "text": [
      "Duplicates in thestring: 'programming' are: \n",
      "['r', 'g', 'm']\n"
     ]
    }
   ],
   "source": [
    "# Write a Python to find all duplicate characters in string\n",
    "def duplicate_char_in_str(test_str):\n",
    "    temp_list = []\n",
    "    for i in test_str:\n",
    "        if test_str.count(i) > 1:\n",
    "            if i not in temp_list:\n",
    "                temp_list.append(i)\n",
    "    return temp_list\n",
    "\n",
    "test_str = \"programming\"\n",
    "print(\"Duplicates in thestring: '{}' are: \\n{}\".format(test_str, duplicate_char_in_str(test_str)))"
   ]
  },
  {
   "cell_type": "markdown",
   "metadata": {},
   "source": [
    "### Q7. Write a Python Program to check if a string contains any special character?"
   ]
  },
  {
   "cell_type": "code",
   "execution_count": 4,
   "metadata": {},
   "outputs": [
    {
     "name": "stdout",
     "output_type": "stream",
     "text": [
      "Test String = 'This is a $test string' \n",
      "It contains special chracter!\n"
     ]
    }
   ],
   "source": [
    "# Write a Python Program to check if a string contains any special character\n",
    "import re\n",
    "def spl_char_string(test_str):\n",
    "    regex = re.compile('[@_!#$%^&*()<>?/\\|}{~:]')\n",
    "    if(regex.search(test_str) == None):\n",
    "        return True\n",
    "          \n",
    "    else:\n",
    "        return False\n",
    "    \n",
    "test_str = \"This is a $test string\"\n",
    "if spl_char_string(test_str):\n",
    "    print(\"Test String: '{}' \\n It does NOT contain special chracter!\". format(test_str))\n",
    "else:\n",
    "    print(\"Test String = '{}' \\nIt contains special chracter!\".format(test_str))"
   ]
  },
  {
   "cell_type": "code",
   "execution_count": null,
   "metadata": {},
   "outputs": [],
   "source": []
  }
 ],
 "metadata": {
  "kernelspec": {
   "display_name": "Python 3",
   "language": "python",
   "name": "python3"
  },
  "language_info": {
   "codemirror_mode": {
    "name": "ipython",
    "version": 3
   },
   "file_extension": ".py",
   "mimetype": "text/x-python",
   "name": "python",
   "nbconvert_exporter": "python",
   "pygments_lexer": "ipython3",
   "version": "3.8.3"
  }
 },
 "nbformat": 4,
 "nbformat_minor": 4
}
