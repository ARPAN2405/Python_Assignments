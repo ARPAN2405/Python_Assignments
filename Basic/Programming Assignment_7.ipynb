{
 "cells": [
  {
   "cell_type": "markdown",
   "metadata": {},
   "source": [
    "## Programming Assignment_7\n",
    "### By: Arpan Dutta"
   ]
  },
  {
   "cell_type": "markdown",
   "metadata": {},
   "source": [
    "### Q1. Write a Python Program to find sum of array?"
   ]
  },
  {
   "cell_type": "code",
   "execution_count": 10,
   "metadata": {},
   "outputs": [
    {
     "name": "stdout",
     "output_type": "stream",
     "text": [
      "How many elements you want to enter in an array? 6\n",
      "Enter element number 0: 1\n",
      "Enter element number 1: 2\n",
      "Enter element number 2: 3\n",
      "Enter element number 3: 4\n",
      "Enter element number 4: 5\n",
      "Enter element number 5: 6\n",
      "Sum of array elements is = 21 \n"
     ]
    }
   ],
   "source": [
    "# Write a Python Program to find sum of array\n",
    "def sum_arr(arr):\n",
    "    sum_ar = 0\n",
    "    for i in arr:\n",
    "        sum_ar += i\n",
    "    return sum_ar\n",
    "\n",
    "no_of_elements = int(input(\"How many elements you want to enter in an array? \"))\n",
    "my_arr = []\n",
    "for i in range(no_of_elements):\n",
    "    my_arr.append(int(input(\"Enter element number {}: \".format(i))))\n",
    "\n",
    "print(\"Sum of array elements is = {} \".format(sum_arr(my_arr)))"
   ]
  },
  {
   "cell_type": "markdown",
   "metadata": {},
   "source": [
    "### Q2. Write a Python Program to find largest element in an array?"
   ]
  },
  {
   "cell_type": "code",
   "execution_count": 12,
   "metadata": {},
   "outputs": [
    {
     "name": "stdout",
     "output_type": "stream",
     "text": [
      "How many elements you want to enter in an array? 6\n",
      "Enter element number 0: 1\n",
      "Enter element number 1: 2\n",
      "Enter element number 2: 3\n",
      "Enter element number 3: 4\n",
      "Enter element number 4: 5\n",
      "Enter element number 5: 6\n",
      "Largest element of entered array is = 6 \n"
     ]
    }
   ],
   "source": [
    "# Write a Python Program to find largest element in an array\n",
    "def max_arr(arr):\n",
    "    max_ar = 0\n",
    "    for i in arr:\n",
    "        if i > max_ar:\n",
    "            max_ar = i\n",
    "    return max_ar\n",
    "\n",
    "no_of_elements = int(input(\"How many elements you want to enter in an array? \"))\n",
    "my_arr = []\n",
    "for i in range(no_of_elements):\n",
    "    my_arr.append(int(input(\"Enter element number {}: \".format(i))))\n",
    "\n",
    "print(\"Largest element of entered array is = {} \".format(max_arr(my_arr)))"
   ]
  },
  {
   "cell_type": "markdown",
   "metadata": {},
   "source": [
    "### Q2. ALTERNATE SOLUTION: Write a Python Program to find largest element in an array?"
   ]
  },
  {
   "cell_type": "code",
   "execution_count": 13,
   "metadata": {},
   "outputs": [
    {
     "name": "stdout",
     "output_type": "stream",
     "text": [
      "How many elements you want to enter in an array? 6\n",
      "Enter element number 0: 1\n",
      "Enter element number 1: 2\n",
      "Enter element number 2: 3\n",
      "Enter element number 3: 4\n",
      "Enter element number 4: 5\n",
      "Enter element number 5: 6\n",
      "Largest element of entered array is = 6 \n"
     ]
    }
   ],
   "source": [
    "# ALTERNATE SOLUTION: Write a Python Program to find largest element in an array\n",
    "no_of_elements = int(input(\"How many elements you want to enter in an array? \"))\n",
    "my_arr = []\n",
    "for i in range(no_of_elements):\n",
    "    my_arr.append(int(input(\"Enter element number {}: \".format(i))))\n",
    "\n",
    "print(\"Largest element of entered array is = {} \".format(max(my_arr)))"
   ]
  },
  {
   "cell_type": "markdown",
   "metadata": {},
   "source": [
    "### Q3. Write a Python Program for array rotation?"
   ]
  },
  {
   "cell_type": "code",
   "execution_count": 31,
   "metadata": {},
   "outputs": [
    {
     "name": "stdout",
     "output_type": "stream",
     "text": [
      "How many elements you want to rotate in the array?: 2\n",
      "Array after 2 rotations is [3, 4, 5, 6, 1, 2]\n"
     ]
    }
   ],
   "source": [
    "# Write a Python Program for array rotation\n",
    "# Rotate array of length n by d elements\n",
    "def rotate_arr(arr, d):\n",
    "    temp = []\n",
    "    if len(arr) - d > 0:\n",
    "        for i in range(d):\n",
    "            temp.append(arr.pop(0))\n",
    "    \n",
    "        for i in temp:\n",
    "            arr.append(i)\n",
    "    \n",
    "    elif len(arr) - d < 0:\n",
    "        for i in range(d - len(arr)):\n",
    "            temp.append(arr.pop(0))\n",
    "        for i in temp:\n",
    "            arr.append(i)\n",
    "\n",
    "    return arr\n",
    "\n",
    "my_arr = [1, 2, 3, 4, 5, 6]\n",
    "d = int(input(\"How many elements you want to rotate in the array?: \"))\n",
    "\n",
    "print(\"Array after {} rotations is {}\".format(d, rotate_arr(my_arr, d)))"
   ]
  },
  {
   "cell_type": "markdown",
   "metadata": {},
   "source": [
    "### Q4. Write a Python Program to Split the array and add the first part to the end?"
   ]
  },
  {
   "cell_type": "code",
   "execution_count": 32,
   "metadata": {},
   "outputs": [
    {
     "name": "stdout",
     "output_type": "stream",
     "text": [
      "How many elements you want to split and add at the end in the array?: 2\n",
      "Array after splitting 2 elements from start and adding the same at the end is [3, 4, 5, 6, 1, 2]\n"
     ]
    }
   ],
   "source": [
    "# Write a Python Program to Split the array and add the first part to the end\n",
    "def rotate_arr(arr, d):\n",
    "    temp = []\n",
    "    if len(arr) - d > 0:\n",
    "        for i in range(d):\n",
    "            temp.append(arr.pop(0))\n",
    "    \n",
    "        for i in temp:\n",
    "            arr.append(i)\n",
    "    \n",
    "    elif len(arr) - d < 0:\n",
    "        for i in range(d - len(arr)):\n",
    "            temp.append(arr.pop(0))\n",
    "        for i in temp:\n",
    "            arr.append(i)\n",
    "\n",
    "    return arr\n",
    "\n",
    "my_arr = [1, 2, 3, 4, 5, 6]\n",
    "\n",
    "d = int(input(\"How many elements you want to split and add at the end in the array?: \"))\n",
    "\n",
    "print(\"Array after splitting {} elements from start and adding the same at the end is {}\".format(d, rotate_arr(my_arr, d)))"
   ]
  },
  {
   "cell_type": "markdown",
   "metadata": {},
   "source": [
    "### Q5. Write a Python Program to check if given array is Monotonic?"
   ]
  },
  {
   "cell_type": "code",
   "execution_count": 77,
   "metadata": {},
   "outputs": [
    {
     "name": "stdout",
     "output_type": "stream",
     "text": [
      "True\n"
     ]
    }
   ],
   "source": [
    "def isMonotonic(A): \n",
    "  \n",
    "    return (all(A[i] <= A[i + 1] for i in range(len(A) - 1)) or\n",
    "            all(A[i] >= A[i + 1] for i in range(len(A) - 1))) \n",
    "  \n",
    "# Driver program \n",
    "A = [1, 2, 3, 4, 5, 6] \n",
    "  \n",
    "# Print required result \n",
    "print(isMonotonic(A))"
   ]
  },
  {
   "cell_type": "code",
   "execution_count": null,
   "metadata": {},
   "outputs": [],
   "source": []
  }
 ],
 "metadata": {
  "kernelspec": {
   "display_name": "Python 3",
   "language": "python",
   "name": "python3"
  },
  "language_info": {
   "codemirror_mode": {
    "name": "ipython",
    "version": 3
   },
   "file_extension": ".py",
   "mimetype": "text/x-python",
   "name": "python",
   "nbconvert_exporter": "python",
   "pygments_lexer": "ipython3",
   "version": "3.8.3"
  }
 },
 "nbformat": 4,
 "nbformat_minor": 4
}
